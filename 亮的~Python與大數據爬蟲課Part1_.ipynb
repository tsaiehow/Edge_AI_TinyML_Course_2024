{
  "nbformat": 4,
  "nbformat_minor": 0,
  "metadata": {
    "colab": {
      "provenance": [],
      "include_colab_link": true
    },
    "kernelspec": {
      "name": "python3",
      "display_name": "Python 3"
    },
    "language_info": {
      "name": "python"
    }
  },
  "cells": [
    {
      "cell_type": "markdown",
      "metadata": {
        "id": "view-in-github",
        "colab_type": "text"
      },
      "source": [
        "<a href=\"https://colab.research.google.com/github/tsaiehow/Edge_AI_TinyML_Course_2024/blob/main/%E4%BA%AE%E7%9A%84~Python%E8%88%87%E5%A4%A7%E6%95%B8%E6%93%9A%E7%88%AC%E8%9F%B2%E8%AA%B2Part1_.ipynb\" target=\"_parent\"><img src=\"https://colab.research.google.com/assets/colab-badge.svg\" alt=\"Open In Colab\"/></a>"
      ]
    },
    {
      "cell_type": "markdown",
      "source": [
        "#亮的~Python與大數據爬蟲課"
      ],
      "metadata": {
        "id": "K4FyzPoGXW0o"
      }
    },
    {
      "cell_type": "markdown",
      "source": [
        "###解決GoogleColab繪圖正常顯示繁體中文\n",
        "##1.下載台北思源黑體，路徑為\n",
        "#https://drive.google.com/file/d/1Om8izPz02Msc15onhS_ki1lrlAIf05Pd/view?usp=drive_web\n",
        "##2.上傳至雲端硬碟的Colab Notebook目錄下\n",
        "\n",
        "##3.執行以下程式\n",
        "\n",
        "##4.各種文字輸出的函數加入fontproperties屬性，如:\n",
        "\n",
        "plt.title(\"自訂標題\", fontproperties=myfont)\n",
        "# 設置圖表的主標題為「自訂標題」，並使用自訂的繁體中文字體\n",
        "plt.ylabel(\"自訂y軸\", fontproperties=myfont)\n",
        "# 設置y軸標籤為「自訂y軸」，並使用自訂的繁體中文字體\n",
        "plt.xlabel(\"自訂x軸\", fontproperties=myfont)\n",
        "# 設置x軸標籤為「自訂x軸」，並使用自訂的繁體中文字體\n",
        "ax.annotate('註解說明', fontproperties=myfont)\n",
        "# 在圖表上增加文字註解「註解說明」，並使用自訂的繁體中文字體\n",
        "ax.set_title('自訂標題', fontproperties=myfont)\n",
        "# 設置子圖表的主標題為「自訂標題」，並使用自訂的繁體中文字體\n",
        "ax.set_xlabel('自訂x軸', fontproperties=myfont)\n",
        "# 設置子圖表的x軸標籤為「自訂x軸」，並使用自訂的繁體中文字體\n",
        "ax.set_ylabel('自訂y軸', fontproperties=myfont)\n",
        "# 設置子圖表的y軸標籤為「自訂y軸」，並使用自訂的繁體中文字體\n",
        "\n",
        "\n",
        "複製cell並執行即可\n",
        "\n",
        "例如: plt.title(\"你好，亮亮\", fontproperties=font)"
      ],
      "metadata": {
        "id": "X7i0kipGfqPg"
      }
    },
    {
      "cell_type": "code",
      "source": [
        "# 下載台北思源黑體並命名為 TaipeiSansTCBeta-Bold.ttf\n",
        "!wget --no-check-certificate 'https://drive.google.com/uc?export=download&id=1Om8izPz02Msc15onhS_ki1lrlAIf05Pd' -O TaipeiSansTCBeta-Bold.ttf\n",
        "\n",
        "# 導入 Matplotlib 的 FontProperties 和 font_manager\n",
        "from matplotlib.font_manager import FontProperties, fontManager\n",
        "import matplotlib.pyplot as plt\n",
        "\n",
        "# 指定字體檔案的路徑\n",
        "font_path = '/content/TaipeiSansTCBeta-Bold.ttf'\n",
        "\n",
        "# 將下載的字體加入到 Matplotlib 的字體管理器中\n",
        "font = FontProperties(fname=font_path)\n",
        "fontManager.addfont(font_path)\n",
        "\n",
        "# 重置 Matplotlib 的字體快取\n",
        "!rm -rf /root/.cache/matplotlib/*\n",
        "\n",
        "# 在後續的 Matplotlib 繪圖函式中增加 fontproperties=myfont 屬性即可顯示繁體中文\n"
      ],
      "metadata": {
        "colab": {
          "base_uri": "https://localhost:8080/"
        },
        "id": "HDjiGZxiXYEe",
        "outputId": "44e309e6-00b3-4081-cd45-c75d2947961d"
      },
      "execution_count": null,
      "outputs": [
        {
          "output_type": "stream",
          "name": "stdout",
          "text": [
            "--2024-03-30 13:12:55--  https://drive.google.com/uc?export=download&id=1Om8izPz02Msc15onhS_ki1lrlAIf05Pd\n",
            "Resolving drive.google.com (drive.google.com)... 172.217.164.14, 2607:f8b0:4025:803::200e\n",
            "Connecting to drive.google.com (drive.google.com)|172.217.164.14|:443... connected.\n",
            "HTTP request sent, awaiting response... 303 See Other\n",
            "Location: https://drive.usercontent.google.com/download?id=1Om8izPz02Msc15onhS_ki1lrlAIf05Pd&export=download [following]\n",
            "--2024-03-30 13:12:55--  https://drive.usercontent.google.com/download?id=1Om8izPz02Msc15onhS_ki1lrlAIf05Pd&export=download\n",
            "Resolving drive.usercontent.google.com (drive.usercontent.google.com)... 142.250.65.97, 2607:f8b0:4025:804::2001\n",
            "Connecting to drive.usercontent.google.com (drive.usercontent.google.com)|142.250.65.97|:443... connected.\n",
            "HTTP request sent, awaiting response... 200 OK\n",
            "Length: 21737516 (21M) [application/octet-stream]\n",
            "Saving to: ‘TaipeiSansTCBeta-Bold.ttf’\n",
            "\n",
            "TaipeiSansTCBeta-Bo 100%[===================>]  20.73M  84.2MB/s    in 0.2s    \n",
            "\n",
            "2024-03-30 13:12:58 (84.2 MB/s) - ‘TaipeiSansTCBeta-Bold.ttf’ saved [21737516/21737516]\n",
            "\n"
          ]
        }
      ]
    },
    {
      "cell_type": "markdown",
      "source": [
        "##小小練習與體驗"
      ],
      "metadata": {
        "id": "hSCcnLIAs8V7"
      }
    },
    {
      "cell_type": "code",
      "source": [
        "a=3                #整數\n",
        "print(3**100)      #3的100次方\n",
        "\n",
        "b=3.14             #浮點數\n",
        "print(b**100)      #b的100次方"
      ],
      "metadata": {
        "id": "uEzY1IC9tAHl"
      },
      "execution_count": null,
      "outputs": []
    },
    {
      "cell_type": "code",
      "source": [
        "c=[2,\"ab\",[4,5,\"ab\"],[\"阿亮\"]]\n",
        "print(c)"
      ],
      "metadata": {
        "id": "q9Yr4zRutJPN"
      },
      "execution_count": null,
      "outputs": []
    },
    {
      "cell_type": "code",
      "source": [
        "x=3\n",
        "y=\"abcd\"\n",
        "print (x*4)              #數值4倍\n",
        "print(y*3)               #輸出字串3次"
      ],
      "metadata": {
        "id": "D1Pab7M1tbcs"
      },
      "execution_count": null,
      "outputs": []
    },
    {
      "cell_type": "code",
      "source": [
        "x=2\n",
        "y=-1\n",
        "z=x>3 and y<0\n",
        "u=x>3 or y<0\n",
        "print(z)\n",
        "print(u)"
      ],
      "metadata": {
        "id": "bN1Z2XuvthY5"
      },
      "execution_count": null,
      "outputs": []
    },
    {
      "cell_type": "code",
      "source": [
        "n=[5,12,3]\n",
        "print(max(n))        #列出最大值\n",
        "n.sort()             #n資料做排序\n",
        "print(n)"
      ],
      "metadata": {
        "id": "Apzs19HBtoVS"
      },
      "execution_count": null,
      "outputs": []
    },
    {
      "cell_type": "code",
      "source": [
        "!pip install twstock         #安裝股市盤價資料\n",
        "import twstock as a\n",
        "b=a.Stock(\"3008\")            #大立光\n",
        "print(b.price)               #近一個月盤價"
      ],
      "metadata": {
        "id": "vlAP__zntvt9"
      },
      "execution_count": null,
      "outputs": []
    },
    {
      "cell_type": "markdown",
      "source": [
        "要將 twstock 模組獲取的股票價格以表格形式呈現，\n",
        "\n",
        "可以使用 Python 的 pandas 模組來創建 DataFrame，\n",
        "\n",
        "這是一種常用的數據結構，非常適合於以表格形式展示數據。"
      ],
      "metadata": {
        "id": "aY2t6h0ZuxEj"
      }
    },
    {
      "cell_type": "code",
      "source": [
        "!pip install pandas    #pandas 模組安裝\n",
        "import pandas as pd\n",
        "import twstock as a\n",
        "\n",
        "# 獲取股票數據\n",
        "b = a.Stock(\"3008\")  # 大立光\n",
        "price_data = b.price[-30:]  # 獲取最近一個月的盤價\n",
        "#price_data = b.price[-7:]  # 獲取最近7天的盤價\n",
        "\n",
        "# 轉換為 DataFrame\n",
        "# 用pandas.DataFrame 創建一個數據框架（DataFrame），包含股票價格數據。最後印出這個 DataFrame，它會以表格的形式展示股票價格。\n",
        "df = pd.DataFrame(price_data, columns=['Price'])\n",
        "\n",
        "# 顯示 DataFrame\n",
        "print(df)"
      ],
      "metadata": {
        "id": "wy9fcaA5u4gh"
      },
      "execution_count": null,
      "outputs": []
    },
    {
      "cell_type": "markdown",
      "source": [
        "#利用咒語產生第一個Python程式"
      ],
      "metadata": {
        "id": "JDmb2sBwN9tZ"
      }
    },
    {
      "cell_type": "code",
      "execution_count": null,
      "metadata": {
        "id": "0XVf95JPLjt5"
      },
      "outputs": [],
      "source": [
        "# prompt: 我要依序印出\"Hello Python\"、\"我愛亮亮\"、\"12345今天好開心!!\"各一行\n",
        "\n",
        "print(\"Hello Python\")\n",
        "print(\"我愛亮亮\")\n",
        "print(\"12345今天好開心!!\")"
      ]
    },
    {
      "cell_type": "code",
      "source": [
        "#練習:以下請練習打入程式碼後執行\n",
        "#最後要呈現以下文字:今年是西元2024年，也是民國113年\n",
        "\n",
        "a = 2024\n",
        "b = 1911\n",
        "\n",
        "print(\"今年是西元\" +str(a)+\"年，也是民國\" + str(a-b) + \"年\")"
      ],
      "metadata": {
        "id": "X7hN_lXEvecL"
      },
      "execution_count": null,
      "outputs": []
    },
    {
      "cell_type": "markdown",
      "source": [
        "#查看Python版本與已經安裝的套件"
      ],
      "metadata": {
        "id": "1oK4eoLDRZBX"
      }
    },
    {
      "cell_type": "code",
      "source": [
        "!python --version   #查看Python版本"
      ],
      "metadata": {
        "colab": {
          "base_uri": "https://localhost:8080/"
        },
        "id": "HFj0qziWRfgQ",
        "outputId": "2c8b4582-da4e-49f4-93b8-f51dd7c3ade8"
      },
      "execution_count": null,
      "outputs": [
        {
          "output_type": "stream",
          "name": "stdout",
          "text": [
            "Python 3.10.12\n"
          ]
        }
      ]
    },
    {
      "cell_type": "code",
      "source": [
        "!pip list  #查看與安裝套件"
      ],
      "metadata": {
        "id": "AGuapt1vS188"
      },
      "execution_count": null,
      "outputs": []
    },
    {
      "cell_type": "code",
      "source": [
        "!pip install selenium  #安裝Selenium套件"
      ],
      "metadata": {
        "id": "iBroP5cNTZkO"
      },
      "execution_count": null,
      "outputs": []
    },
    {
      "cell_type": "markdown",
      "source": [
        "#Selenium套件介紹\n",
        "Selenium是一個瀏覽器自動化的套件(Package)，可以利用Python撰寫自動化的腳本來執行各種的網站，包含開啟瀏覽器、填寫表單、點擊按鈕及取得網站內容等，多數用來執行網站功能的自動化測試，簡化繁瑣及耗時的網站測試工作，是Python自動化應用非常重要的套件(Package)。\n",
        "###可以參考安裝教學 https://www.learncodewithmike.com/2020/02/python-selenium.html"
      ],
      "metadata": {
        "id": "bMCDm_GRUH6i"
      }
    },
    {
      "cell_type": "markdown",
      "source": [
        "#練習時間(5分鐘)![33.jpg](data:image/jpeg;base64,/9j/4AAQSkZJRgABAQAAAQABAAD//gAXR2VuZXJhdGVkIGJ5IFNuaXBhc3Rl/9sAhAAKBwcIBwYKCAgICwoKCw4YEA4NDQ4dFRYRGCMfJSQiHyIhJis3LyYpNCkhIjBBMTQ5Oz4+PiUuRElDPEg3PT47AQoLCw4NDhwQEBw7KCIoOzs7Ozs7Ozs7Ozs7Ozs7Ozs7Ozs7Ozs7Ozs7Ozs7Ozs7Ozs7Ozs7Ozs7Ozs7Ozs7Ozv/wAARCAECA1IDAREAAhEBAxEB/8QBogAAAQUBAQEBAQEAAAAAAAAAAAECAwQFBgcICQoLEAACAQMDAgQDBQUEBAAAAX0BAgMABBEFEiExQQYTUWEHInEUMoGRoQgjQrHBFVLR8CQzYnKCCQoWFxgZGiUmJygpKjQ1Njc4OTpDREVGR0hJSlNUVVZXWFlaY2RlZmdoaWpzdHV2d3h5eoOEhYaHiImKkpOUlZaXmJmaoqOkpaanqKmqsrO0tba3uLm6wsPExcbHyMnK0tPU1dbX2Nna4eLj5OXm5+jp6vHy8/T19vf4+foBAAMBAQEBAQEBAQEAAAAAAAABAgMEBQYHCAkKCxEAAgECBAQDBAcFBAQAAQJ3AAECAxEEBSExBhJBUQdhcRMiMoEIFEKRobHBCSMzUvAVYnLRChYkNOEl8RcYGRomJygpKjU2Nzg5OkNERUZHSElKU1RVVldYWVpjZGVmZ2hpanN0dXZ3eHl6goOEhYaHiImKkpOUlZaXmJmaoqOkpaanqKmqsrO0tba3uLm6wsPExcbHyMnK0tPU1dbX2Nna4uPk5ebn6Onq8vP09fb3+Pn6/9oADAMBAAIRAxEAPwD2agAoAKACgAoAKACgAoAKACgAoAKACgAoAKACgAoAKACgAoAKACgAoAKACgAoAKACgAoAKACgAoAKACgAoAKACgAoAKACgAoAKACgAoAKACgAoAKACgAoAKACgAoAKACgAoAKACgAoAKACgAoAKACgAoAKACgAoAKACgAoAKACgAoAKACgAoAKACgAoAKACgAoAKACgAoAKACgAoAKACgAoAKACgAoAKACgAoAKACgAoAKACgAoAKACgAoAKACgAoAKACgAoAKACgAoAKACgAoAKACgAoAKACgAoAKACgAoAKACgAoAKACgAoAKACgAoAKACgAoAKACgAoAKACgAoAKACgAoAKACgAoAKACgAoAKACgAoAKACgAoAKACgAoAKACgAoAKACgAoAKACgAoAKACgAoAKACgAoAKACgAoAKACgAoAKACgAoAKACgAoAKACgAoAKACgAoAKACgAoAKACgAoAKACgAoAKACgAoAKACgAoAKACgAoAKACgAoAKACgAoATNAC0AN3CpuAFgOtUCE81P7w/OgA8wZoE2KGBoGtRc0AGaAFoATNABmgBNwoAN478ULUBBKh/iH50ALuFAmw3Cga1FzSTuAZpgLQAUAFABQAUAFABQAUAFABQAUAFABQAUAFABQAUAFABQAUAFABQAUAFABQAUAFABQAUAFABQAUAFABQAUAFABQAUAFABQAUAFABQAUAFABQAUAFABQAUAFABQAUAFABQAUAFABQAUAFABQAUAFABQAUAFABQAUAFABQAUAFABQAUAFABQAUAFABQAUAFABQAUAFABQAUAJnmgBGbHei4GNq3i3RdFB+3X8UbAfdzk/lQK5xWo/F3zmMejabPcHPyybeP1qXOK3Zoqc3sjCuPE/jzU3ODHax9uADXPLGQ6HXHA1upTez8W3J3S6/Kmf4Vcisfrxqste7GDQ/EQOR4juc/8AXRqn68af2ah62fi+3OYtekfHZnJprHEvL5L4WXIfE/jzTGBPl3Ua9eASa6I4yD3ZhLA1V5m7p3xc8mQRa1p89sOhkK8fpW0asZbHLKlOD1R22k+LNF1pQbG/ikY/w5wfyqzNuxrlvegDI1XxVo2irm/v44z/AHc8/lQFzitQ+LYkdotG06e57LLt4/WodSK3ZpGnOfwowZ/E/j3U248u1jPTgA1zyxUOjOqOBrdSm9l4tuW3y6/KmeyuayeNtsarLm9yM6H4iB3DxHc7v+ujVP15l/2aiSO38YWh3Ra48vs7E1Sxwnl8l8LL9t4x8c6W3+kQpdRDrtUE4rdYuEupzywVVLVHQaX8XbNpBFq9pNYnpudeM1tGcZbHI6co7o7XS/EGl6xGHsL2OYHsG5/KrJNMGgBRzQAtABQAUAFABQAUAFABQAUAFABQAUAFAHM+IPiJ4X8NyeTfamjXH/PC3HmOPrjhfxIoA891L46ahfSfZ/DegEuTw9xmViP9xMYP4mgCE3Pxn8RKvlwzWETjssdvgH/e+agCcfDr4pXY/wBJ8YeWrDDJ/aM54+gXFAAvwp+IMJ8yDxiFkA4IvJ1/UCgBk3hH4waXte11978r0VL8t+fmgA0AQTeP/ij4ZZf7a0gTRqQGea0+VvX54yFzQB0GifHbQr07NXsp9NbH31/fJ+gDD8jQB6Npuq6frFot3pt5DdwN0eJwwHsfQ+xoAt0Achr/AMUvCfh+R4JtQ+1XKDmG0XzDn03fdB9iaAOCvfjdr2rTfZvDXh4BycZcNcOfoqgY/WgAaP406+Rky2ER7hooMfl89AEzfDX4m3n/AB9+MRtYAlf7QuDg/TaBQAi/Cv4iW+XtfGIVzxkX1wnH1AoAjl8MfGLRCJLTW5NQ2c/Leeb+kwGfyoAjl+JPxI8NSL/b2hLJCOWaS2ZAR7Ovy/oaAOk0T45eHL8bdUguNLk45IMyfmoz+lAHoVhqNlqlqt1YXcN1A3SSFww/SgCzQAUAFABQAUAFABQAUAFABQAUAFABQAhOKAI5JkiQu7hFHUmgDk9c+JOh6QCi3C3E3ZIzn+VJuwWb2Vzj5/ij4l1B2XS9HESHhXkGfx6VlKtTW5tDD1ZvRFFr/wAbagP9I1NbcH/nmuMVzzxsY7I7IZdKW7IG0jX5eZPE13+DEf1rL6//AHTb+zP7wg0bXI+Y/E17n3cn+tH1/wDuj/sz+8Txv4wsB/o+tNPjn94M1ccdH7RlLL39ktQ/EPxjpgAvtOjukXugwTXRHEU5HJLC1Y/ZOn0T4r6TfkRX6mxm/uPW6alsYSi47nbW17BeQia2mSVCMgqc07WITuT7gELMQABkk9qBnF+IPiz4U0FpIVvDqFyg/wBVaDeM+hf7v6kj0oA4ef4y+K9cuRB4a8PqoJxgRvcSE/hgD8j9aAF+x/GjX5FeSabT4m6HzY4Av1C/N+lAEx+GXxKuxm88YjB+YKb+4bB+m3A/CgAX4W/EW3Ba18ZBWPBxfXCcfUCgCKTQvjLokglttTl1ADrtullH/fMmCfwFADG+Knj7w3cqniPQUeIfe8yBoSw9nGV/Q0AdVofxs8Mantj1DztLmY4/ervj/wC+l/qBQB39tdW17AtxaXEVxC33ZInDKfoRQBNQAUAFABQAUAFABQAUAFABQAUAFABQAUAFABQAUANLYoAztX1yy0W1a4vJQigZx3NAHl2q/ETWvE0rWmgw/ZIM4ad+SR7VhUxEKa1OinhJ1GrGbD4Xjll+06tPJe3B6ljxXnVMVKfw6HrUcDCC97U2be2gtUCQRKgHoK5HJy6s74U1HoiWkMUGkAtIBM0AHWmh2uQ3NrBdoUniWRfQitFOpHVMzlTpvRo57UtDttLzf2F41hKvIweCR7V2UcVNtI8/EYSmotkP/C1/Ev8AZX2TaM52/advavUclY8dU22TabottqoF9qF62oStzyeF/CvKxOJmnZHrYbCQau9ToYLaG1jEcESxqP7orjcqkup6kaajpFIlJJ61IxRQAYoAOlJgGTQk9wtfcrXVha3qFbmBJAfUVqqs47MznSpS3Rknw5Np8/2nQr17STrszkE1108a9mcNXARlrE3tD+KN7p11Hp/iS1x/CLhBwa9GFSMkePUoypvU9NsdQt9RtluLaRZI2HBBrQzLQORQAtABQAUAFABQAUAFABQAUAFAGD4p8ZaN4QshcapcfO5xHBHhpJD7D09zxQB5TN4s8e/E29ls/DkL6dpynDtG+wKP9uXqT7L+R60AdL4c+B2iWMSy69LJqVyTlkRzHEPywx/E/hQB6Jpulafo9oLTTbOG0gBzsiQKM+p9T70AW6ACgAoAKAE6UAc54h8C+GPErNNqemRtcMMfaIiY5PqSOv45oA8a8QaFd/DrXGuPC/iU7SQBFv8A3p/2XUDa4+v5Um7bhu7ITUfGfjTxY0el3uqQaTDIMNgNAsmf7xAJP06UlKL2ZUoSjuju/Cnwe8L29lDc6jI2sTsMk7ysIPsByfxJz6CqJPSLOztdPtUtbK2it4IxhI4kCqv4CgCagBaACgAoAKAOW174beFfEUkk15pixXMnLXFuxjfPqccE/UGgDzjUfhn4w8E3UupeDtTmuIFO4xRvtlIHOGT7sn9fSgDb8IfGm1u5YtM8UQfYLzd5ZuQMRFs4+YHlPfqPpQB6nHIk0ayROro4yrKcgj1BoAdQAUAFABQAUAFABQAUAFACHgUAN3YFAHLeKfH+l+GwI3JuLhuFij5OaTaWrHFOTsjza9vfEvi6VpZrlrGyc8Rg/NiuSpiorRHfRwEpass2Hh7TrDBWISS9S7jNefPESnoevTw0Ka0NRQF4UAD0Fczu3c30WgUwCgBcGgBKLAAPGDQBTvdJsb5f9It0P+1jmtY1ZxtYxnQhJNs5ePVtR8J6skWj38l0pJ/0cZOBXr0Kk5bo8LEU4QdkyHXPF/iXxZrMegahqg0m0mdY3jlPlxrkA5kI5I+vHTp1rpZyHqPh74N+FdMt4pbyNtWuCoJkmciPPqqDjH1zSA76GGK3hSGCNIoowFREUKqj0AHSgB9ABQAUAFABQBx+u/Czwlrpkkk00Wlw5yZrRvLOfXb90/iKAPPLrwP49+Hkst74Z1CS9sVYu0UOSSPV4jwxx3GT9KAOo8G/GXTNaeDT9bj/ALOv2wnmk/uZG+v8GfQ8e9AHpQIIyDkGgBaACgAoAKACgAoAKACgAoAKACgAoAKACgBpNAHM+LvGlh4Zs8u/mXL8RxJySaLpasLN6I8tNtqfiu+/tPXJWEJOYrfOAB9K8+vikrxR6mFwV1zy2N6GGK3jEcMaoo7AYrzZOUnc9hQUUrElSUKRigBAM0AOoATPNABikwEpadRq/QztY1mDSLbc53StwkY5JNb06MpPyOetiI04+ZhWWjXuvXH27V2ZYc/JDntXVUqwpLlpnDTpVar5qmx039n2n2f7N9mj8rGNu0VxxqSTuej7GmlZnM3+i3uhz/btGLeV/HDmuyFWFX3Z7nBUoVKMuelsbmja1b6vbgqds44eM8EGuatRlTOzD4iFRWXxGlWJuL2qQDtVAAFAC0mAhoQCChgQXdlbX8JiuYVdSMcjkVrCq47E1KVOcbMx7K+1jwLeGazeS40xj80XUr+deph8Qqmj3PCxWDlT95bHr+geIrHxBp6XdlMrAjlc8qa7Dg20NZeRQA6gAoAKACgAoAKACgAoA8/+I3xOtvCcTadp2y51eReB1W3B7t6n0X8Tx1AOX8JfC7UvE97/AMJJ44mmY3B8wWztiST03/3Fx0UYP0oA9itbW3sbZLa0gjghjGEjjUKqj2AoAmoAKACgAoAKAEPAoAY0iqhL8KBkk0AeZeN/iDKbttE8P5kuWGGlU8LUyqKnHmZcIOb5Uc7pHh2O0f7Xesbm7flmfnBrx62JlU2Pew+DjTScjRv9NtNRhMVxEpB6HHSsIVJQdzpnRhNWaM/Sde1TwHeCOZnutLdhg55QZr2KFdTVjwMTh3Tlc9j0vVrTV7JLqzlEiOAeOorpehyPQvA0AFAC0AFABQAUAFAHKeM/h5o3jG2Zp4xbX6riK7jHzA9gw/iH1/AigDzLR/EfiX4R6umia/A1zpDsSm07htzy0TH8yp9e2c0Ae26XqllrOmwajp86z206Bkdf5H0I7jtQBboAKACgAoAKACgAoATmgBrMAuSeKAPNPGnxClW4bRtAIlu2O1pF52VM6kYK7NKdKVSVkc5p2gJFKbvUZGu7tjktJzivIq4tydke5h8FGOrNngAADAHpXG9XdndtogoDYWhAGKYC4oADQA2gBGIVSzHAHU0tb6Bpa7OflutS8R6kdK0MEKvEs4GQK9TDYa+sjyMXjLPliz0fwv8ADzStBjSeWL7ReEZeWQZOa9FLl0R5MpOTuxfGPw10TxbbM/lLZ6gqny7qJQCTjgOP4h09/Q0CPN9E8S+JPhPraaH4jjefSnOVwS4Vem+Int6r+gJoA9w07UbPVrCG/sJ1uLadd0ci9CP6fQ9KALNABQAUAFABQAUAFAHEeN/hhpHi2OS6hVbHVMZW4jXCyH/poO/16/XpQBwnhnxtrnw11QeGvF0EslivEUn3jEueGQ/xp7dvwxQB7ba3UF7bR3NrMk0EqhkkRsqw9QaAJaACgAoAKACgAoAKACgAoAKACgAoAQ5oA5zxj4qt/C+lSXL/ADzlcRxjqxpN2GtdDyvT7G71i+Otay2+Rv8AVR9kFeXisQ72R7ODwtlzs6ADsOK8+93dnpq4uKYxRQAVIBQAVQBQA09aAt1M/WtWi0ixaZjuc/cT1NbUqXtHZ7GNauqcfMxtG0a41G4GrasdzHmOPsK6KtX2S9nA5KFJ1Z+0mdSABwBgDtXCttT0XvoFABQByus6JNYXLavpR2uvzSR9mHeu2jWU1yTPOxFFwfPA2dG1iHWLTzU+WRR86+hrmrUvZyOqhW50aXQVmbhmgBaACgBMUAIRigAoAR0WRSjqGU9QaTbWqE0mrMwI577wRqg1HTyXsWbM0PpXrYbEKSUWeJjcM4vmR7JoetW2uadHeWjAq45Hoa7zzTTGaAFoAKACgAoAKACgDgvib8RY/CNmLDTysmr3C5QEZEKHI3n1PoPxPuAY3wx+GvkiPxP4lR59RnPmwwXAJMWTne+eS5689Pr0APVqACgAoAKACgAoAKAGseDzQB5f8QfG0xmXw/okgNzISsrrzsFTKSgm2XTg6kuVGLouhw6VDuY+dcucvK3JzXi160qsvI+iw+GhSialc509Qp3sNDJ7eK5haGZA6NwQRSjKUXdEytNWaMXS9Uv/AADrEbJK82lTttkVjwlezh6/MrS3PBxeF9i7x1ue0adqNvqdlHdWrh4pBkEGus4C4OlAC0AFABQAUAFABQBna7oWn+I9Km03UoFlhlHBx8yN2ZT2I9aAPF7G81b4MeL20+8Z7vQ7wht4GAy/31HZ16Ed8fQ0Ae42N7balYwXtnKJbe4QSRuvRlIyKALFABQAUAFABQAlACFsDJ6UAeafETxlMZh4e0YlruQZkdWxsFTUmoRuzSlTlUlZGFo2jRaXbjOJLhxmSQ9Sa8StWdST7H0NChGnFaamlWB09bhiiwCmiwBikAtFwCi4CGmAmcUtXoO3U52Z7zxZq40PSsiMNieYHAA716eFoW95njYvF6csT1zwt4XtPDOmJawopfq0mMFjXpI8nfU3QOKAAUAZfiPw5p3inSJdN1KEPG4yjj78TdmU9j/+qgDxfTdT1v4N+LDpWoFrnRrlwxIB2umceYg7MO698Y9DQB7vaXdvf2cN3ayrNBOgeORejKRkGgCagAoAKACgAoAKACgDF8U+FNL8XaU1jqUIJAJhmUfPC3qp/LI6GgDyTwzr2qfCfxTJ4a14l9Jmk3LNzhAekqex/iX+o5APc45EljWSN1dHAZWU5DA9CDQA6gAoAKACgAoAKACgAoAKACgBDQBU1G+h061kubhwkca5OTQJnibzXHjLxHJrF0SbKFysEbdCB3rhxNey5UenhMLzvmZ0PHYV5K7t6nuWtothO9DAdUgFABQAVQCZoATNAEc88dtC80rAIgySaqEHN2JnUVNXZyWn20viXWm1K4BazibEat0OK75yjRhyrdnnwg8RU53sjsQABgcAV5ib6npW6C4pgHFMAxQAhGVI9RR1uFtLHH6lbv4Y1ddStlIs5jiVR0Fd8ZKvDle55lSLoVOaOx1lvcR3Vuk8TAo4yMVwzg6b5WejCftFzIlHSkULQAUmAnXpSAPrTQARTASgBssSTxtFINyOMEGnF8ruiZRU1ZmX4T1SbwT4kFjcOf7NvD8pzwpr28PVVRWZ89i6Doy5lse0wSLLEHRgytyCO4roOQkoAWgAoAKACgDG8WeJLbwp4eudWucMYxiKItgyyH7qj+vsCaAPLfhj4Vu/F2uy+OPERMy+dvtweBJKp+9j+6uMAeo9uQD2ugAoAKACgAoAKACgBDwKAOR8e+LIfDmjSKjbruYbYkB5ye9HRsOVtqx5z4b0iS2Rr+8bfdXHzMT1XNeNiKrk7I9/CYdQSbN49a5LWO+9wxQAlACigLXIL20jvrWS1lUFZBjkdKqNRwkmZzpqpFpkfw/15vDGsS+H9RlP2aTm2djwPavcoVFUjofOYmm6U7NHr6tlQRWxgOFAC0AFABQAUAFABQBieLfC9l4u0GbS7zK5+eGVesUg6MP5EehNAHmHwv8AEV74S8ST+BvEDCJTKVt9xyElP8IP91wcj3+tAHtVABQAUAFABQAh6UAcl4/8VDw5ojGHDXU/yRDPIJ70m0ldgk3KyPPPD2myRK+oXrGS9uTuZm6gV42Kqyk7I+gwdBRjdmyetciO4KYCk0ABOKAAGgBaLAFFgG9aAMLxHqc0Jj0yyBa6ujtG3naDXVhaPtHzM4MdW5Fyo9M8E+Erbw3pMeEzdSrmWQjkk817S0Vjwb3dzqAOKBBQAtABQBheL/Ctj4v0KXTbxQr8tBN3ikxw309R3FAHmnwr8TXvhrxDP4E10iMCVltyx/1cnXaD/dbqPc+9AHtFABQAUAFABQAUAFABQBzHj3wZbeM9Be1YBL2AF7Sb+6+Oh/2TwD+B7UAcP8H/ABfc2t3N4K1xjFPbMy2ok4ZSp+aI/Tkj8R6UAev0AFABQAUAFABQAUAFABQAUANY0AeV/FjWJb28tvDlm3zOd0xHYVE5qEbmlOn7SVitZWkdjZxW8f3UUCvBnNyk2fS0qahBJFjBqLa3NQAOaGAtSAVVgCpADVAJigBCKOoXOM8S3k+p6xHpFqxCEbXP15/pXfRpqEednl4io6k+SOx1dhZR6fZRWsfSMD8TXHUnzzbPQpU+SmkWcCpbuaBx0pAGOaAFpXAbTAr31nHf2ctrJ91x19KuEuWd0RVipQszn/C101jc3Gi3B+aJsxn1FdGKhzQVRHFha3JN05HU81yXud6VkAoGLSYBSAQ00ADNMAIoATFAGZr2mDVNNeMcSJ8yEHoa1oVXCVzDE0o1IWZ1/wALvELaloP2C4I+02R8t+eoHSvei+ZXPmZRcXZndg5piFoAKACgAoA8O8d3d18QviZa+ErNmWzsZTHI6jOG/wCWrn/dA2gHuPegD2jT7C20vTrews4xHb20axxqOwAx+dAFmgAoAKACgAoAKACgCOWVYoy7kBV6k0AeEalcy+MfHEt1K2bOyfag7EiuTFVuSNkd2Do+0ldnRgAcDgV4ybe59Bp0FxQAtACYoAM0AHvQwMLxRpjXlml1b8XNs29SPaurC1fZyS7nJjaHtY83Y9M8B+IR4g8NQXDkecg2SDPORXtXufNtcsjpx0oGLQAUAFABQAUAFABQB5X8a/Cf2rTY/FFipW7sdqzlWwTFnhvqrEfgfagDqvhz4p/4SzwjbXc0itew/uboDrvH8WP9oYP4n0oA6qgAoAKACgCKaRYomkc4VRkmgDw27u5fFvjS4vJGJsrNsRKTxkVxYuqoxsj0MDRcp8zN/gHgfSvIT6s9526DqACgBCcUAKRmgBM9qAFoATNAEN1cpaWss8hwqKTVRTk7ImpJQjdifDPRDrepXHiW9XID7bcMM8CveowVOFkfM4io6kuZnrgrQxFoAWgAoAKACgDyb42eFGms4PFWnxsLq0YJctGOdn8L/wDATxn0PtQB2Xw+8Ujxb4Ttr52Buo/3N0Bx+8AGT+IIP40AdPQAUAFABQAUAFABQAUAePfGXw1Pp95aeNdIUxTW7qLp0OCrAjy5Pz+U/wDAfegD0jwl4hh8U+GrPV4lCGZMSRg58txww/P9MUAbNABQAUAFABQAUAFABQAUAVNSu0sbGe5kO1IoyxJoQnc8T0aV9a12/wBbm+cO+yIn0Febi6n2Uevl9LTnZ0AFeYj2WKabEFIAp2AKACpAQGqADQBU1S8Fjpk1wxxtU4+taU4c9RIyrSUKTZheDrLzIJtSuFzLNJuUnqOtdOImvhRx4SF/eZ0/WuJPSx6L3HUAGKAClcApAIaoBKAOT8VQtYaraavENoDBZSPSu7DNSg4M83Fx5JxqROqilE0KSocq4BFcTTTsz0Yy5lceDSGLSYCGhAHXrTAWgAoAO1ACCpAxdKvz4Y8exyliltf4Ujtur28HU5oWZ4GOp8s7o9tjYMMg5yBXWcBJQAUAFAGH401s+HfCGpaojBZYYSIif+ejfKv6kUAcF8CtAMWmXviO5Qma8cwwuxySgPzH8W4/4DQB6zQAUAFABQAUAFABQAUAcV8T9f8A7E8MyCN8TTny1A680X0uEV71jhfDNl9h0aPcP3kvzuT1rw8TPnmz6PCU/ZwTNjFYM6xRSAKACgBMc0mAh60gAgFSpGQeDTC19DP8C6i+geN5tHditvdkumemfavew1TnhY+ZxUPZ1Wezr0FbnOLQAUAFABQAUAFABQBFc20N5ay2txGskMyFJEYcMpGCKAPFPh1I3gj4q6l4WuLg/Z7gmJC/G9h80ZPuVJH/AAKgD3CgAoAKACgDjPiVrx0fw1KkTYmuAUUDryKTdlcO3mcRoFitjpEK4/eONzk9STXhVpucmfT4emqcLGnisTdCigBD1oAWgBDxQAlAC9eKADFAHP8AieR7gWulQk77uYI23qBkV24KF5XZ5+YVLQsj2Dw5pMWjaHbWUShdiDd7mvXe+h4GprUDFoAKACgAoAKAIby0hv7KezuU3wXEbRSL/eVhgj8jQB4r8M5Z/BXxO1HwleMNl0TGrE4BZQXjb/gSk/mKAPcKACgAoAKACgAoAKACgCjrOlwa3o13pdyP3V1E0bHGduRwR7g4P4UAeS/BzVLnQfFOqeDNQlC4d2iQ95kOG2/VRn6LQB7RQAUAFABQAUAFABQAUAFAHE/FbUTY+EZkQ/PcERgDrzSvyu499DjPD1kLLRbeHGDjcfxrwa8rzZ9Nho8lJI0hWR0dBaGIKSAKYBQAVICYqgAntQBzXjWUtZW1kp5uJQP1rtwmjcjgx7/dpI3dPtltbCGFRjaorkk7ybOynFQgkT1PUsdQAUgCiwBSATFUApGaAMzXrQXmkXEZ6hCV+tbYeXLUuc+JjzU7Ffwrd/adChVvvxgq1ViVapp1JwkualZ9DaArnOoWiwBS2AKLgFFwEPSmAZoATNKwGB4wt2awiu4+JLZw4P612YOVp2OHHU707nr3hfUU1LRreVTk+TGW+uP/AK1e0z582aQBQAUAeP8Ax81JzBpGixbi00jTuo74+Vf/AEJqAPT9A0mHQ9BsdLgUKlrCqcdzj5j9Scn8aANGgAoAKACgAoAKACgAoA8b+LE76j4r0/SVPyJ8zj8R/jWdZ8tNm+HhzVC2iBI1QcBRivnm7u59NFWVh4poYUAFABQAUMAqQEx3oA5rxFmw1nTtXQ7TDKoY+2a9LAzs7Hk5hS+0e5adc/a7KOb+8oP6A16h45aoAKACgAoAKACgAoAKAPFPjbZSaR4m0XxPaALJwpI/56RsGUn8Dj/gNAHs1rcJd2kNzGcpNGsin2IyKAJaACgAoA8b+Js51Pxtp2mq3ywDc4/GscRLlpHThoc9VIuAAAAdq8Hc+lHCgAouAUAFABQA2gBQKAFpXAyfCduNa+JhZvmiskPB9ecfyr3MJFKFz57GVLzcT2oDAwK6TiHUAFABQAUAFABQAUAeIfGa0fQ/G2jeJoEI37SxU9ZImB/kR+VAHtVrcxXlpDdQtuimjWRD6qRkfzoAloAKACgAoAKACgAoAKAPDfiNG/hP4uaZ4jjQJBctHKzDgErhJB/3zj/vqgD3KgAoAKACgAoAKACgAoAKAPLvjBMz3uiWI5Esu5h7Cs6ztTbNKMb1EQIuxQvoMV8/vqfUxVlYUnFAxaACiwBQAUrgFFgCmA09aAOV1Ui88YWVsfmWL58V30vcpOR5tV8+Iiux1Z4OK85M9NqwE4qriFoATPNKwBmmAZpWAUHNMAJxQA103xsp/iGKa0kmKcbqxyng9mi1DULQnhHJArsxOsYyPPwj9+UDre1cSPSYDmgQUAFKwAaEAmaYBigBQMUAVNUiFxpdzGRnMbfyrShK07mdePNTa7G98HrtrjQJYXOWhVAf++n/AMK+gTuj5Z7nodAgoAKAPEfGVyNd+PGkaeE3x2MtvEw7Ng+a36Nj8KAPbqACgAoAKACgAoAKACgAoA8R1km/+K+oSE5W3XZ9MVyYuVoWPQy+PNVNfPNeKloe8HPamAopMAoAKACkAUAIaBrcxvFcHn+Hrj1XDA/SuvCySqpHHjE5Umz0b4d3/wDaHhgSbs7JNn5In+Ne4z5w6qkAUAFABQAUAFABQAUAed/G+wN34ANwBzZXUcpPoDlP5uKANf4W6hJqPw50mWVy0kcbQkn0Ryq/+OgUAdbQAUAFAHh9y39ofETUbpzuMOEHtXBjJNKx6WXQ5pXNkda8o9wWgApMAoQBQwChAJgUwDNADZGCxMx7AmiKu0hPRB8H7UPqGp6k3JlYgH8TX0NJWgj5as+aq2esVZmLQAUAFABQAUAFABQB5x8c7QT+BI59vzW17G+ccgEMv9R+lAG78M9R/tP4eaPMTlooPIPGP9WSg/RRQB1VABQAUAFABQAUAFABQB5R8fbFpfD+l3wXIt7poyfQOuf/AGT+VAHeeC7x9Q8FaNdSPvkeyi3sT95goBP5g0AbdABQAUAFABQAUAFABQB5P8TJBN450eID/VRnP1zn+tc+JdqbOrBq9ZDjyxPvXhRTSPpXuNpiHUAFABSuAUgCqAKAE4JxQO2lzkrf978QHb+5Ga7pO2GPMjrijrM5rgsekxTTABQAtACEUrgAFFwFpgFAABzQtwT3ZyGhHy/GmoRDuCf0rtr60UzzcPpiGjru1cR6bEoEOzmgApMAoAKdwCgBOtADJRmCQeqH+VOL94l/A79Sf4JvldbT+48Q/wDHpa+hi/dR8rNWkz1OqJCgAoA8U8NoLr9obU5FAYQvOSW7YXbx+JoA9roAKACgAoAKACgAoAKACgDwnTZvtfjTW7ndvLSn5vXJNebj3serlujbN/vXmnsh3xQAtJgIaQC0AFABQAhqrDW5R1pd+i3a/wDTM/yq6L/eJmNfWizd+Cl20/hy9gY58q4Bx9UA/wDZa+hvc+XasekUCCgAoAKACgAoAKACgDlfibEZvhzrShd2IA2PowOfwxmgDD+Bs5l8AshbPk3siAenCtj/AMe/WgD0agAoAKAPCdBbzdf12Y97o/zry8e/hPayxL3jfFeeeoKaAAUmAUgCgApoApgJigCvfNs0+dvSM1dP40RUdoNmz8G4ceFmmPV5TzXvx0R8pe7dz0aqAKACgAoAKACgAoAKAOR+Klr9r+G+roBkpGko4zja6sf0BoAzvgoxPw7hBJIFzKB7c0Ad/QAUAFABQAUAFABQAUAcL8ZYPO+G18+FPkywvz1H7wLx7/N/OgCz8Jrg3Hw00lmYFkWRDjtiRgP0xQB2NABQAUAFABQAUAFABQB5L8RFKfELTXYEB4uM965sV/COzBfxkSHhjXiJn0b0dgxQIKACgApWAKQBVAGaAE/i/GgfQ5KxO3x7MD3jOK7Zr/ZjzKemKOsriPTbuxxxQIQ0AA60ALSsAmRRYBaYCGi4AMk0LcN7o5HRxnx3ft2Cn+VdtbTDpHm0NcS2dcK4z0gxSABQAtJgFIApoApgHAoAY/ETn0U/yoS94l6xH/BFcSeIG/vSRf8AoUtfQw+FHy03eTPVqsgKACgDxfwh+6+P+tpIQrObjaM9ckH+XNAHtFABQAUAFABQAUAFABQAUAeB6Ajw+J9YicYZZORXnY5bM9fLUuZo6Uda8w9cXHNABRYAxmkwExSAWgApoBCKY0UtYbZo92T/AM8m/lWlFXmYV3+5bNT4GxuuialIy4Vp0AP0X/64r6C1j5hnqFAgoAKACgAoAKACgAoA5r4jSrD8PdbZs4Nqy8epwB+poA5n4Doy+Brpj0fUZCPp5cY/pQB6XQAUAFAHhHhz5NX1yPuLs/zry8f8R7WW/DI6DoK889QOooAWgAoAAMUAFABQAGgCrqXzaZcj/pma0p/GvUzq/wAOXoze+DjhvB4XuJDXvr4T5aXxHoIGKYhaACgAoAKACgAoAKAOZ+JEwg+HmtuwyDbFP++iB/WgDF+Cf/JPIv8Ar5l/mKAPQKACgAoAKACgAoAKACgDivi+6p8MtUVjguYVX3PnIf5A0AN+D0ZT4aaaxOfMeZh7fvWH9KAO3oAKACgAoAKACgAoAKAPK/iwDB4l0G67ElD+f/16xxCvTZ0YeXLUiyMnJz614NrM+neuo6gQUAFABQAVICGqAXFADT1/GgDlJl+zePYpD0lQiu+PvYdo8yXu4lHVnrXnrY9RqzF5piFoATvQAtACYoAWgBDUgAODmr6ob018jkvC5+0eItRuOwYiuzEfwonmYX+LJnWgVxHpsWgQUmAUgCgApoApgIaAIbtxHZTuf4Y2P6VVLWWpFR8sJGh8FodumX9x/wA9zG3/AI9J/jX0K2PlXuem0xBQAUAeHmSTQf2iyZEyl5OFUkHkSxgAj6McfgaAPcKACgAoAKACgAoAKACgAoA8PuUFl8T9XtwNqyEuo9s1wY1XSZ6WXytNs2c84rylse4LQAUAFABSsAUAFOwBQBk+JZRD4fuWPcYrbDq8zmxMuWgzuPhZY/YfCzgrhnn3Z9RsTH9a99nzbO0pCCgAoAKACgAoAKACgDi/i5eLafDfUwSN0/lxID3Jdc/oCfwoAg+DVr9m+HFnJjBuJZZT/wB9lf5KKAO7oAKACgDw20j+x+M9Ztm6yS7wPrXn46J6uWS96UTaryz2Rw6UAFACE4oAUHNABQAUAITQBHOu+2lX1QimnZ3JkrxaLfwbuALK7ss8wyE4/Gvo1K8Ynys1yykeoUEhQAUAFABQAUAFABQBwfxnuvs/w4u4uP8ASZoo/wAnDf8AstAD/g5bNb/DexZlKmaSWTnuN5AP6UAdzQAUAFABQAUAFABQAUAec/HG+W28CLbcFru7jQD2ALE/+Oj86AOg+G9v9l+HmiR+tsJP++iW/rQB01ABQAUAFABQAUAFABQB518YrNn0O3v0BLWsoPHbmplHmTRcHytMxLG4FzYQzg53qDXz9RWlY+opvmgmWRWZYuKACgAoAKACqAKAG96AOX8Vr9mv9O1AcBJcMa7cK+ZSR5+MXJUhI6ZHEkayDowyK4up3p3VySgYUAFABQAUAITQAdaAK9/MttYTzE4CITV01eaM60uWmYfgy326c90w5uGLZ/GtsXLXlOXCR91yOkHSuc7haQBQAUAITQAA0ALQAnWgDI8T3YtNGl55kGwD1zXRh481Q5cZLlpHoXw70n+yvDsKbdpkiQn9T/WvcPmzrKACgAoA8W+M+/RvG/h7xDHHzGFOR/E0Um7H/j1AHs0UiTRJLG25HUMp9QelAD6ACgAoAKACgAoAKACgDxb4ip/ZfxFtb7BVbpNhOOOKwxEeamdWFlaoaIORu7GvCtbQ+kvfUDQAoNAC0AFDAM0kAUwGmga3Od8Wyeclrpin57mVRj15ruwULu55mYT5afIe0aDZix0qKELtwBkf8BA/pXrHhmlQAUAFABQAUAFABQAUAeS/H3U1j0XTNLV/nmuDOyg87VUgZ/F/0oA9F8L6YujeF9N05V2m3tkVv97GWP55oA1aACgAoA8V8Yw/2T8S0lB2peoB+NcuKjzQudmBly1TSP3jXiH0QvamAlAC4NAB0oASgBQaAFoAQjPHY0bBa5Q+Gsp03x9qFgWwtyu5R9CTXu0Jc1NHzWJjy1Geyg8VucwtABQAUAFABQAUAFAHkfx81Xbp2laJH80k8xuHUdQFG1Rj3LH/AL5oA9K8OaedK8NaZp7Lta2tY42H+0FAP65oA0qACgAoAKACgAoAKACgDxf463ov9W0TQLZt0/zSOg9XKqn8m/OgD2DT7KLTtOtrGAYitoUiQf7KgAfoKALFABQAUAFABQAUAFABQBieLdL/ALX8O3lmPvPEdv1oWjuHRnkfhKZ1s5dOmz51o5U5rxsXC07nv4GvzUrG/XG3c9BjqQhD0poBKYDhzQAUAFADe9AGT4nsTfaHKiffT51/CujDy5Ki8zmxdPnot9hnhW/+36MgbiSH5GH0pV6VpsjDVOamkbIGawOzyDpQA6gAoAKACgAoA5rxlfGKyjsIwDJctgV14WN5uXY4MbP3VA2tMthZabb24HKIM1hUlzTbOulHkgolsVmaBQAgOaTADQgEpgOoAQmgBKAOd1iKTW/Een6PBggOHl46DIr08DT+0ePmFT7J7lZwLb20cSfdRAo/AV6J5JYoAKACgDgvjHoH9s+BprlCfO01vtKgDO5ejj24Of8AgNAFj4TeIP7e8C2qyyl7mw/0abPXC/cPv8u3n1BoA7WgAoAKACgAoAKACgAoA83+MOiveaFFfw/621kz+HWk1eNhptSTRg6Lei/0q3nBySgBHuK8CtHkm0z6bDTU6asXqzNxQKAFoAKAE70ALQAnGKHsUl1MTQ7NvEPxHh4zb2fU9eRzXs4SNoHzmNq89VpHuCYCgDtXWcQ6gAoAKACgAoAKACgAoA8N1lH8ffHGLTwUey011Rx1Uxxnc+fcsSv5UAe5UAFABQAUAeZ/F3R3ls7XWIhl7NucenWonHmhYunLlnzGZYXC3dlDcKciRAa8CpHldmfUU5qcU0WaksMUAFJgFNAIRQAuKGAUkAhzTewGBfynRfFGm6ynCmQRyEdgcCvUwdRW5Tx8fS+0e3Wlwl1axzocrIoYGvQPJJ6AFoAKACgAoAKACgDwu/2+PPjvFFBL5tnYOg3gZGyL5mH0L5GfegD3SgAoAKACgAoAKACgAoATpQB4doG7x18crjVAVkstOkaVTngpH8kZH1bDfnQB7lQAUAFABQAUAFABQAUAFADHXIweh4oA8Z8YWf8AwinjcXkabbO/GD6Bq5cTT54nZhKvs52NAEMoYEEHkEV4traH0V76j6ACgBD1oAOlAC0AFACYoAR1DoUIyCMGi+qYmrpo4qOeTwz4ka2Jxa3Lh89hwa9Kyqw8zy1J4apr1O0UhlDA8EZFec7p8r6HqRtyodSGLQAUAIaADrQA0kKCzHCgcmkld2E3ZXOSt0PiDxU9yfmtrMhV9M16Lao07LdnmwTxGIb6I68da89eZ6Ye1ACUAKBikwA0IAApgLQAmRQBFdXCWlu88jBVQZJojHndhSlyq5J8LNKfUb+88R3KE+Y5WAt6CvfpR5Ycp8vWqe0nzHqyjFamQ6gAoAKAIri3iu7aW2nQPFMhR1PRlIwR+VAHiPgm4m+HPxSu/DN5I/2G+cRRu4wGJ5if8c7TjufagD3OgAoAKACgAoAKACgAoAqajYxahZS20y7kkBBFAHhmkmTw/wCIbvQLkbF8wmHPp2xXnY2ldcyPVwFaz5Wzpu9eYeyLn0oAMmgBaTAM0IBCaYGfrWpJpenPMxwzfKg9TWtKDnNJGNep7ODudT8LNAOn6B/aFzHi5vGMjE9cHpXuxioqyPmJtylzHegYFUIWgAoAKACgAoAKACgDmvH/AInXwn4SutQVgLpx5NqD3kbofwGW/CgDjvgb4ZNppNx4lueZ7/MUJPURq3zH/gTD/wAdFAHq1ABQAUAFAGfrOmxatpc9nMuVlQr9OKAPFvD88unandeH7okNbMfLz129q8rGUbPmPYy6tzLlZ0QzzmuC9z1rW0FoAKACgAoATPNAC0WAO1APYzdc08ajpUsPRwNyHvkVrh58kzDFQU6djqPhV4gfUtDbT7t/9Js22EE87e1e8mnqj5qUXHRnfjpTJFoAKACgAoAKAOW+IvioeE/CVxdxsRdz/uLXGMiRgfm/AAn8AO9AHK/A7wy1holx4guVIm1E7IQw6RKev/Am/RQe9AHqdABQAUAFABQAUAFABQBxHxX8Up4c8HTwxy7b3UVMEC98H77fgp6+pFAFX4N+GV0TwgmoTRAXepnzixHzCL+Bfp1b/gVAHoNABQAUAFABQAUAFABQAUAIaAOa8b+GI/E+ivbHiWP5oz70CfdHmPh7UXCvpd58t3asUIP8QHevHxVJxlzI+hwdZTgot6o3QfWuO2lzvasGaBC0AIetACUAOqQEzVAJQBla9oserWh7TIvyH8R/hW1GrySOXE0vaRKXhbVi8B0u6O25tyVwe4FbYind86IwtVNckt0dFXGdz0CgQo6UABoASgDnvFWqNFbrp1p81zcHHHYV1Yend88jjxVT3fZx3L+g6WNK0xIesjfM59SayxE+eehrhYezhruafaszZKyDBpDFoAKTAKQBTQCE02AlJMDn9TWbxLq0Hh6wJIc5mcfwivSwdCz55Hk4/E6csT2bQtJh0XSLfT4B8sKgZ9TXpnjmiBigBaACgAoAKAPNvjJ4OfXNFTW7GMG+01SXxndJD1IHup5/OgDS+F/jZPFnh9ILmXOqWShLgMeZB0Eg9c9/f6igDt6ACgAoAKACgAoAKAEPIoA8z+KPhKS6iXX7Af6TaAMyj+ICplFSjYqE3CVzE0bVotXsUlU4kUDenoa8OtTdOTR9Lh6qqQVtzQBrE3tYM4oAdSYDTQgEZgilmOFXkmnZvRA2lqzE0rS5PHfigRrlbCxO4t2Zs17OEpKnG7Pn8ZiHVlZHt0EKwQJFGMKgAArrOEmoAKACgAoAKACgAoAazKiF3YKqjJJOABQB4Rrd3c/Fz4jxaVYTEaPZE4foPLBG+Tp1boufbpzQB7lZ2dvp9lDZ2sQiggQRxovRVAwBQBPQAUAFABQAjDIoA8u+J/huSCSLxLp6YlgYGYLwStRUjzwdzSnNwqJoztL1GHVLNLmE8Ecj0NeFUg4M+lpVOeNy6elQarzEBpALQAUAJigBaACgBDStZ3A5y6nuPCviWHW7bItZCBOq/wA69bB1eaPKeJjqLjLmPbtN1CDVLCK8t23RyqGFd55hbHSgBaACgAoAbJIkUbSSOqIgLMzHAAHUk0AeDarc3Xxg+I0WnWcjpo1lnD44WMEb3+rHAH4e9AHutpawWNnDZ2sYiggjWONB0VQMAflQBNQAUAFABQAUAFABQBDdXUFlaS3VzKsUEKF5HboqgZJoA8MtVuPjD8SftEqMuiafztOV/dBuF7/M56+2fQUAe8AADAGAKAFoAKACgAoAKACgAoAKACgBKAGsOaAPMfiL4Omiuv8AhJNHRhcRDMqIOGH0qKkPaKzLp1HTkmjI0fVodWtd6HEq8OncGvDq0nCVlsfSUayqx3NCsTd6MUGmAHrQAAUALUgGKoBMc0AHQ8UDukcx4j0iaGYazp4K3EfLqP4hXZRqKS9nM83EUHGSqRNXRtZt9XtFeNh5qj94ncGsatJ0nbodVGsqq8zS7VgrvU3emglMAoAztZ1eHSbNpHYeYR8idya0o0pTZjiKsaUOYyfDmlTzztrGpAtO/Mat2FdNepZckNjlw9Fz/ezOnrhsehe+o4dKYCHNABzQAtABRYBDQAlDGlcxtd1k2aiztP3l9N8qIoyeeK6sPh3JpvY4cZiPZxtF6nb/AA88GjQbJr28Um+uOWduoHpXs8qtY+fcm3dncqMCmIWgAoAKACgAoAQgEYIyDQB4b4y8P6j8M/F8Xi3w/HjTZJPniU/Khb70bD+43b09iBQB634X8Taf4s0WLU9Pf5W4kiYjfE3dW/zyOaANigAoAKACgAoAKAENAEU0Mc8LxSIHVxgg9xQB4p4p8P3HgfWzqVmjHTrhz5igZCZrnr0VUj5nVh8Q6MvI0rO7gvrdZ7eQOjDtXiyg4OzPoYTU48yLBGKksBQAE0a9A06nO6neT63fxaDo5MkkrYmdB9wfWu/C4dv3meVjMVZckdz1jwl4at/DWjRWkSDzesj92Ner7ux4yv1OgHSgBaACgAoAKACgAoAKAPHfip44uNUu/wDhCfDgknnmkEdzJCeXP/PJf03H2x60Adv8PfBcHgzw+kDKj6hcAPdzL/E3ZQfRc4/M96AOroAKACgAoAKACgCteW0V3ayW8yBkkG0g0AeL+IdMn8A66ZIVZ9LujnpwjVy16HtFdHZhsRKnKzNWGaOeFJYmDKwyCK8Zpp2Z9CpKSuiSkMcDmgAoATNAC0AFADSMUAQ3VtFeWzwTIGRxg5qoScJXiROCqRtIp+EPE934R1tdG1Fy2nSNiGRv4c9q9ujWVRHzmIoOlI9kgnjuIllicOjDIIOc1uc5L2oAKAFoA8Z+J3j6bXLweDPDBadp5BDcyxH/AFrEj92p9P7x/DpmgDvfh/4Lg8F6Atsdkl9Ph7uZf4m/ug/3R2/E96AOpoAKACgAoAKACgAoAQnAyaAPEviL4uvPG+tx+C/DKtND52yd1PE7g+v9xcZz0OM9hkA9P8GeFLTwfoEWnW4V5j89xMBgyydz9OwHpQBv0AFABQAUAFABQAUAFABQAUAFACUAMkRXBVhkEYI9aA6WPKvGvge70q9OvaCvGf31uvGR7VnVpqorGlCo6T0ZnaRrVvqkWOY7hOHibgg141ahKDv0PoaGIhUil1NMetc9zqaSDimIWgBCaVgDJpgLmgAoHcaehBGQfWlezE9dGcrq+izabdf2vpXDA5khHG4V6FOrGS5Jnm1qE6cvaQNXRdettYiGD5c68NG3Wuarh5UmdNHEwqrXc1fbvWFzq5ZGZrGvWujxDed8zfdjXqa6KNCdR+RzVsTTp6dTI0nRbjU7savqufmOY4W5wO1bVKqh7kNzloUJVJ+1nsdUAAAAMAVxdbnpLR6CgZoAWlcApgIaAEzmgBRQAnU0BYxtX18WrCzsozcXj8BE7e9dmHw7m7y2ODFYuMFyx3Oq8CeAXsXGsawRLfS/MFPOz2r1owUVZHhVJym7s9FQYGKokdQAUAFABQAUAFABQBBeWdtqFnLZ3kKT28ylJI3GQwNAHhms6Jr3wd8Qf2zokhudIuDsIk5GOuyQDv6MP8RQB614S8Z6T4x04XOnzBZ1H761c/vIj9O49COD9eKAOgoAKACgAoAKACgBD0oAp6hp1vqVlJa3MayRupBDDNAHjWveG9R8Cak11Zo0+lP8zKD9z14rnr0FUR1YfEOk7dDQsNStdSt1mtpAwI5XuK8adNwdmfQU6kaivEtOQilmYBR1J7VFm9i20ldnO3Wo3uv3f9kaFGZGJ2yTA8LnivSw+Fu+aR5OJxtlyxPTvBvgq08MWfAWS6kAMkpXnNem2tEjx7tu7OqA460hjqACgAoAKACgAoARmVFLMQqgZJJwAKAPHvHfxUudQvD4a8GZnlnJgkuogSzMeNsX/wAV+XrQB03w3+G1v4Ptvt19sn1eZcM45WBf7q+/qfwHHUA7ygAoAKACgAoAKACgBD0oAz9W0i11mxe0uo1dHHcZxRdiseNajpOp+AtRZZg1xpcjfK687K5K+GU7yR34XFOk7S2Nm2u4L2IS27h1Pp2rx3Fwdmj3YTjPZkvSkWOzQAlAAelACUAFAC5FAFPU9Ng1S0aCVRkj5WxyprSlUdOVzGtSVWFnuQ+FPF114Lu/7K1ovJZOf3M+c7a9qlWjUWh8/Ww86Tsz1+0vre+tkuLeUSRuMgg1s9DnJ2kSOJpHYIiglmY4AA7mgDxzx98Tp9duP+EX8Hb7g3J8qW5iB3Sk9Uj9vVvrjjkgHWfDr4b2ng+0W8vFS41iVfnl6rCD/Cn9T3+lAHdUAFABQAUAFABQAUARzTRW0LzzypFFGCzu7BVUepJ6CgDxXxt8RNR8ZakPC3g1ZXgnOySaMEPP64P8Kep7/TqAd98P/h/Z+CdPLFhcalcKBcXGOB32J6Ln8+voAAdhQAUAFABQAUAFABQAUAFABQAUAFABQAmM0AMkUOCrDIPUUAeeeLfhtHeTNqWhn7Lej5iFOA5+lTKKkrMqM5Rd0cbBrl7pdz9i8QWr28gO0SbTtP415lbCPeJ7FHGp2UzehuILmMSQSrIp7qc1wyjKO6PSjOM1eLHg1Nx3QUxhQAuM0AHSgANGnUBOoIPINSnroCjJqz2OZ13QreMnULS4FnOnzHBADV30qspPlkrnn4ijCK5ouxi/8Jnq32LYIvnzt88ocfnXSsLHc5fr1S3Kja0HQoJyNQvbhbyduRzkL+FclarKD5VodeGw6n78tTpjxwMAdh6VyPXbc79YqyWgpGKADNK4BmkAY71SAM0XQCAZpXXUajIhur21sUL3MyIB6nmrjCUtkZutCHxGGl5rPia6+x6DbOsTHDXDKQMexr0aOFs7yPIr4291E9E8H/D+z0GP7VdL9pv3+9LJzj6V6CSWx5spOW52YHHSmSOFAC0AFABQAUAFABQAUAFAEc9vDdQPb3ESTQyKVeN1DKwPYg9aAPHfFHwp1Tw9qA17wJNMjRncbVH/AHkf+4T99f8AZOT9aALnhP43W8zix8VwfYp1O37VGp2E9MMnVT+Y+lAHqttdW95As9rPHPC4yskThlb6EUAS0AFABQAUAFACEcGgCvcWUN5btBcxLJG4wVYZBoA8P+IOkWHgjUBcaVfiCeZs/ZAwbjrkqOQPrWdSlCa1NadepSl7r0Odt/Ef9v6hDZ6nqX2G1dgpZAQCSe57D36VlTw8Ya2NquLqT6nvXhbwzpOhadH/AGdGjb1yZlIbf75HWunpY4+tzoAKBi0AFABQAUAFABQBzPirx/4f8JREX12Jbog7bWDDSE+4/h+px+NAHlN3r3jb4uXT6fpNt9i0pWxKquRGAf8Anq/8XToB+HegD1HwX8PdI8Fwb7cG4v5F2y3cg+Y+oUfwj2/MmgDq6ACgAoAKACgAoAKACgAoAQjigCnqGm2mqWj2t3CssTjBVhRcDyvXvAOq+GpnvfDbvJbnl7dhnH0rKrRhNeZvTrzpvRmbp3ia3unFvdqbW5HDI/HNeTUwsoPRHt0cZCa1eptggruUgg9wa5nodi11QUXAXIxRcA4oAOKADp1p2ADjtSHYrX+n22o2/k3Uauvv2qoVJQfumVSlGa945yHxFqvge+WHT737XbM3/HuTuIFezQrSmrs8HE0YwbsU9b8aeIPHerwaFNfx6VZTOE8uVvKTJHWQ9Tz0HTp9a6TjPZfBHgLSPBtnutD9qu51Hm3b4yw9F/ur7fmTQB1VABQAUAFABQAUAFAHJeLPiV4e8Jo0c1wLu9xlbW3IZv8AgR6L+PPsaAPMGl8cfGK62IosdFSTnBKwpz37yMB+Gf7uaAPW/CPgnR/Btk0GnRs00oHnXMhy8hH8h7D/AOvQB0NABQAUAFABQAUAFABQAUAFABQAUAFABQAUAFACED0oAzdW0LT9ZtmhvbeORT0LKCRRqKyuecar8Kb6znNx4evyi55hJOKzlSjLdG1OtOm/dZiT3PiXRD5eqaQ8gTgvEc5rllhE9jvpZjOPxaiR+MdLyFnLwMezKa45YSrHodscdSZej8QaXKMpdoRWXsZ9jdV6b6kv9r6f1N3Hj61Ps59h+2p9yKTxBpMQ+a7T8KapTfQl4ikt2UZfGWlfdgZ539FXrWywsnuYvG0ugsF34j1wiLStJaPP8cpxiuqGDtqziqY+W0Tc0n4U317Mt14hvjJgj9yCcAV2QpRj0OCdWc3qzv8A/hF9HGnfYfsMHkbcY2D861buYrzOA1b4UXdnP9p8O3zRAnLREnBrOdOE1qjWnUlTejMKe68SaGfK1XSXkCHBeM5yK45YO/ws74Y9r4tQTxjpZIWZpIG9HXpXJLCzR2xx1Jl6LxBpMqgreIaxdGfY6FXptbkp1fTtuftUf50vZT7D9tT7kEviLSYFy12n4VUaM30JliaUd2UZPGWnnItY5bl+wRa1WEk3qYSx1NLQmtofFniEhNP077NGeskhwQK7I4OK1ZwTx85aI6LRfhKDMt3r1411KDnZyV+ldcIRitEcM6kpvVnoljp1rp8Cw2sCRIvZFAqzOyvctgYFAxaACgAoAKACgAoAKACgAoAKACgAoA5rxT4A8P8Ai5C2oWnl3OMLdQYSUfU4ww9iDQB5rc/DLxx4NuTdeENXkuod24xxyeUx/wB5GO1v1+lAD4PjP4m0C6+xeKPD6tKOvDW8mPXBBB/DFAHU2Pxu8I3MIa5a7s37pJAW/IrmgDYg+KHgm4XcmvwAf9NEdD+TKKALMnxB8IRrubxHYEf7MwY/pQBnXPxb8EWx2nWRKfSKCRv124oA57V/jzo1sNuk6bc3z/3pWEKD+ZP5CgDn/wDhKfij48hKaPZPZWcpx5tsvlDH/XVzn/vk0Abvhn4I2sEy33im8OoXJbe0ETHyyf8AaY/M36fjQB0/iL4XeFvEFosQ0+PT5oxiOeyRYyB6EAYYfUZ9xQB59/wg/wARvAVyZfDV81/Zgk+XE3BH+1Cxxn/dyfegCxZ/HLVtNmNp4j8PATJw3lloXH1Rgf5igDq7b40+C51UyXd1bE4ystsxI/75zQBqwfEzwXcAFPEFsM4x5gZP/QgKAJpPiH4Pixu8RWJz/dl3fyoAzLj4weCLdio1Z5iBn91bSH8MlQKAOa1b4+abCxTSNHnuvSS4kES/XAyT+lAGO2qfFfx9EqWls+m2Up/1kQNshHruY7mH0z9KAN7w38DdOtXS68R3jahcbtzQRMViJ9z95v0oA9PtbS2sbZLa0t47eCMYSOJAqqPYCgCagAoAKACgAoAKACgAoAKACgBKADFACMARyKAOX8ReBNH8RI5mgSKZhxIi4OfrRdbWFre6OCvPh/4o8PkyaXd/bYR0jZsY/OsZ0IS6HVTxU4Gc3iK+sJPK1XSp4yOrKMiuGeCd7xPQhmKatJE0Pi7RpW2m4KH0Za5pYastTqhjaMnZbl1Na02QZW6Sp9jU7G31iHcDrOnL/wAvSUvZy7B7an3K0/ijR4PvXYY+iir+rT7GcsXT6MqHxX9ofZp2nz3DHoQvFaxwUnuc1TMF0Llt4Z8Y+JOXA0+3Pq3P6V208NGG559TGTmdt4Z+G+l6HtnnUXd13kkGefxrrSitjkbcndsf4q+Fvh7xT+/aNrG9x/x8W4A3cYG5ejY/A+9DEcDH4Z+J/wAP5D/Ys7alYqCfKhbzE/79NyD/ALv50AW9M+PNzbyC38QaDiRDiR7ZijD/ALZt/wDFUAdXbfGfwVOqmS+uLYnqJbZyR9doNAGpD8SfBk+NniG0GTj5yU/mBQBJL8RPB0Iy3iKxPGfkk3fyzQBmT/GHwRCSF1WSYj/nnbSf1UUAcvq3x8t1kMWiaJLPnhZbqTZk/wC4uc/mKAMuT/ha/wAQURGjfTLCXqebaMg+vV2H50AdN4Y+COi6W0VzrUzapcLyYsbYAfp1b8Tg+lAHpUUUcESxQxrHGg2qiDAUegA6UAPoAKACgAoAKACgAoAKACgAoAKACgAoAKACgAoAKACgBKAAD2oAjmt4pkKvErg9iKAMa88GeH77Pn6VbuT3280avdi22RlTfCvwxMSfsez2Q4pWHr3K3/CofDIb/VTH/gdFl2H8yzF8LPDEXWz3+zHNNJdguatp4L8PWODBpVurD+LZzQS0jYit44QFjjVQOmBRdgS4HpQMKADA9KAI5LeKZSskSsD1yKAMa88GeH77Pn6TA5PfbzRdvdC22RkTfCrwzKxYWZTPZTil8h69yv8A8Kh8NBs+TMR/v07LsP5luD4XeGISCbESD0c5padEFzZs/Cmh2GPs2mW6EdCFp3YrI1kjSMYRFUewoAXbQAtAC0AFABQAUAFABQAUAFABQAUAFABQAUAFABQBFcW0F3C0FzDHNE33kkUMp+oNAHL33wt8F35Jk0KGJic5gdosfgpA/SgDDm+BPhORspc6pEMnhJ0P80NAEf8AwoXwr/0ENX/7/Rf/ABugC7afBTwZbNmW3u7sek1yR/6BtoA6XSvBnhrRJRLp2i2kEo6SbNzj6M2SKANugAoAKACgCvfafZanbNbX9pDdQt1jmjDqfwNAHLXvwn8FXuS2irCx/igldP0Bx+lAGNJ8CfCbkFbrVI/ZZ0/qhoAYPgL4Vz/x/wCrn/ttF/8AG6ANGy+DHgu0bdJZ3F2Qcjz7hsD8Fxn8aAOl0rwp4f0Nt+maPaW0g48xIhv/AO+jz+tAGvQAUAFABQAUAFABQAUAFABQAUAFABQAUAFACEZoAMCgBCM9qAK1zptndqVuLaOQHsy0AYl18PvDN3nfpUCk91XBoAzJPhN4ZkJ/0Z1+jUWQ/mInwj8Moc+TKfq1L5B8y9a/DbwzbYP9mxyH/bGaqyFdm3aaFplgALWxhix/dUUgL4RQMAYFAC4FABQAtAFPUdJ07V4PI1Kwt7yPss8QcD6Z6UAcve/CPwTeA40k27YxugndcfhnH6UAZD/AfwozZF5qyD0WaPH6pQAi/AbwqrAm+1ZgOxmjwf8AyHQBp2Hwc8F2RBfT5bth0NxOx/RcD9KAOm0nw3ouhKRpel2toSMFo4wGP1bqaANOgAoAKACgAoAKACgAoAKACgAoAKACgAoAKACgAoAKACgAoAKACgAoAKAK15qNlp4Q3t3Dbh87TK4XOPTNS5KO7NqVCrWv7OLduxV/4SXQ/wDoL2X/AH/X/Gp9pDubfUMV/wA+39zJ7PVtO1CRo7O+guHUZKxSBiB68VSnGWzMquGrUlepFr1QWOqWmozXUVs5ZrWUxS/KQA3se9EZKV7dArYepRjGU18SuizNNHbwSTSsFjjUszHsAMk027K5lGLnJRjuyDTtQg1SwivbYsYpRldylT1x0NKMlJXRpXozoVHTnui1VGIhOBk0AUdJ1m01qCSezLtHHIYyzLgEjuPUVEJqaujpxOFqYaSjU3auLqWsWmkm2F2zL9plESELkAn1PYUSmo2uFDC1MRzcn2VcvVZzBQAUAFABQAUAFABQAUAFABQAUAFABQAUAFABQAUAFABQAUAFABQAUAFABQAUAYPizU9R0fTor+yEbRRSr9pRlyShPY9vT8axqylFXR6eW4ejiKrpVN2tPU2beeO6toriFt0cqB0PqCMitU7q6PPnBwk4S3RLTICgAoA5vxb4gl0r7JZWU0Ud5dSj5pcbY0zyTnt2/OsKtRxsluz18twUa/PUqJuMV06vy/rsaq65pIUBtWsiccnz05/WtOePc4XhMR/z7l9zMay8VR/8JPfWF5f2htNivayq6hfcFs9ef0rKNX32m9D0KuXS+qQq04PmvZqzv93b/M2f7c0j/oK2X/gQn+Na88O55/1TEf8APuX3Mlt9SsLuTy7a+t53xnbHKrHHrgGmpRezInQq01ecWl5plqqMQoAKACgAoAKACgAoAKACgAoAKACgAoAKACgAoAKACgAoAKACgCvf3TWVjNcrbyXBiUsIohlm+lTJ2VzWjTVWooNpX6sraJrdnr1iLq0Y8cSRt96NvQ0oTU1dG2LwlTC1OSfyfc0as5DFuPE9pHrsGj28cl3PISJfJwRD/vf19KydVc3Kj0IZfUeHliJPlS2v19DarU88KAGu6xozuwVVBLE9AKBpNuyM3QdbXXrJ7uK3khiErIhc/fA7is6c+dXOvGYR4WapuV3a/oGt65FoaW0k8LvFPOsTSAgCPPc/r+VE5qFrhhMJLFOSi9Ur+pqVocYUAFABQAUAFABQAUAFABQAUAFABQAUAFABQAUAFABQAUAFABQAUAFABQAUAFABQAUAY/iiztbrw/fSXFvHK8NtK0TOoJQ7TyPQ8Cs6qTg7nfl9WcMTBRbSbV/PUxtM0XS5PAqXT6dbNObNm8wxKWzg859ayjCPsr26HoYjF11mDgpu3MtLkej3Fpofge21CC1i/tC5j8qIqg3yuWIUe/r+FKDUKSklqXioVMVj5UpSfJF3fZK2pIl4fDGi2el6e0N5q91MN6bt2XJyzNg5wOmfx7U7+ziorVsh0vrtedareNOK/BbJfmWvE9xLqLQ+HLWQLNcgPdyKeIYR1P49v/r1VVuXuIwy+EaKeLmtI/Cu7/4BKmsBNdsdB0ZYJIIYs3LD5hEgGAAQev8AiKfP7yhEh4W+HnicRdNvTzfX5HRVseUcp43177JbJo9pIBe3xCE5/wBWhOMn69Pzrnr1LLlW7PbynB+0k8RUXux19WiLT/DninS7NLOz1u0ihjztX7OD1OTyRSjTqRVky62OwFebqVKTbfn/AMEyvGFn4ih0iP8AtPVYLqGS4VAiQBSGwcHOPY/nWdZVFH3md2WVcHKs/Y03FpPqbq6X4yVQB4gtuBjm2B/pWvLV/mPMeIy1/wDLl/f/AMEP7M8Z/wDQwWv/AIDL/hT5a38wfWMt/wCfL+9/5nTKGCAMctjk+prc8d2voOoEFABQAUAFABQAUAFABQAUAFABQAUAFABQAUAFABQAUAFABQAUAc3feBdK1C+mu5p7wSTMWYJKAAfbisJUIyd2evRzevSpqnFKy8v+CZupeC/Dmk2Ml5eXl8kUY/57DJPYAY5NRKjTirtnXQzXG16ip04xbfl/wSW38A6De2sdxFc37RTKHUmQDIPTgrTWHg1fUiec4unNwlGN15f8Eq6r4S8MaHbxzXt3fxxyOI1KvnB/BelTOjTgrts2w2ZY7EycacYtpX2/4Jdi+H+hTxLLFd3kkbjKss4II9QcVSw8Hqmc8s6xUW4yik15f8E1dE8MWOgzSy2ktw7SqFbzXDDHtwK0hSjDY4cXmFXFRUZpadi3q+rWui6fJeXb7UX7qjq7dgPeqnNQV2YYbDVMTUVOC/4B5vY6paXmv3t54l06a4eRF8uJIy3lA8gYyMcYrijJObdRH11bD1KeHhTwc0kr3d9/6Zrfb/Bf/QvXX/gMf/iq05qP8pxexzP/AJ/L7/8AgGTbXXhweJ7ySXSZ2sWiURQCElkb5ckjPHf86zTp8700O6pTxv1SCjUXPfV36amt9v8ABf8A0L11/wCAx/8Aiq05qP8AKcPscz/5/L7/APgG94YTQbl5bvStMe0kj+RmkjKkg88cn0rWlyPWKseZmDxcEoV58yeujudFW55IUAFABQAUAFABQAUAFABQAUAFABQAUAFABQAUAFABQAUAFAFPVJL+KxZ9MgjnuQRtSRsKRnnmpk5Je7ub4eNGVRKs2o+Rh/b/ABt/0B7D/v8Af/ZVjzVuyPS9jlf/AD8l93/AKlpD4osbm4ubXw7psUty26Vlm+8f++uKlKom2oo3qSwNWMYTrSajtp/wBuneJPFWq+f9k0qxf7PIYpMyEYYfU0RqVZbIdfAYChy89SWqutOn3C2UHibTpZpbPw5pcLztukZZeT/49wPaiKqR1UUFWeBrJRqVpNLbT/gGnY3niyS9iS90uziti37x0lyQPYZrSLq31RxVqWXqm3TqNy6af8A6GtjyzifHfiFBs0C2nCSXDKtzJniNCen49/b61y16n2EfRZPgm74qa0Wy7v8Ar8RtvoVpawLBb+N5ook+6iXKgD8N1JU0lZTHPGVKknKeFTfo/wDIyfFNktvpce3xTNqIknVGhecOAOTuxntis6sbR+K53ZdVc6rvQULJ62t8tjZXSIlUKvju4AAwB9qX/wCKrXkX8557xMnr9UX/AIC/8h8ejCaRY4vHN27scKq3IJJ+m6nyX+2TLFcqu8KkvT/gHYKNqBSSSBjJ710ngt3dx1AgoAKACgAoAKACgAoAKACgAoAKACgAoAKACgAoAKACgAoAKACgAoAKACgAoAzvEP8AyLep/wDXpL/6Aaip8D9DrwX+9U/8S/M4/T/Dt3N4QW9XX7+OM2rP9nVzsAwflxnpXNGm3TvzM96tjqcca6boxbulfr6lqy0vR73wLpt3rJYQ2cTsMOVzlunHXoMVUYwdJOXQxq4jE08wqU8PvJr8iLw7Z6foU0etX1sbP+0JRDZQ4LCFT0LMehI/r+CpqMHzNWvsXjqtbFReHpy5uRXk+78l5FnxVoug2bT6pdwzXN5dsFithKQJHwAAAOcev/6qdWEF7z3Zjl2LxdRRowaUY7u2y+ehJ4btLXwktnY3iMt9qpJMgHyKQOEzn3/M06aVKye7Ix1Spj+epTfuU/v9f66HVXHnfZpfs2zzth8vf93djjPtmuh3toeLDl5lz7dTzbxD4eOn6daX+r3Blv7y8X7TLu4RcH5R9P6cVw1KfKk5btn1+CxvtqsqVBWhGLsu77l3+z/A3/Qam/8AAg/4VfLR7nN7bNf+fS+7/gmT4jtPDMNhE2lalJcTGdQytKWwmDk9PpWdRU0vdZ3YGpjpVGq8Elbt1Nb+z/A3/Qam/wDAg/4Vpy0e5w+2zX/n0vu/4Jb0qy8IR6pbPZatLLciQGNDMSGPpjFVCNLmVmYYmrmLoyVSmlG2uh21dR86FABQAUAFABQAUAFABQAUAFABQAUAFABQAUAFABQAUAFABQAUAFAFPVNVs9Hs2u72YRxr0Hdj6AdzUymoq7N8Ph6mImoU1dnJW0E3iq/h1XXCtppauBZ2kjAecx6E565/Xtx15knUfNPRdD3ZzjgaboYb3qn2pLp/X4HcAADAGAK6z5shvYLW5s5Yr1I3typ8wSfdx6n0+tKSTWppSnUhNSpv3uljjAbvwPOtxbO194fuGzgHcYM9wfT9D9ea5daLutYn0NqeZx5ZrlrL8f6/D0O1tbmC9to7m2kWWKRdyuvQiupNNXR87UpypycJqzRW1DRrHVJ7Wa8hErWrl4wTxk+o79j+FTKEZNN9DajiqtCMo03bm3ORjuNWt/HWtnSbKK6ciPeJJNm0bRjvXOnJVZcqPdlDDzy+j7eTjvayv1NX+0fGX/QCtP8AwJH+Nac1X+U4fYZb/wA/X93/AADBs7zxEvjbUJYtLt2vmgUSwmYBVXC4IOee351inU9o3bU9SrSwbwFOLqPku7O3qb39o+Mv+gFaf+BI/wAa25qv8p5fsMt/5+v7v+Aauj3Gr3Ecp1ayitXBGwRyb9w7960g5P4kcWKhh4Newk5d7qxpVZyBQAUAFABQAUAFABQAUAFABQAUAFABQAUAFABQAUAFABQAUAR3BmFtKbdVaYIfLDdC2OM+2aTvbQqHLzLm26nNfavHX/QP0r/vpv8A4qsL1uyPY9nlX88vw/yD7V46/wCgfpX/AH03/wAVRet2Qezyr+eX4f5GD4Wn8ToNR/s20sZM3bGbzmIw/cDkcVjSdTXlSPTzCGBfs/bSkvdVrdvuN77V46/6B+lf99N/8VW163ZHmezyr+eX4f5Glos3iGWaUazbWcMYUeWbckkn3yTWkHU+0cmKjg4xX1eTb63/AOGNK4SSS2lSGXypGQhJMZ2nHBx3q3toccHFSTkrrsed+JPD9roOi2L3JNzcTXqtdznkvwSQO+P51xVKahFX7n1eAxtTFV5qGkVF8q7bFj7b4D/6BE3/AH5b/Gq5qHYy9lm3/Pxfev8AIyfEdz4XlsIl0mwkgmEylmaNlymDkcn6VlUdO3uo7sDTx8aj9vO6t3W5rfbfAf8A0CJv+/Lf41rzUOxw+yzb/n4vvX+Rb0q78HPqlstjpksdyZB5TmJgA31zVQdLmVlqYYmnmSoydSacba6o7auo+dCgAoAKACgAoAKACgAoAKACgAoAKACgAoAKACgAoAKACgAoAKACgAoAKACgAoAzvEP/ACLep/8AXpL/AOgGoqfA/Q68F/vVP/EvzOP0/VNfTwgtvFoIktPsrKLj7QoyuDlsVzRlP2duXQ96th8I8a5Sq2lzLSz37DYtGGp+FtEludaWwtI1wEdAQ0m5sHkjnHrmkoc0I3dkOWK9ji60YUuaT/KyLev+GNPtNKe51XWNRnkLBUlkbeEYnghf/r1VSlFRvJswwWYVqlZQoU4pdlpf5hq2iSHxVZvNr88dxcJsttsG4rtUbuc4XJyeneicPfV5BhsWvqc1GinFavXu9PUsXXhKxF5aLca7eNqDSCSFriUOTtOTtWqdGN1eWplTzKryScaS5LWdlbfuzsK6TwTlPH8MsthYNFayXIjvFd0jQsSoBzxXPiE7LTqe3k0oxqTTkleL3dip/b2l/wDQl3f/AIAr/hU+0j/J+Bv9Tr/9BK/8CZleIryDVLGKGw8LXdrIkyuz/YwuVAORwPcVnUakrKP4HdgaUqFRyq11JWt8X+Zq/wBvaX/0Jd3/AOAK/wCFae0j/J+Bw/U6/wD0Er/wJjo/EWnwyLJF4PvUdTlWWyUEH2NCqRX2PwFLA1pK0sSmv8TOutZ/tVpDceW8Xmxq+xxhlyM4PvXSndXPBqQ5JuF72diamQFABQAUAFABQAUAFABQAUAFABQAUAFABQAUAFABQAUAFABQAUAYFx4Tt7/X21PULiS7jUDybaT7kZ7/AFHt+eaxdJSnzS1PUhmU6WH9jSXK+rW7/r/hrEvijQl13R2gjwtxEd9u3TDDt9D0/wD1U6tPnjYzy/GPC1+Z/C9H6EXhLXjrGnGG6ymoWn7u4RuDkcbse/f3zSpVOZWe6LzLB/V6vND4Jar/AC/roZviXUJtd1JPC+lv945vZl6RqOq/4/gPWoqyc37OPzOzAUY4Wk8bWX+Fd33/AK9TprfTLO20xdNSFTarH5flsMhh3z65rdRSjy9Dx54ipOq6zfvXuUvD+gDw+tzDFdyS28su+KJukQ9Pf/6wqKdPkurnRjcb9bcZSjaSWr7mxWpwHLXfhbVDrl5qena0LM3W3coh3HAAHUn2rndKXM5RdrntU8xofV4UatLm5fMP7A8U/wDQ1H/wGWj2dX+YPrmA/wCgf8WZmm6BqV9dT6tp/ipZJnPkyzC1xnGOMH8KiNOTfMpHZXxlClCNCrh7JapX7mn/AGB4p/6Go/8AgMtX7Or/ADHH9cwH/QP+LLWmaRr9rqEU174g+12653w+QF3cEDn64P4VUYTTu5XMMRicJOm406PK+9zfrY8wKACgAoAKACgAoAKACgAoAKACgAoAKACgAoAKACgAoAKACgDL1ptcUQ/2Klox5837Tn2xjH41nPn+ydmFWFd/rDflYwNU1bxlpGny311DpXkxY3bd5PJAHf1NYynVirux6mHw2W4ioqUHK79P8ie3u/HFzbRTpBpIWVA6ht4OCM+tUnWavoZzp5XCTi3PT0/yKelaV4x0f7T9mj0xvtMxmfzGY4Y+mMcVEIVY3tY3xOJy3EcvO5e6rdDQ8zx1/wA8dI/N/wDGr/feRy8uVd5/gAk8dZGYdIx35f8Axo/feQcuVd5/gdRXQeMc141sL++s7E6fam4kgullKBgOAD61hWjJpcqPXyqtSpTn7WVk4tEf9veKv+hWH/gStL2lX+Uv6ngP+gj8GZfiBvFGvWMdq/h0wiOZZdwnVs4B4/Ws6ntJq3KduCWAwtRzVa91bZmp/b3ir/oVh/4ErWntKv8AKcX1PAf9BH4MP7e8Vf8AQrD/AMCVo9pV/lD6ngP+gj8GdHaySy2kMk8XkzPGrSR5zsYjkZ74Nbq7Wp5FRRjNqLur6PuTUyAoAKACgAoAKACgAoAKACgAoAKACgAoAKACgAoAKACgAoAKACgAoAKACgAoAzvEP/It6n/16S/+gGoqfA/Q68F/vVP/ABL8znrTW9MsPAUEFzexJNJZsqxZyxJBA4HNYKcY0rN9D1amEr1cxlKEXZS36GXqDrH8NNFdjhVuUJ+mXqJfwYnZRTeaVkuz/Qm8W+KtI1rRlsrG4aSZp0IUxsvGfcU61WE42RnluXYnDV/aVY2Vn1RqeJZooPGHh6WaRI41MuXdgAOB3NaVHapG5x4CMpYKvGKu9Buq3lreeNvD5tbmGcL527y3DY+XvilNp1I2Hh6VSngK/PFr4d15nTX0l1FZSvZQrPcKuY42baGPpmuiV0tDx6MacqiVR2j1Zz39qeNP+hdtv/Alf/iqw5q38p6v1fLP+fz+5/5B/anjT/oXbb/wJX/4qjmrfyh9Xyz/AJ/P7n/kZFzrXi1fE9nE2nrHM0TFbNbgbJRz8xOcZH9Kzc6vOlY7qeFy94SclO6uvetqttNjX/tTxp/0Ltt/4Er/APFVpzVv5Th+r5Z/z+f3P/IP7U8af9C7bf8AgSv/AMVRzVv5Q+r5Z/z+f3P/ACNvSZ9RuLLfqlolrcbiPLRwwx2OQTW0HJr3kebiYUYVLUZcy77F6qOcKACgAoAKACgAoAKACgAoAKACgAoAKACgAoAKACgAoAKACgAoAKAGSSRwxtJK6oijLMxwAPrQ3YcYuTsldnnWt3P9qeI/tPhBZ3vkQrcTw4EbDGOp4z79+MVwzfNO9Pc+twlP2GF5MfZQ6J7ml4F1DSLO3bT5N1rqjP8Avxc/K0jexP8ALr/OtKEoJcvU483o4ipJVV71PpbZL+up21dR86FAGRrPhy21uaOSe7vIDGpUC3lCg/Xg1nOmp7s78Ljp4aLUYp37q5kz+CNJtYWmuNZ1KKNervdKoH4laydCK1bZ2wzbETlywpxb/wAL/wAyjpOgeHtbknSw1nVpPIIDEy4B9wSvNTCnTns2dOJxmMwyi6tOCv5f8Eo+GPDNlf6NdXtze6hEIJ5FK28mMhQDnGCSailSUotts6cwx9WlXjThGLuluu/zJ9L0zwvqxCQa9qccx48ma4CPn05Xn8M1UY05bSZniMRj6GsqUWu6V1+Ztx+BLCKVJBqWqEqwIBuBg4/4DWqoR7s86WcVZJrkj93/AATp63PGCgAoAKACgAoAKACgAoAKACgAoAKACgAoAKACgAoAKACgAoAKAOR8azHUrix8N2zZmu5Q82P4Ix3P8/8AgNc1Z8zUF1PdyqHsYzxk9oqy83/WnzLuoL4rjvHj0pNOFkoURCXduAwM5/HNXL2t/dtY56Ly+UE67lzdbbGRq+seMtEsTeXaab5QYL8gYnJ/GspzqwV3Y7sNhctxNT2dPmv8i4knjqRFcLpWGAI+9V/vvI53HKk7e/8AgX9JPik3y/2stgLXac+Rndnt1qoe1v71rHNifqHs/wBxzc3nsat8t29lKti8aXJX920n3QfetZXtpucVF01UTqq8etjnvsvjr/oI6V/3w3/xNYWrd0er7TKv5Jfh/mNaHxujKr6ppClzhQQRuPt8tFq3dDU8rd2qc9P67mLdxeKV8YWEUt7ZG+aBzEyg+WFw2cjHXr2rJqr7Ra6noUpYB4KcoxlyXV+/TzNjZ40M5g/tbR/NC7jHg7seuNvStf317XRwXyzl5vZzt3/pkn2Xx1/0EdK/74b/AOJotW7on2mVfyS/D/M29JTU47Lbq0sEtzuPzQAhcduoFbQ5re8ebiXQdS9BNR8y9VHOFABQAUAFABQAUAFABQAUAFABQAUAFABQAUAFABQAUAFABQAUAFABQAUAFAGTr2iS63HHANSntIPmEyQ/8tQexP5+vWs6kHPS9juweLjhm5cik+l+hQfwnoukaNePb2avKtvJiWX52ztPIz0/DFR7KEYuyOlZlicRXgpy0utFot/63JfCTQp4MsHnKLGsZJL4AHzH1p0rezVyMyUnjpqO9/0Mu6mh8V+IbOz06NX0+wlE1zcKuFZh0UHv/wDXPpWbaqTSjsjtpxlgMNOpVfvzVkutu5L4qtYL3xZoFtcxiWGQyhkboeBTqpOpFMzy6pOlg684OzVjbtPDWi2Nylza6fFFNHyrrnI4xWqpQTukefUx+JqwcJzbTL9zcR2ltJcTEiOJSzEKWIA68Dmrbsrs5YQlUkoR3Zy7+N5L9zD4f0i5vn6ea67I1/z74rn9vzaQVz2llMaS5sVUUV23f9feSWWga5fX0Ooa7qrxmJt0draHaqn3Pf8AX60405t802RVxmFpU3Sw1O9929/6/qwmo/8AJSdI/wCvWT+T0S/jRCh/yK6v+JfoW9X8MyXt8dRsdVurG8Khcq25CB0BX0/ziqnSu+ZOzMMNj1Sp+yqU1KP4/eUTrviDw+ca9Yi8tB1vLQcr7sv/AOr8ajnnD41ddzp+p4TF/wC7T5Zfyy/R/wDDnSWF/banZx3dpJ5kMn3WwR/Ot4yUldHkVqM6M3TqKzRZqjIKACgAoAKACgAoAKACgAoAKACgAoAKACgAoAKACgAoAKACgAoA5bUNa8TyahNZaXoSqI22i5nf5GHqOg/nXPKdS9oxPao4XAqmqlarv0W/6/oQx+DtQ1V1m8S6vJcgHP2aA7Yx/L9B+NL2Mpa1GaPNKNBcuDp283v/AF8/kdPZWFpp1uLezt0giH8KDH4n1NdEYqKsjxqtapWlz1HdlPWPDml66mL23BkAwsyfK6/j3+hzUTpxnudGFx1fCv8AdvTt0MH+xvFehf8AII1JNRt16W911A9ASf6j6VlyVYfC7npfWsvxX8eHJLuv6/RmxoGrapqLzQ6lo72LwgfOWyrk+nHt6mtKc5S0krHBjMNQopSo1OZP8PUk11NekSJNEltYtxIkeZSSvoR1H6U58/2CcG8Im3iU32t/X6mVB4I+1zLceINTuNSkHIj3FYx+H+GKzVC+s3c7Z5t7OPJhYKC77v8Ar7zpra1t7OBYLaFIYl6Ii4ArdJJWR49SpOpLmm7swPA9nc2WkXEd1BJC7XbsFdcEggYNY0E1F37np5tVhVrRcHdcq/U0dU8OaTrAP22zjZz/AMtVG1x+I/rVypxnujlw+OxGH/hy07dPuMqy0fX9DvoYbG/W90xmAeO6+/Cvse/+eO9RGE4Oyd0dtXFYTE03KpDln3Wz/r+mdRW54wUAFABQAUAFABQAUAFABQAUAFABQAUAFABQAUAFABQAUAFAGP4i1W+021jXTtOkvLmdtibRlUPq3+ccdRWdScor3Vc78Dh6Vab9rNRitX3foZen2UXhSzn13XZmnvrggTSKN2zJ4Ufp+XtWcYqmuee521qssfOOGwytBbLv5j/+Fi+H/wC/cf8Afo0fWIE/2Hi+y+8w/F/i/Sda0JrOzaUymRW+aPAwKyrVozjZHpZZlmIw2IVSpa1n1NiH4h6AkEaM9xlVAP7o+larEQsefPJMW5N2X3kn/CxfD/8AfuP+/Ro+sQJ/sPF9l950lzMbe2kmEUk3lqW8uMAs2Owz3rduyueRTjzyUb2v32OVOveJ9Z+TSNF+xxN/y8Xhxx6gf/rrn9pUn8Kt6ntfU8Dh9a9XmfaP9f5FjT/BoN4mo63fy6jeIQy5JVIz14H/AOoe1VGjrzTd2Z1s09x0sNBQi/vf9f0xmo/8lJ0j/r1k/k9KX8aI6H/Irq/4l+hf1fwnpmrzm6dZILvjFxA5VuOntVzpRk79Tmw2ZV8PHkVnHs9jMYeKvDnzbxrlivUEbZ1H9f1/Cs/3tPzR2L6hjNLeyn/5L/X3HR6ZqCapp8V7HFLEsoyFlXDCt4y5lc8nEUXQqOm2nbsW6owCgAoAKACgAoAKACgAoAKACgAoAKACgAoAKACgAoAKACgAoAKACgAoAKACgAoAZNEk8LwyruSRSrDOMgjBpNXVioycZKS3RTOiacdIGkm2BsgMCIsTjnPXOevvU8keXltob/W63tvb83vdyzaWdtY2629rAkMS9ERcCqSSVkZVKs6suabuyK40yzur22vZod89rnyX3Ebc9eAcH8aTim030KhiKkKcqcXpLct1RiJQAiIsaBEUKo4AAwBQNtt3Y6gRVk060l1CLUHhBuYVKRyZOVBzkY6dzU8qb5uptGvUjTdJP3Xui1VGIhAIwRkGgBI40hjWOJFRFGFVRgAfSi1hyk5O7d2OoEFABQAUAFABQAUAFABQAUAFABQAUAFABQAUAFABQAUAFABQAUAFABQAUAFABQAUAFABQAUAFABQAUAFABQAUAFABQAUAFABQAUAFABQAUAFABQAUAFABQAUAFABQAUAFABQAUAFABQAUAFABQAUARtbwNOs7QxmZBhZCo3KPQGlZXuWpyUXFPTsSUyAoAKACgAoAKACgAoAKACgAoAKACgAoAKACgAoAKACgAoAKACgAoAKACgAoAKACgAoAKACgAoAKACgAoAKACgAoAKACgAoAKACgAoAKACgAoAKACgAoAKACgAoAKACgAoAKACgAoAKACgAoAKACgAoAKACgAoAKACgAoAKACgAoAKACgAoAKACgAoAKACgAoAKACgAoAKACgAoAKACgAoAKACgAoAKACgAoAKACgAoAKACgAoAKACgAoAKACgAoAKACgAoAKACgAoAKACgAoAKACgAoAKACgAoAKACgAoAKACgAoAKACgAoAKACgAoAKACgAoAKACgAoAKACgAoAKACgAoAKACgAoAKACgAoAKACgAoAKACgAoAKACgAoAKACgAoAKACgAoAKACgAoAKACgAoAKACgAoAKACgAoAKACgAoAKACgAoAKACgAoAKACgAoAKACgAoAKACgAoAKACgAoAKACgAoAKACgAoAKACgAoAKACgAoAKACgAoAKACgAoAKACgAoAKACgAoAKACgAoAKACgAoAKAP/9k=![33.jpg](data:image/jpeg;base64,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))\n",
        "##以Colab AI產生一個99乘法表"
      ],
      "metadata": {
        "id": "M0MWbq0xXTbj"
      }
    },
    {
      "cell_type": "code",
      "source": [
        "# Print the 99 multiplication table\n",
        "for i in range(1, 10):\n",
        "    # 外層迴圈，變量i從1迭代到9。\n",
        "    # range(1, 10)生成一個數字序列，從1開始，到10（不包括10）。\n",
        "\n",
        "    for j in range(1, 10):\n",
        "        # 內層迴圈，變量j同樣從1迭代到9。\n",
        "        # 每當外層迴圈中的i變化一次，內層迴圈會完整地從1到9遍歷一遍。\n",
        "\n",
        "        print(f\"{i} x {j} = {i * j}\")\n",
        "        # 打印乘法表的每一個項目。\n",
        "        # 使用f-string來格式化字符串，將變量i和j的值插入字符串中。\n",
        "        # i和j的值分別來自外層和內層迴圈。\n",
        "        # \"{i * j}\"計算乘法的結果，並將其轉換成字符串，與其他文本一起打印。\n"
      ],
      "metadata": {
        "id": "Iyl9bMjjVA_W"
      },
      "execution_count": null,
      "outputs": []
    },
    {
      "cell_type": "markdown",
      "source": [
        "#變數\n",
        "##在Python中，變數相當於一個名牌，貼在儲存資料的記憶體位置上。\n",
        "\n",
        "##當你創建一個變數，比如用 a = 2024，\n",
        "\n",
        "##這意味著你指派了2022這個數值給變數名為 a 的標籤，\n",
        "##讓你能夠通過 a 來訪問這個值。\n",
        "\n",
        "##你隨時可以更改 a 所指向的資料。簡言之，變量就是數據的命名標籤。\n",
        "<font color=\"red\"><center>**變數名稱=此變數代表的值**</font></center>\n",
        "                <center>a=2024</center>\n",
        "                        "
      ],
      "metadata": {
        "id": "S7pPQ35BxnDO"
      }
    },
    {
      "cell_type": "code",
      "source": [
        "a=2024\n",
        "print(a)"
      ],
      "metadata": {
        "id": "Xyl78kol0uZW"
      },
      "execution_count": null,
      "outputs": []
    },
    {
      "cell_type": "markdown",
      "source": [
        "在同一支程式\n",
        "中的每個變數名稱都會是唯一\n",
        "如果在同一支程式有兩個名稱一樣的變數，就會\n",
        "用最後指向的資料當作變數代表的資料。"
      ],
      "metadata": {
        "id": "J-bgbbqi19f6"
      }
    },
    {
      "cell_type": "code",
      "source": [
        "a=1\n",
        "b=2\n",
        "a=\"亮亮我愛你\"\n",
        "print(a)"
      ],
      "metadata": {
        "id": "EL5nLNh-_bhf"
      },
      "execution_count": null,
      "outputs": []
    },
    {
      "cell_type": "markdown",
      "source": [
        "###變數型態~整數\n",
        "整數：指沒有小數點的數值。\n",
        "\n",
        "運算：\n",
        "加、減、乘：結果一定是整數。\n",
        "除：結果可能不是整數。\n",
        "\n",
        "強制整除：若要兩整數相除並去除小數點，使用兩個除號（//）。\n"
      ],
      "metadata": {
        "id": "K6b9RYfP3Osq"
      }
    },
    {
      "cell_type": "code",
      "source": [
        "a=5/2\n",
        "b=5//2\n",
        "print(\"a=\",a)\n",
        "print(\"b=\",b)"
      ],
      "metadata": {
        "id": "Bbx-K-zQ3bBO"
      },
      "execution_count": null,
      "outputs": []
    },
    {
      "cell_type": "markdown",
      "source": [
        "###變數型態~浮點數\n",
        "浮點數：帶有小數點的數值。\n",
        "\n",
        "轉換方法：使用 float() 函數可以將數字或整數轉換成浮點數。\n"
      ],
      "metadata": {
        "id": "dHFajno337Vl"
      }
    },
    {
      "cell_type": "code",
      "source": [
        "a=1314520\n",
        "print(\"整數a=\",a)\n",
        "b=float(a)\n",
        "print(\"轉換a為浮點數b=\",b)"
      ],
      "metadata": {
        "id": "LYpxjQ8n4PsQ"
      },
      "execution_count": null,
      "outputs": []
    },
    {
      "cell_type": "markdown",
      "source": [
        "######<font color=\"red\">**在Python中，若未將數字轉換為浮點數，可能會出現不精確或錯誤的情況，主要包括以下幾種情形：**</font>\n",
        "\n",
        "整數除法：在Python中，使用單斜線 (/) 進行除法時，即使兩個操作數都是整數，結果也會是浮點數。但使用雙斜線 (//) 進行整數除法時，結果會是整數，並且會截去小數部分，可能導致精度損失。\n",
        "\n",
        "大數運算：當處理非常大的數字時，如果不轉換為浮點數，可能會超出整數類型的儲存範圍，導致溢出或錯誤。雖然Python的整數類型可以處理相當大的數字，但在特定運算（如指數運算）中仍可能出現問題。\n",
        "\n",
        "精確的小數運算：在需要精確小數點後數位的運算中，如果使用整數進行計算，可能無法獲得正確的結果。例如，財務計算、科學計算等場景中常常需要精確的小數位。\n",
        "\n",
        "數學函數：某些數學函數（如平方根、對數、三角函數等）可能需要浮點數輸入才能返回精確結果。若提供整數輸入，即使Python會自動進行類型轉換，但在某些情況下仍可能導致精度問題。"
      ],
      "metadata": {
        "id": "sNKc64el_B_s"
      }
    },
    {
      "cell_type": "markdown",
      "source": [
        "###例子說明：\n",
        "\n",
        "以前當我們需要計算一個數的平方根時，如果該數是整數，直接計算可能得不到精確的小數結果。\n",
        "\n",
        "現在的Python即使不直接轉換為浮點數，也可以得到正確的浮點數結果。\n",
        "\n",
        "只有在\n",
        "\n",
        "###<font color=\"red\">**練習題：**</font>\n",
        "\n",
        "先將一個整數（例如：256）開根號得到它的值\n",
        "\n",
        "接著將它轉換為浮點數，然後計算這個浮點數的平方根。\n",
        "\n",
        "這裡可以使用Python的 math 模組中的 sqrt 函數來計算平方根。"
      ],
      "metadata": {
        "id": "zgv8WQWr6Afc"
      }
    },
    {
      "cell_type": "code",
      "source": [
        "import math  #引入使用Python的 math 模組\n",
        "\n",
        "a = 256 # 定義a值\n",
        "\n",
        "# 計算a的平方根\n",
        "a_sqrtvalue = math.sqrt(a)\n",
        "print(\"a開根號=\",a_sqrtvalue )\n",
        "\n",
        "# 將整數a轉換為浮點數\n",
        "a_float = float(a)\n",
        "\n",
        "# 計算浮點數的平方根\n",
        "afloat_sqrtvalue = math.sqrt(a_float)\n",
        "print(\"浮點數a開根號=\", afloat_sqrtvalue)"
      ],
      "metadata": {
        "id": "SDcw-ZlB6Z5G"
      },
      "execution_count": null,
      "outputs": []
    },
    {
      "cell_type": "markdown",
      "source": [
        "#字串(string)\n",
        "字串是包含在單引(')或雙引號(“)內的任意長度字元，\n",
        "\n",
        "例如:\"123\"、\"abc\"。可以使用str()函式將其他型別的資料轉字串型態。\n",
        "\n",
        "在Python中，將數字轉換為字串是一個很常見的操作，\n",
        "\n",
        "尤其在需要將數字和文字混合輸出或進行格式化時。\n",
        "\n",
        "例子：\n",
        "\n",
        "你想要印出一則訊息，告訴用戶他們的餘額。\n",
        "你有一個浮點數變數 balance 代表用戶的銀行餘額，\n",
        "\n",
        "你想要將這個數字轉換為字串並加入到一條訊息中\n",
        "\n",
        "###<font color=\"red\">亮亮:當然啦!!我們也可以在print中以格式化f來建構(這個後面說囉!!!)</font>"
      ],
      "metadata": {
        "id": "Qc8lZdSJAg7o"
      }
    },
    {
      "cell_type": "code",
      "source": [
        "balance = 1234.56  # 這是一個浮點數表示的銀行餘額\n",
        "\n",
        "# 將數字轉換為字串\n",
        "balance_str = str(balance)\n",
        "\n",
        "# 建構一則訊息\n",
        "message = \"親愛的用戶，您的銀行餘額為：\" + balance_str + \"元。\"\n",
        "\n",
        "print(message)"
      ],
      "metadata": {
        "id": "LlsNWO3jF-MR"
      },
      "execution_count": null,
      "outputs": []
    },
    {
      "cell_type": "markdown",
      "source": [
        "###練習任務：\n",
        "\n",
        "假設你正在寫一個程序來計算學生的考試成績平均分。\n",
        "\n",
        "你有幾個學生的成績存儲在不同的變數中，需要計算這些成績的平均值，然後將結果轉換為字串，以便印出一條格式化的消息。\n",
        "\n",
        "###步驟：\n",
        "\n",
        "1.創建3個表示學生分數的浮點數變數。\n",
        "\n",
        "2.計算這些分數的平均值。\n",
        "\n",
        "3.將計算出的平均值轉換為字串。\n",
        "\n",
        "4.建構一則訊息，例如“班級的平均分是：[平均分]分”。\n",
        "\n",
        "5.印出這則訊息。"
      ],
      "metadata": {
        "id": "1249nGEyHWzd"
      }
    },
    {
      "cell_type": "code",
      "source": [
        "# 3位學生的分數\n",
        "score1 = 85.5\n",
        "score2 = 92.0\n",
        "score3 = 78.5\n",
        "\n",
        "# 計算3位的平均分\n",
        "average_score = (score1 + score2 + score3) / 3\n",
        "\n",
        "# 將平均分數轉換為字串\n",
        "average_score_str = str(average_score)\n",
        "\n",
        "# 建構一則訊息\n",
        "message1 = \"班級的平均分是：\" + average_score_str + \"分。\"\n",
        "\n",
        "print(message1)\n",
        "\n",
        "# 使用f-string格式化平均分數到小數點後兩位\n",
        "message2 = f\"班級的平均分取到小數點後第2位是：{average_score:.2f}分。\"\n",
        "\n",
        "print(message2)"
      ],
      "metadata": {
        "colab": {
          "base_uri": "https://localhost:8080/"
        },
        "id": "iRyYpyVvH_G2",
        "outputId": "1014b565-5df8-4bcf-cbb5-44ec3f196ac0"
      },
      "execution_count": null,
      "outputs": [
        {
          "output_type": "stream",
          "name": "stdout",
          "text": [
            "班級的平均分是：85.33333333333333分。\n",
            "班級的平均分取到小數點後第2位是：85.33分。\n"
          ]
        }
      ]
    },
    {
      "cell_type": "markdown",
      "source": [
        "###布林值(boolean)\n",
        "布林值只有True、False兩種值，\n",
        "\n",
        "若將True轉回整數型態結果會是1\n",
        "\n",
        "若將False轉回整數型態結果會是0"
      ],
      "metadata": {
        "id": "yNvYtXhkJv6a"
      }
    },
    {
      "cell_type": "code",
      "source": [
        "a=True\n",
        "b=False\n",
        "print(\"a轉回整數型態為\",int(a))\n",
        "print(\"b轉回整數型態為\",int(b))"
      ],
      "metadata": {
        "id": "Hy2A5qkZJ7tP"
      },
      "execution_count": null,
      "outputs": []
    },
    {
      "cell_type": "markdown",
      "source": [
        "當使用條件判斷式時回傳的結果會是布林型態,如大小、判斷兩變數是否相等。"
      ],
      "metadata": {
        "id": "7lwq6AT6Kgmn"
      }
    },
    {
      "cell_type": "code",
      "source": [
        "a=1<2\n",
        "b=1>2\n",
        "c=1==1\n",
        "print(\"a的結果為\",a)\n",
        "print(\"b的結果為\",b)\n",
        "print(\"c的結果為\",c)"
      ],
      "metadata": {
        "id": "z7CRXz2nK_2h"
      },
      "execution_count": null,
      "outputs": []
    },
    {
      "cell_type": "code",
      "source": [
        "apple=6\n",
        "banana=5\n",
        "ans = apple == banana\n",
        "print(ans)"
      ],
      "metadata": {
        "id": "Xc0-u5JwKj6l"
      },
      "execution_count": null,
      "outputs": []
    },
    {
      "cell_type": "markdown",
      "source": [
        "###變數的類型type\n",
        "\n",
        "Python變數不需指定型態：在宣告變數時，Python不要求指定變數的類型。\n",
        "\n",
        "判斷類型不直觀：由於不指定類型，從程式碼直接判斷變數類型可能較困難。\n",
        "\n",
        "使用 type() 函數檢查：要知道變數的類型，可使用 type() 函數來檢查。\n"
      ],
      "metadata": {
        "id": "WfkmWhquMR70"
      }
    },
    {
      "cell_type": "code",
      "source": [
        "a = \"亮亮我愛你\"  # 定義一個字串變數a\n",
        "b = 1            # 定義一個整數變數b\n",
        "c = 3.3          # 定義一個浮點數變數c\n",
        "d = True         # 定義一個布林值變數d\n",
        "e = [1, 2, 3]    # 定義一個串列變數e\n",
        "\n",
        "# 使用type()函數印出出每個變數的資料型態\n",
        "print(\"a的型態為:\", type(a))  # 印出變數a的型態\n",
        "print(\"b的型態為:\", type(b))  # 印出變數b的型態\n",
        "print(\"c的型態為:\", type(c))  # 印出變數c的型態\n",
        "print(\"d的型態為:\", type(d))  # 印出變數d的型態\n",
        "print(\"e的型態為:\", type(e))  # 印出變數e的型態"
      ],
      "metadata": {
        "id": "1x-0OBFmMkXH"
      },
      "execution_count": null,
      "outputs": []
    },
    {
      "cell_type": "markdown",
      "source": [
        "###變數的命名規則\n",
        "變數如一個虛擬的盒子,替他取個有意義的名字\n",
        "「命名」，然後可以在裡面擺進一些「內容」，\n",
        "之後再用他的名字來提取放在裡面的內容。\n",
        "\n",
        "命名一個變數，用一個平等符號「=」來表示。\n",
        "\n",
        "內容可以是各種不同的資料類型，例如文字、數\n",
        "字、列表...等等。"
      ],
      "metadata": {
        "id": "s1HByDjYOIAR"
      }
    },
    {
      "cell_type": "markdown",
      "source": [
        "在Python中,其實對變數名稱有一些限制跟規則\n",
        "\n",
        "開頭必須是英文字母(a-zA-Z)或是底線()\n",
        "\n",
        "從Python3之後,中文字也可以當作變數名稱\n",
        "\n",
        "英文字母大小寫不同,會視為不同的變數名稱\n",
        "\n",
        "有些保留字不能被當作變數名稱(eg if, for, return)\n",
        "\n",
        "\n",
        "        123box =30\n",
        "        SyntaxError: invalid syntax"
      ],
      "metadata": {
        "id": "CYGN0IJ2O21m"
      }
    },
    {
      "cell_type": "markdown",
      "source": [
        "###Python的運算子介紹\n",
        "Python的術運算子包含加減乘除、餘、及整除法等，在運算過程中皆需要用兩個運算元來進行運算。"
      ],
      "metadata": {
        "id": "j8I4TCYQRbka"
      }
    },
    {
      "cell_type": "code",
      "source": [
        "# 加法運算，計算4加3的結果\n",
        "print(4 + 3)  # 顯示結果：7\n",
        "\n",
        "# 減法運算，計算4減3的結果\n",
        "print(4 - 3)  # 顯示結果：1\n",
        "\n",
        "# 乘法運算，計算4乘以3的結果\n",
        "print(4 * 3)  # 顯示結果：12\n",
        "\n",
        "# 除法運算，計算4除以2的結果\n",
        "print(4 / 2)  # 顯示結果：2.0\n",
        "\n",
        "# 取餘數運算，計算4除以3的餘數\n",
        "print(4 % 3)  # 顯示結果：1\n",
        "\n",
        "# 指數運算，計算4的3次方\n",
        "print(4 ** 3)  # 顯示結果：64\n",
        "\n",
        "# 整數除法，計算4除以3的整數結果\n",
        "print(4 // 3)  # 顯示結果：1"
      ],
      "metadata": {
        "id": "wOeKubAaRrHZ"
      },
      "execution_count": null,
      "outputs": []
    },
    {
      "cell_type": "markdown",
      "source": [
        "###比較運算子\n",
        "\n",
        "比較運算子是用比較兩個變數的內容,且得到的運算結果只有True或False，\n",
        "\n",
        "在過程中也需要用兩個運算元來進行運算。"
      ],
      "metadata": {
        "id": "mI3oO47LSYBf"
      }
    },
    {
      "cell_type": "code",
      "source": [
        "# 比較運算：大於，判斷2是否大於1\n",
        "print(2 > 1)  # 顯示結果：True\n",
        "\n",
        "# 比較運算：小於，判斷2是否小於1\n",
        "print(2 < 1)  # 顯示結果：False\n",
        "\n",
        "# 比較運算：等於，判斷2是否等於2\n",
        "print(2 == 2)  # 顯示結果：True\n",
        "\n",
        "# 比較運算：不等於，判斷2是否不等於2\n",
        "print(2 != 2)  # 顯示結果：False\n",
        "\n",
        "# 比較運算：is，判斷y是否是x的同一實例\n",
        "x = [1]       #[1] 表示一個包含單個元素1的列表\n",
        "y = x\n",
        "print(y is x)  # 顯示結果：True\n",
        "\n",
        "# 比較運算：in，判斷1是否存在於列表[1, 2, 3]中\n",
        "print(1 in [1, 2, 3])  # 顯示結果：True\n",
        "\n",
        "#列表（List）是一種可變的容器，它可以包含多個元素。\n",
        "#這些元素可以是不同的數據類型，列表用方括號 [] 來表示。"
      ],
      "metadata": {
        "id": "K9Y1Uy8eTXnz"
      },
      "execution_count": null,
      "outputs": []
    },
    {
      "cell_type": "markdown",
      "source": [
        "###邏輯運算子\n",
        "邏輯運算子可以對多個布林值進行組合運算，達到更複雜的邏輯運算結果。"
      ],
      "metadata": {
        "id": "xruvWmvdXOB0"
      }
    },
    {
      "cell_type": "code",
      "source": [
        "# 定義變數\n",
        "a = 10\n",
        "b = 5\n",
        "c = 1\n",
        "\n",
        "# 邏輯運算：and，當兩個條件都滿足時返回True\n",
        "print(a > b and b > c)  # 顯示結果：True，因為a大於b且b大於c\n",
        "\n",
        "# 修改變數c的值\n",
        "c = 20\n",
        "\n",
        "# 邏輯運算：and，當其中一個條件不滿足時返回False\n",
        "print(a > b and b > c)  # 顯示結果：False，因為b不大於c\n",
        "\n",
        "# 邏輯運算：or，當其中一個條件滿足時返回True\n",
        "print(a > b or b > c)  # 顯示結果：True，因為a大於b\n",
        "\n",
        "# 修改變數b的值\n",
        "b = 50\n",
        "\n",
        "# 邏輯運算：or，當兩個條件都不滿足時返回False\n",
        "print(a > b or b > c)  # 顯示結果：False，因為a不大於b且b不大於c\n",
        "\n",
        "# 邏輯運算：not，將結果反轉\n",
        "print(not a < b)  # 顯示結果：True，因為a不小於b\n",
        "\n",
        "# 使用not運算符的另一個例子\n",
        "print(not a > b)  # 顯示結果：False，因為a大於b"
      ],
      "metadata": {
        "id": "-k0Y4J8YXRNR"
      },
      "execution_count": null,
      "outputs": []
    },
    {
      "cell_type": "markdown",
      "source": [
        "###Python容器類型\n",
        "\n",
        "Python支援幾種主要的容器型態，用以存儲多個資料。\n",
        "\n",
        "列表（List）：有序且可變的容器，可以包含不同類型的元素。使用方括號[]來創建。\n",
        "\n",
        "集合（Set）：無序且不重複的元素集，主要用於去重和集合運算。使用大括號{}來創建。\n",
        "\n",
        "字典（Dictionary, dict）：存儲鍵值對（Key-Value pairs），每個鍵對應一個值。使用大括號{}和冒號:來創建。\n"
      ],
      "metadata": {
        "id": "krIzHVlfYc0b"
      }
    },
    {
      "cell_type": "markdown",
      "source": [
        "###串列list\n",
        "List是一個可以容納各種資料類型的容器，串列中的元素會有一定的順序(in-dex)，\n",
        "\n",
        "在串列中需要使index定資料。\n"
      ],
      "metadata": {
        "id": "ZBYQc-7pZYGQ"
      }
    },
    {
      "cell_type": "markdown",
      "source": [
        "建立串列\n",
        "\n",
        "在Python 中可以使用中或是list()函式建立串，使用中括號時括號內的元素\n",
        "必須以逗點(,)隔開。\n",
        "而使list()可以把不同的資料型態轉換為串列，\n",
        "\n",
        "例如元組、字串、集合等。"
      ],
      "metadata": {
        "id": "H0UBRAQOaEG1"
      }
    },
    {
      "cell_type": "code",
      "source": [
        "# 使用中括號創建串列\n",
        "a = [1, 2, 3, 4, 5]\n",
        "print(\"list_a是:\",a)  # 顯示結果：[1, 2, 3, 4, 5]\n",
        "# 中文註解：創建一個包含數字1至5的串列\n",
        "\n",
        "# 使用list()函數將元組轉換為串列\n",
        "b = (1, 2, 3)\n",
        "list_b = list(b)\n",
        "print(\"list_b是:\",list_b)  # 顯示結果：[1, 2, 3]\n",
        "# 中文註解：將元組(1, 2, 3)轉換為串列\n",
        "\n",
        "# 使用list()函數將字串string c 轉換為串列\n",
        "c = \"Hello\"\n",
        "list_c = list(c)\n",
        "print(\"list_c是:\",list_c)  # 顯示結果：['H', 'e', 'l', 'l', 'o']\n",
        "# 中文註解：將字串\"Hello\"轉換為串列，每個字元成為串列的一個元素\n",
        "\n",
        "# 使用list()函數將集合set d轉換為串列\n",
        "d= {1, 2, 3}\n",
        "list_d = list(d)\n",
        "print(\"list_d是:\",list_d)  # 顯示結果：[1, 2, 3] (順序可能會有所不同)\n",
        "# 中文註解：將集合{1, 2, 3}轉換為串列"
      ],
      "metadata": {
        "id": "qRqgS6XNZZ5Y"
      },
      "execution_count": null,
      "outputs": []
    },
    {
      "cell_type": "markdown",
      "source": [
        "###讀取串列中的元素：\n",
        "串列中元素的索引（index）是從0開始的。\n",
        "\n",
        "第一個元素的索引值是0，第二個元素的索引值是1，依此類推。\n",
        "\n",
        "可以使用負數索引來從串列末尾開始讀取：\n",
        "         <center>最後一個元素的索引是-1，倒數第二個元素的索引是-2，依此類推。</center>\n",
        "\n",
        "###使用索引讀取元素的範例：\n",
        "my_list = [10, 20, 30, 40, 50]\n",
        "\n",
        "讀取第一個元素：my_list[0]，結果是10。\n",
        "\n",
        "讀取最後一個元素：my_list[-1]，結果是50。"
      ],
      "metadata": {
        "id": "QOJb8yhRpVV6"
      }
    },
    {
      "cell_type": "code",
      "source": [
        "#練習\n",
        "string = \"我是一個年輕有為的好國民\"\n",
        "#試試以下擷取的結果為何\n",
        "print(string[0])\n",
        "print(string[0:2])\n",
        "print(string[:2])\n",
        "print(string[2:])\n",
        "print(string[-2:])\n",
        "print(string[0:5:2])\n",
        "print(string[::3])"
      ],
      "metadata": {
        "id": "11CBl6YrqDD3"
      },
      "execution_count": null,
      "outputs": []
    },
    {
      "cell_type": "markdown",
      "source": [
        "###獲取串列長度：\n",
        "\n",
        "在Python中，可以使用 len() 函式來獲取串列的長度。\n",
        "\n",
        "len() 函式會返回串列中元素的數量。\n",
        "\n",
        "###使用 len() 函式的範例：\n",
        "\n",
        "如果有一個串列 my_list = [10, 20, 30, 40, 50]。\n",
        "\n",
        "計算這個串列的長度：length = len(my_list)，結果是 5。"
      ],
      "metadata": {
        "id": "dhPAFgMSrwNv"
      }
    },
    {
      "cell_type": "code",
      "source": [
        "# 定義一個串列\n",
        "my_list = [10, 20, 30, 40, 50]\n",
        "\n",
        "# 使用len()函式計算串列長度\n",
        "length = len(my_list)\n",
        "\n",
        "# 計算印出串列長度\n",
        "print(length)  # 顯示結果：5\n",
        "# 中文註解：顯示 my_list 這個串列的元素數量，即串列的長度"
      ],
      "metadata": {
        "id": "txlNg8AZsCai"
      },
      "execution_count": null,
      "outputs": []
    },
    {
      "cell_type": "code",
      "source": [
        "# 使用index值修改串列\n",
        "list = ['one', 'two', 'three', 'four', 'five']\n",
        "\n",
        "# 嘗試將索引6（實際上不存在）的元素更改為1會導致錯誤\n",
        "# list[6] = 1  # 這會導致 IndexError\n",
        "\n",
        "# 正確的修改方法是更改存在的索引，例如將索引0的元素更改為1\n",
        "list[0] = 1  # 修改第一個元素為1\n",
        "\n",
        "# 印出修改後的串列\n",
        "print(list)  # 預期顯示結果：[1, 'two', 'three', 'four', 'five']\n",
        "# 註解：將 list 的第一個元素 'one' 更改為數字 1，然後列印出整個串列"
      ],
      "metadata": {
        "id": "epATkxXfs1jl"
      },
      "execution_count": null,
      "outputs": []
    },
    {
      "cell_type": "code",
      "source": [
        "# 使用slice值修改串列\n",
        "list = ['one', 'two', 'three', 'four', 'five']\n",
        "\n",
        "# 使用切片來更改串列中的部分元素\n",
        "list[1:3] = [2, 3]  # 將索引1到索引2（不包含索引3）的元素更改為2和3\n",
        "\n",
        "# 印出修改後的串列\n",
        "print(list)  # 顯示結果：['one', 2, 3, 'four', 'five']\n",
        "# 註解：將 list 的第二個和第三個元素（'two', 'three'）更改為數字 2 和 3，然後列印出整個串列"
      ],
      "metadata": {
        "id": "kwti1bZFtBC6"
      },
      "execution_count": null,
      "outputs": []
    },
    {
      "cell_type": "markdown",
      "source": [
        "##合併串列的方法：\n",
        "###直接合併：\n",
        "\n",
        "直接將兩個串列合併成為一個新的串列。\n",
        "即使串列的元素數量或資料類型不同，也可以進行合併。\n",
        "例如："
      ],
      "metadata": {
        "id": "m2w4AS8uumJn"
      }
    },
    {
      "cell_type": "code",
      "source": [
        "list1 = [1, 2, 3]\n",
        "list2 = [4, 5]\n",
        "list_combined = [list1, list2]\n",
        "print(list_combined)  # 顯示結果：[[1, 2, 3], [4, 5]]\n",
        "# 註解：將兩個串列 list1 和 list2 合併為一個串列，合併後的串列包含兩個子串列"
      ],
      "metadata": {
        "id": "XfusuyHdutp8"
      },
      "execution_count": null,
      "outputs": []
    },
    {
      "cell_type": "markdown",
      "source": [
        "###按序合併：\n",
        "\n",
        "使用 zip() 函數按順序將兩個串列的元素配對。\n",
        "合併的串列需要有相同數量的元素。\n",
        "例如："
      ],
      "metadata": {
        "id": "e2DCezJevKdi"
      }
    },
    {
      "cell_type": "code",
      "source": [
        "list1 = [1, 2, 3]\n",
        "list2 = [\"one\", \"two\", \"three\"]\n",
        "list3 = [\"阿\", \"亮\"]\n",
        "zipped_1 = zip(list1, list2)\n",
        "zipped_2 = zip(list1, list2, list3)\n",
        "\n",
        "list_zipped1 = list(zipped_1)\n",
        "list_zipped2 = list(zipped_2)\n",
        "\n",
        "print(zipped_1)       # 顯示結果：<zip object at 0x7fcdf7356c80>\n",
        "print(list_zipped1)  # 顯示結果：[(1, 'one'), (2, 'two'), (3, 'three')]\n",
        "print(list_zipped2)  # 顯示結果：[(1, 'one', '阿'), (2, 'two', '亮')]\n",
        "# 註解：使用 zip() 函數按序合併 list1 和 list2，合併後的每個元素是一個元組，包含來自兩個串列的對應元素"
      ],
      "metadata": {
        "id": "k5zaMQ2FvW88"
      },
      "execution_count": null,
      "outputs": []
    },
    {
      "cell_type": "markdown",
      "source": [
        "###子項合併：\n",
        "子項合併是將兩個串列中的元素接續連接起來。\n",
        "可以使用「+」符號或 extend() 函數來合併兩個串列。\n",
        "\n",
        "使用「+」符號合併：\n",
        "「+」符號可以直接將右側串列的元素添加到左側串列後面。\n",
        "合併後會產生一個新的串列。\n",
        "例如："
      ],
      "metadata": {
        "id": "9NowL8CrEFZG"
      }
    },
    {
      "cell_type": "code",
      "source": [
        "list1 = [1, 2, 3]\n",
        "list2 = ['one', 'two', 'three']\n",
        "combined_list = list1 + list2\n",
        "print(combined_list)  # 顯示結果：[1, 2, 3, 'one', 'two', 'three']\n",
        "# 註解：將 list1 和 list2 使用 '+' 符號合併，並將合併後的串列賦值給 combined_list"
      ],
      "metadata": {
        "id": "edZZCEbnEOJT"
      },
      "execution_count": null,
      "outputs": []
    },
    {
      "cell_type": "markdown",
      "source": [
        "使用 extend() 函數合併：\n",
        "\n",
        "extend() 函數將一個串列的所有元素添加到另一個串列的尾部。\n",
        "此操作會直接修改原始串列，而不是創建新串列。\n",
        "例如："
      ],
      "metadata": {
        "id": "bkdozDlHEjtf"
      }
    },
    {
      "cell_type": "code",
      "source": [
        "list1 = [1, 2, 3]\n",
        "list2 = ['one', 'two', 'three']\n",
        "list1.extend(list2)\n",
        "print(list1)  # 顯示結果：[1, 2, 3, 'one', 'two', 'three']\n",
        "# 註解：將 list2 的元素使用 extend() 函數添加到 list1 中"
      ],
      "metadata": {
        "colab": {
          "base_uri": "https://localhost:8080/"
        },
        "id": "8zpJ-Lc-Eoe7",
        "outputId": "a7dd6f7d-875b-4f0e-ea14-a20dfe7d4c5c"
      },
      "execution_count": null,
      "outputs": [
        {
          "output_type": "stream",
          "name": "stdout",
          "text": [
            "[1, 2, 3, 'one', 'two', 'three']\n"
          ]
        }
      ]
    },
    {
      "cell_type": "markdown",
      "source": [
        "###排序串列：\n",
        "串列是有序的資料結構。\n",
        "若要改變串列中元素的順序，可以使用不同的方法根據特定規則進行排序。\n",
        "\n",
        "###使用 sort() 函式排序：\n",
        "sort() 函式可以對串列進行排序。\n",
        "\n",
        "數字串列：會按數值大小順序排序，從小到大。\n",
        "\n",
        "字串串列：會按字母順序（根據ASCII碼值）排序。\n",
        "\n",
        "sort() 會直接修改原始串列，不會回傳新串列。\n",
        "若串列中有不同資料型態，無法進行排序，會產生錯誤。\n",
        "\n",
        "例如：\n"
      ],
      "metadata": {
        "id": "8JRlYvaRJI_t"
      }
    },
    {
      "cell_type": "code",
      "source": [
        "list1 = [2, 1, 5, 4, 3]\n",
        "list1.sort()\n",
        "print(list1)  # 顯示結果：[1, 2, 3, 4, 5]\n",
        "# 註解：使用 sort() 函式將 list1 中的數字從小到大排序\n",
        "\n",
        "list2 = [1, 2, '3', 4, '5']\n",
        "# list2.sort()  # 這行代碼會產生錯誤，因為 list2 中包含不同類型的元素\n",
        "# 註解：因為 list2 包含不同資料型態，所以使用 sort() 函式會產生錯誤"
      ],
      "metadata": {
        "colab": {
          "base_uri": "https://localhost:8080/"
        },
        "id": "DpyRkmPGJLOH",
        "outputId": "089408cc-b685-434e-98a3-b88fbece1dc5"
      },
      "execution_count": null,
      "outputs": [
        {
          "output_type": "stream",
          "name": "stdout",
          "text": [
            "[1, 2, 3, 4, 5]\n"
          ]
        }
      ]
    },
    {
      "cell_type": "markdown",
      "source": [
        "###使用 sort() 函式進行降序排序：\n",
        "\n",
        "為了按降序（從大到小）排序串列，可以在 sort() 函式中添加 reverse=True 參數。\n",
        "\n",
        "當 reverse 參數設置為 True 時，串列將按降序排序。\n",
        "\n",
        "數字串列：會從大到小排序。\n",
        "\n",
        "字串串列：會按字母相反順序（仍根據ASCII碼值）排序。\n",
        "\n",
        "###降序排序範例：\n",
        "\n",
        "數字串列降序排序："
      ],
      "metadata": {
        "id": "rO_mwQzyJ9Nx"
      }
    },
    {
      "cell_type": "code",
      "source": [
        "list1 = [2, 1, 5, 4, 3]\n",
        "list1.sort(reverse=True)\n",
        "print(list1)  # 顯示結果：[5, 4, 3, 2, 1]\n",
        "# 註解：將 list1 中的數字從大到小排序"
      ],
      "metadata": {
        "id": "SwFwte4eKDjd"
      },
      "execution_count": null,
      "outputs": []
    },
    {
      "cell_type": "markdown",
      "source": [
        "字串串列降序排序："
      ],
      "metadata": {
        "id": "rGhf9ATEKi_c"
      }
    },
    {
      "cell_type": "code",
      "source": [
        "list2 = ['one', 'two', 'three', 'four', 'five']\n",
        "list2.sort()  # 預設情況下，sort() 函式會按字母順序（ASCII碼值）排序\n",
        "print(list2)  # 顯示結果：['five', 'four', 'one', 'three', 'two']\n",
        "# 註解：將 list2 中的字串按字母順序正序排序"
      ],
      "metadata": {
        "id": "pnlI3xv_LZLq"
      },
      "execution_count": null,
      "outputs": []
    },
    {
      "cell_type": "code",
      "source": [
        "list2 = ['one', 'two', 'three', 'four', 'five']\n",
        "list2.sort(reverse=True)\n",
        "print(list2)  # 顯示結果：['two', 'three', 'one', 'four', 'five']\n",
        "# 註解：將 list2 中的字串按字母相反順序排序"
      ],
      "metadata": {
        "id": "kdxUykXgKp5e"
      },
      "execution_count": null,
      "outputs": []
    },
    {
      "cell_type": "markdown",
      "source": [
        "###<font color=\"red\">串列的練習時間 Part1</font>\n",
        "求出數字的總和練習:\n",
        "\n",
        "創建一個數字串列， [1, 2, 3, 4, 5]。\n",
        "\n",
        "使用Python程式來計算並印出這個串列中所有數字的總和。\n",
        "\n",
        "提示：可以使用內置的 sum() 函數。"
      ],
      "metadata": {
        "id": "XT9whiT1MEvF"
      }
    },
    {
      "cell_type": "code",
      "source": [
        "#解答\n",
        "numbers = [1, 2, 3, 4, 5]\n",
        "total = sum(numbers)\n",
        "print(\"串列元素的總和是:\", total)\n",
        "# 註解：計算串列 numbers 中的元素總和並打印"
      ],
      "metadata": {
        "colab": {
          "base_uri": "https://localhost:8080/"
        },
        "id": "C9tnbLcaMQJW",
        "outputId": "b3b4264c-0d75-49d9-c3b0-a38a6ab9063d"
      },
      "execution_count": null,
      "outputs": [
        {
          "output_type": "stream",
          "name": "stdout",
          "text": [
            "串列元素的總和是: 15\n"
          ]
        }
      ]
    },
    {
      "cell_type": "markdown",
      "source": [
        "###<font color=\"red\">串列的練習時間 Part2</font>\n",
        "找出最大元素練習：\n",
        "\n",
        "創建一個數字串列，例如 [50, 20, 40, 30, 10]。\n",
        "\n",
        "編寫一段程式來找出並打印這個串列中的最大元素。\n",
        "\n",
        "提示：可以使用內置的 max() 函數。"
      ],
      "metadata": {
        "id": "UI2Jc4r4NMsb"
      }
    },
    {
      "cell_type": "code",
      "source": [
        "numbers = [50, 20, 40, 30, 10]\n",
        "max_number = max(numbers)\n",
        "print(\"串列中的最大元素是:\", max_number)\n",
        "# 註解：找出並打印串列 numbers 中的最大元素"
      ],
      "metadata": {
        "colab": {
          "base_uri": "https://localhost:8080/"
        },
        "id": "HD3EGGbLN6SL",
        "outputId": "01de1676-664f-477c-b467-96309de4cabc"
      },
      "execution_count": null,
      "outputs": [
        {
          "output_type": "stream",
          "name": "stdout",
          "text": [
            "串列中的最大元素是: 50\n"
          ]
        }
      ]
    },
    {
      "cell_type": "markdown",
      "source": [
        "###集合\n",
        "###<font color=\"red\">集合（set）特性：</font>\n",
        "\n",
        "集合中的元素是唯一的，不允許重複。\n",
        "集合是無序的，因此不能通過索引值獲取元素。\n",
        "\n",
        "###<font color=\"red\">集合的用途：</font>\n",
        "\n",
        "用於去除重複元素。\n",
        "可進行數學上的集合運算，如交集、並集、差集等。\n",
        "\n",
        "###<font color=\"red\">建立集合：</font>\n",
        "\n",
        "集合中的元素可以是數字、字符、布林值等。\n",
        "集合內元素可包含不同的資料型態。\n",
        "可以使用大括號 {} 或 set() 函數建立集合。\n",
        "使用大括號 {} 建立集合時，若內部無元素則創建的是空字典，而非集合。\n",
        "\n",
        "範例:"
      ],
      "metadata": {
        "id": "k2B6PXP4Q1VA"
      }
    },
    {
      "cell_type": "markdown",
      "source": [
        "###使用大括號 {} 建立集合：\n",
        "\n",
        "通過在 {} 中加入元素來建立一個集合。\n",
        "\n",
        "如果 {} 內沒有放入任何元素，則會建立一個空字典，而非集合。\n",
        "\n",
        "集合不允許重複元素，重複的元素會被自動移除。\n",
        "\n",
        "在集合中，布林值 True 與數字 1，以及 False 與數字 0，被視為相同。\n",
        "\n",
        "範例代碼："
      ],
      "metadata": {
        "id": "MUP33biGR-R5"
      }
    },
    {
      "cell_type": "code",
      "source": [
        "set1 = {1, 2, 3, 'one', 'two', False}\n",
        "print(set1)  # 顯示結果：{False, 1, 2, 3, 'two', 'one'}\n",
        "# 註解：建立一個包含不同類型元素的集合\n",
        "\n",
        "set2 = {}\n",
        "print(type(set2))  # 顯示結果：<class 'dict'>\n",
        "# 註解：空的大括號 {} 建立的是空字典\n",
        "\n",
        "set3 = {1, 'one', 'two', True, False}\n",
        "set4 = {1, 1, 2, 3, 3, 3}\n",
        "print(set3)  # 顯示結果：{False, 1, 'one','two' }\n",
        "print(set4)  # 顯示結果：{1, 2, 3}\n",
        "# 註解：展示布林值與數字在集合中的處理，以及重複元素的移除"
      ],
      "metadata": {
        "colab": {
          "base_uri": "https://localhost:8080/"
        },
        "id": "r4RJu6-pRTLD",
        "outputId": "a73ced77-0d67-4d6d-c0f7-d8bffe6e59ad"
      },
      "execution_count": null,
      "outputs": [
        {
          "output_type": "stream",
          "name": "stdout",
          "text": [
            "{False, 1, 2, 3, 'one', 'two'}\n",
            "<class 'dict'>\n",
            "{False, 1, 'one', 'two'}\n",
            "{1, 2, 3}\n"
          ]
        }
      ]
    },
    {
      "cell_type": "markdown",
      "source": [
        "###<font color=\"red\">亮亮叮嚀：</font>\n",
        "\n",
        "上面的set3例子中\n",
        "\n",
        "布林值 True 和 False 分別被視為數值 1 和 0 的等價物。\n",
        "\n",
        "這意味著在集合中，True 和 1 不能同時存在，\n",
        "\n",
        "同樣地，False 和 0 也不能同時存在，\n",
        "\n",
        "因為集合中的元素必須是唯一的。"
      ],
      "metadata": {
        "id": "GmIGgbDtTRTQ"
      }
    },
    {
      "cell_type": "markdown",
      "source": [
        "###使用 set() 函式建立集合：\n",
        "\n",
        "若要建立空集合，只能使用 set() 函式。\n",
        "\n",
        "set() 可以將字串、列表、元組等資料類型轉換為集合。\n",
        "\n",
        "範例："
      ],
      "metadata": {
        "id": "GSQNiFvZUgXy"
      }
    },
    {
      "cell_type": "code",
      "source": [
        "set1 = set()\n",
        "set2 = set('apple')\n",
        "set3 = set([1, 2, 3, 3, 4, 4, 4])\n",
        "print(set1)  # 顯示結果：set()\n",
        "print(set2)  # 顯示結果：{'a', 'p', 'l', 'e'}\n",
        "print(set3)  # 顯示結果：{1, 2, 3, 4}\n",
        "# 註解：展示如何使用 set() 函式建立空集合以及轉換其他類型的數據為集合"
      ],
      "metadata": {
        "id": "Dz3E9H2mTUGs"
      },
      "execution_count": null,
      "outputs": []
    },
    {
      "cell_type": "markdown",
      "source": [
        "###新增元素到集合：\n",
        "\n",
        "在Python中，使用 add() 方法向集合中新增元素。\n",
        "\n",
        "若該元素已經存在於集合中，則不會重複加入，因為集合元素是唯一的。\n",
        "\n",
        "###新增元素範例：\n",
        "假設有一個集合 a = {1, 2, 3, 4, 5}。\n",
        "嘗試向集合 a 中添加 8,9,True："
      ],
      "metadata": {
        "id": "AWYPrLVbVyN4"
      }
    },
    {
      "cell_type": "code",
      "source": [
        "a = {1, 2, 3, 4, 5}\n",
        "a.add(8)  # 加入數字 8\n",
        "a.add(9)  # 加入數字 9\n",
        "a.add(True) # 加入True\n",
        "print(a)  # 顯示結果可能是：{1, 2, 3, 4, 5, 8, 9}\n",
        "# 註解：因為 True 被視為 1，集合中已經有元素 1，所以 True 不會被加入\n",
        "# 註解：將數字 8 和 9 加入到集合 a 中，然後印出更新後的集合"
      ],
      "metadata": {
        "id": "BkRoQeU1V4Xn"
      },
      "execution_count": null,
      "outputs": []
    },
    {
      "cell_type": "markdown",
      "source": [
        "###移除元素~使用 remove() 函式\n",
        "remove() 函式用於從集合中移除指定元素。\n",
        "\n",
        "如果指定的元素不存在於集合中，會引發 KeyError。\n",
        "\n",
        "例如："
      ],
      "metadata": {
        "id": "JG9udCXLX_Vy"
      }
    },
    {
      "cell_type": "code",
      "source": [
        "set1 = {1, 2, 3, 4, 5}\n",
        "# set1.remove(6)  # 這會引發 KeyError，因為 6 不在集合 set1 中\n",
        "print(set1)\n",
        "# 註解：嘗試從 set1 中移除不存在的元素 6，會導致錯誤"
      ],
      "metadata": {
        "colab": {
          "base_uri": "https://localhost:8080/"
        },
        "id": "wlNDw-35YJ3d",
        "outputId": "c24bbcb6-9fb0-4144-9c47-9d2dc65beb49"
      },
      "execution_count": null,
      "outputs": [
        {
          "output_type": "stream",
          "name": "stdout",
          "text": [
            "{1, 2, 3, 4, 5}\n"
          ]
        }
      ]
    },
    {
      "cell_type": "markdown",
      "source": [
        "###移除元素~使用discard() 函式\n",
        "\n",
        "discard() 函式也用於移除集合中的指定元素。\n",
        "\n",
        "與 remove() 不同的是，如果指定的元素不存在於集合中，discard() 不會引發錯誤。\n",
        "\n",
        "例如："
      ],
      "metadata": {
        "id": "Qyp5NNEkYppT"
      }
    },
    {
      "cell_type": "code",
      "source": [
        "set1 = {1, 2, 3, 4, 5}\n",
        "set1.discard(4)  # 移除存在的元素 4\n",
        "print(set1)  # 顯示結果：{1, 2, 3, 5}\n",
        "# 註解：從 set1 中移除元素 4\n",
        "\n",
        "set1.discard(6)  # 嘗試移除不存在的元素 6，不會引發錯誤\n",
        "print(set1)  # 顯示結果：{1, 2, 3, 5}\n",
        "# 註解：嘗試從 set1 中移除不存在的元素 6，不會導致錯誤"
      ],
      "metadata": {
        "id": "KRBxcnDaY2Zn"
      },
      "execution_count": null,
      "outputs": []
    },
    {
      "cell_type": "markdown",
      "source": [
        "###判斷集合中是否含有特定元素：\n",
        "\n",
        "使用 in 運算子來檢查集合中是否存在某個元素。\n",
        "\n",
        "如果該元素存在於集合中，則 in 運算子會回傳 True。\n",
        "\n",
        "如果該元素不存在於集合中，則 in 運算子會回傳 False。\n",
        "\n",
        "###判斷元素是否存在的範例：\n",
        "\n",
        "假設有一個集合 set1 = {1, 2, 3, 4, 5, False}。\n",
        "\n",
        "檢查數字 6 是否在 set1 中："
      ],
      "metadata": {
        "id": "64vfVk9FZXwx"
      }
    },
    {
      "cell_type": "code",
      "source": [
        "set1 = {1, 2, 3, 4, 5, False}\n",
        "print(6 in set1)  # 顯示結果：False\n",
        "# 註解：檢查數字 6 是否在集合 set1 中，結果為 False"
      ],
      "metadata": {
        "colab": {
          "base_uri": "https://localhost:8080/"
        },
        "id": "1owM5M8-ZsW5",
        "outputId": "e2e4ceb9-c4dd-4bb5-ac27-788bf1435c50"
      },
      "execution_count": null,
      "outputs": [
        {
          "output_type": "stream",
          "name": "stdout",
          "text": [
            "False\n"
          ]
        }
      ]
    },
    {
      "cell_type": "code",
      "source": [
        "print(1 in set1)  # 顯示結果：True\n",
        "# 註解：檢查數字 1 是否在集合 set1 中，結果為 True"
      ],
      "metadata": {
        "colab": {
          "base_uri": "https://localhost:8080/"
        },
        "id": "2TGR7UloZZzF",
        "outputId": "b3561770-eb30-4136-d727-e71f1ec5dab1"
      },
      "execution_count": null,
      "outputs": [
        {
          "output_type": "stream",
          "name": "stdout",
          "text": [
            "True\n"
          ]
        }
      ]
    },
    {
      "cell_type": "code",
      "source": [
        "print(False in set1)  # 顯示結果：True\n",
        "# 註解：檢查布林值 False 是否在集合 set1 中，結果為 True"
      ],
      "metadata": {
        "colab": {
          "base_uri": "https://localhost:8080/"
        },
        "id": "UDiF_8v9Z88R",
        "outputId": "e1d00960-0f6a-44d8-f5da-33768fadba91"
      },
      "execution_count": null,
      "outputs": [
        {
          "output_type": "stream",
          "name": "stdout",
          "text": [
            "True\n"
          ]
        }
      ]
    },
    {
      "cell_type": "markdown",
      "source": [
        "###聯集、交集、差集\n",
        "\n",
        "python的集合也跟數學的集合一樣,有聯集、交集、差集的概念。![33.jpg](data:image/jpeg;base64,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)\n",
        "\n",
        "![聯集、交集、差集](https://drive.google.com/file/d/1ZhgDCfgWmudVsfGGS4HT9LVdHZPcs7QV/view?usp=drive_link)\n"
      ],
      "metadata": {
        "id": "-Uz9rl2Xa1FI"
      }
    },
    {
      "cell_type": "markdown",
      "source": [
        "聯集（Union）：\n",
        "\n",
        "聯集是兩個集合所有元素的組合，無重複。\n",
        "\n",
        "可以使用 | 運算子或 union() 函式來獲取兩個集合的聯集。\n",
        "\n",
        "範例："
      ],
      "metadata": {
        "id": "jGeXJOrocuV5"
      }
    },
    {
      "cell_type": "code",
      "source": [
        "set1 = {1, 2, 3}\n",
        "set2 = {3, 4, 5}\n",
        "union_set = set1 | set2\n",
        "print(union_set)  # 顯示結果：{1, 2, 3, 4, 5}\n",
        "# 註解：取 set1 和 set2 的聯集"
      ],
      "metadata": {
        "id": "SNtpR4fEbGa6",
        "colab": {
          "base_uri": "https://localhost:8080/"
        },
        "outputId": "67227be6-607f-4e52-b3ed-7cb282e4efbe"
      },
      "execution_count": null,
      "outputs": [
        {
          "output_type": "stream",
          "name": "stdout",
          "text": [
            "{1, 2, 3, 4, 5}\n"
          ]
        }
      ]
    },
    {
      "cell_type": "markdown",
      "source": [
        "交集（Intersection）：\n",
        "\n",
        "交集是兩個集合共有元素的集合。\n",
        "\n",
        "可以使用 & 運算子或 intersection() 函式來獲取兩個集合的交集。\n",
        "\n",
        "範例："
      ],
      "metadata": {
        "id": "0OuifBuNdQsB"
      }
    },
    {
      "cell_type": "code",
      "source": [
        "set1 = {1, 2, 3}\n",
        "set2 = {3, 4, 5}\n",
        "intersection_set = set1 & set2\n",
        "print(intersection_set)  # 顯示結果：{3}\n",
        "# 註解：取 set1 和 set2 的交集"
      ],
      "metadata": {
        "colab": {
          "base_uri": "https://localhost:8080/"
        },
        "id": "DZGrxqTadVRn",
        "outputId": "0bf6abd3-2959-41b1-8d7e-74f0e07dc56c"
      },
      "execution_count": null,
      "outputs": [
        {
          "output_type": "stream",
          "name": "stdout",
          "text": [
            "{3}\n"
          ]
        }
      ]
    },
    {
      "cell_type": "markdown",
      "source": [
        "差集（Difference）：\n",
        "\n",
        "差集是屬於第一個集合但不屬於第二個集合的元素的集合。\n",
        "\n",
        "可以使用 - 運算子或 difference() 函式來獲取兩個集合的差集。\n",
        "\n",
        "範例："
      ],
      "metadata": {
        "id": "VNmn9hx1deSr"
      }
    },
    {
      "cell_type": "code",
      "source": [
        "set1 = {1, 2, 3}\n",
        "set2 = {3, 4, 5}\n",
        "difference_set = set1 - set2\n",
        "print(difference_set)  # 顯示結果：{1, 2}\n",
        "# 註解：取 set1 相對於 set2 的差集"
      ],
      "metadata": {
        "id": "aUBWzTZqdn-0"
      },
      "execution_count": null,
      "outputs": []
    },
    {
      "cell_type": "markdown",
      "source": [
        "###聯集、交集、差集練習時間\n",
        "\n",
        "建立兩個集合， set1 = {1, 2, 3} 和 set2 = {3, 4, 5}。\n",
        "\n",
        "編寫Python程式來計算並印出這兩個集合的聯集。\n",
        "\n",
        "提示：可以使用 | 運算子或 union() 函式。"
      ],
      "metadata": {
        "id": "-fADOD-Nf9na"
      }
    },
    {
      "cell_type": "markdown",
      "source": [
        "建立另外兩個集合， set3 = {1, 2, 3, 4} 和 set4 = {3, 4, 5, 6}。\n",
        "\n",
        "編寫程式來找出並印出這兩個集合的交集和差集。\n",
        "\n",
        "提示：可以使用 & 和 - 運算子，或 intersection() 和 difference() 函式。"
      ],
      "metadata": {
        "id": "RbTcm6HAgHUh"
      }
    },
    {
      "cell_type": "code",
      "source": [
        "set1 = {1, 2, 3}\n",
        "set2 = {3, 4, 5}\n",
        "union_set = set1 | set2\n",
        "print(\"聯集結果:\", union_set)\n",
        "# 註解：計算 set1 和 set2 的聯集並打印"
      ],
      "metadata": {
        "colab": {
          "base_uri": "https://localhost:8080/"
        },
        "id": "oHCq5NuIgO03",
        "outputId": "06dcdc82-a9a7-48ec-b998-599952f2516a"
      },
      "execution_count": null,
      "outputs": [
        {
          "output_type": "stream",
          "name": "stdout",
          "text": [
            "聯集結果: {1, 2, 3, 4, 5}\n"
          ]
        }
      ]
    },
    {
      "cell_type": "code",
      "source": [
        "set3 = {1, 2, 3, 4}\n",
        "set4 = {3, 4, 5, 6}\n",
        "intersection_set = set3 & set4\n",
        "difference_set = set3 - set4\n",
        "print(\"交集結果:\", intersection_set)\n",
        "print(\"差集結果:\", difference_set)\n",
        "# 註解：計算 set3 和 set4 的交集和差集並打印"
      ],
      "metadata": {
        "colab": {
          "base_uri": "https://localhost:8080/"
        },
        "id": "HvzZu5logTig",
        "outputId": "bc47309b-dd4f-424a-f361-463b4a2a7520"
      },
      "execution_count": null,
      "outputs": [
        {
          "output_type": "stream",
          "name": "stdout",
          "text": [
            "交集結果: {3, 4}\n",
            "差集結果: {1, 2}\n"
          ]
        }
      ]
    },
    {
      "cell_type": "markdown",
      "source": [
        "###字典(dict)基本概念：\n",
        "\n",
        "字典是一種包含「鍵（key）」和「值（value）」的配對的資料結構。\n",
        "\n",
        "類似於真實的字典，你可以透過查詢鍵來找到對應的值。\n",
        "\n",
        "字典內容類型：\n",
        "字典中可以包含多種類型的值，如字串、數字、布林值、串列、甚至其他字典。\n",
        "\n",
        "字典的鍵通常是字串或數字。\n",
        "\n",
        "字典鍵的特性：\n",
        "字典的鍵必須是不可變（immutable）的資料型態，如整數、字串、元組和布林值。\n",
        "\n",
        "不可變的資料型態意味著它們所指向的記憶體位置不可變，無法直接對其內容進行新增、修改或刪除操作。\n",
        "\n",
        "相對的，可變（mutable）的資料型態如串列、字典和集合，可以使用函式直接改變其內容，因此不能作為字典的鍵。\n"
      ],
      "metadata": {
        "id": "P3fVDZzug4iz"
      }
    },
    {
      "cell_type": "markdown",
      "source": [
        "###建立字典的方法:\n",
        "可以使用大括號 {} 和 dict() 函式來建立字典。\n",
        "\n",
        "除非建立空字典，否則建立字典時必須包含「鍵（key）」和「值（value）」。\n",
        "\n",
        "「鍵」和「值」用冒號 : 隔開；不同的「鍵值對」之間用逗號 , 隔開。\n",
        "\n",
        "###使用大括號 {} 建立字典：\n",
        "可以建立空字典，或包含鍵值對的字典。\n",
        "例如："
      ],
      "metadata": {
        "id": "RCuv9GcJhElr"
      }
    },
    {
      "cell_type": "code",
      "source": [
        "dict_empty = {}\n",
        "print(type(dict_empty))  # 顯示結果：<class 'dict'>\n",
        "# 註解：建立一個空字典\n",
        "\n",
        "dict_with_values = {1: 'one', 'number': [1.0, 'two']}\n",
        "print(dict_with_values)  # 顯示結果：{1: 'one', 'number': [1.0, 'two']}\n",
        "# 註解：建立一個包含不同類型值的字典"
      ],
      "metadata": {
        "id": "IbJUaUu_hRSL"
      },
      "execution_count": null,
      "outputs": []
    },
    {
      "cell_type": "markdown",
      "source": [
        "###字典的特性：\n",
        "字典的「鍵」必須是唯一的，且是不可變（immutable）資料型態。\n",
        "\n",
        "「值」可以重複，可以是任何資料型態。\n",
        "\n",
        "###使用 dict() 函式建立字典：\n",
        "需傳入有效的鍵名來指派對應的值。\n",
        "\n",
        "鍵名如果是字串，則不需要用引號包住。\n",
        "\n",
        "例如：\n"
      ],
      "metadata": {
        "id": "W1RDY9X7iTcm"
      }
    },
    {
      "cell_type": "code",
      "source": [
        "dict1 = dict(one=1, two=2, three='3')\n",
        "print(dict1)  # 顯示結果：{'one': 1, 'two': 2, 'three': '3'}\n",
        "# 註解：使用 dict() 函式建立字典，並傳入鍵值對"
      ],
      "metadata": {
        "colab": {
          "base_uri": "https://localhost:8080/"
        },
        "id": "gXzu0NJkhzr4",
        "outputId": "3a3364b4-d6f4-46ba-f9de-889eef2e5d51"
      },
      "execution_count": null,
      "outputs": [
        {
          "output_type": "stream",
          "name": "stdout",
          "text": [
            "{'one': 1, 'two': 2, 'three': '3'}\n"
          ]
        }
      ]
    },
    {
      "cell_type": "markdown",
      "source": [
        "###<font color=\"red\">建立字典的方法~練習時間</font>\n",
        "\n",
        "PART1\n",
        "建立一個學生包含三個鍵值對的字典:字典可以包含學生的姓名、年齡和成績。\n",
        "編寫Python程式來建立並印出這個字典。\n",
        "\n",
        "PART2\n",
        "使用 dict() 函式來建立一個字典，其中包含不同類型的鍵和值:字典包含一個整數鍵、一個字串鍵和一個布林鍵。\n",
        "編寫Python程式來建立並印出這個字典。"
      ],
      "metadata": {
        "id": "GkgRpqK-ldoJ"
      }
    },
    {
      "cell_type": "code",
      "source": [
        "man_info = {'name': '亮亮', 'age': 25, 'score': 170}\n",
        "print(man_info)\n",
        "# 註解：建立一個包含亮亮資訊的字典並印出"
      ],
      "metadata": {
        "colab": {
          "base_uri": "https://localhost:8080/"
        },
        "id": "zHwBhq8ZlrMc",
        "outputId": "5ef79eca-f630-4a62-f225-47116ca1ef1b"
      },
      "execution_count": null,
      "outputs": [
        {
          "output_type": "stream",
          "name": "stdout",
          "text": [
            "{'name': '亮亮', 'age': 25, 'score': 170}\n"
          ]
        }
      ]
    },
    {
      "cell_type": "code",
      "source": [
        "my_dict = dict(integer_key=123, string_key=\"Hello亮亮\", boolean_key=True)\n",
        "print(my_dict)\n",
        "# 註解：使用 dict() 函式建立一個包含不同類型鍵的字典並印出"
      ],
      "metadata": {
        "colab": {
          "base_uri": "https://localhost:8080/"
        },
        "id": "lqXWVSFRl67g",
        "outputId": "d969fae0-e5da-412c-fb9e-a03f2051c699"
      },
      "execution_count": null,
      "outputs": [
        {
          "output_type": "stream",
          "name": "stdout",
          "text": [
            "{'integer_key': 123, 'string_key': 'Hello亮亮', 'boolean_key': True}\n"
          ]
        }
      ]
    },
    {
      "cell_type": "markdown",
      "source": [
        "###讀取字典元素\n",
        "\n",
        "字典是無序的資料結構，不能使用索引值讀取元素，需要透過鍵（key）來取得對應的值（value）。\n",
        "\n",
        "###使用 [] 讀取字典：\n",
        "在 [] 中指定鍵名來取得對應的值。\n",
        "若指定的鍵不存在於字典中，會引發 KeyError。\n",
        "\n",
        "範例：\n"
      ],
      "metadata": {
        "id": "KiZCqK1hnbN6"
      }
    },
    {
      "cell_type": "code",
      "source": [
        "a = {'one': 1, 'two': 2, 'three': [1, 2, 3]}\n",
        "print(a['two'])  # 顯示結果：2\n",
        "# print(a['four'])  # 這會引發 KeyError，因為 'four' 不存在於字典 a 中"
      ],
      "metadata": {
        "id": "1BSExnf4nhFb"
      },
      "execution_count": null,
      "outputs": []
    },
    {
      "cell_type": "markdown",
      "source": [
        "###使用 get() 讀取字典元素：\n",
        "\n",
        "get() 方法同樣用於取得對應鍵的值。\n",
        "若指定的鍵不存在，不會引發錯誤，而是回傳 None。\n",
        "可以設定默認值，若找不到鍵則回傳該默認值。\n",
        "\n",
        "範例："
      ],
      "metadata": {
        "id": "FvsatlrYn40V"
      }
    },
    {
      "cell_type": "code",
      "source": [
        "a = {'one': 1, 'two': 2, 'three': [1, 2, 3]}\n",
        "print(a.get('two'))  # 顯示結果：2\n",
        "print(a.get('four'))  # 顯示結果：None\n",
        "print(a.get('four', 999))  # 顯示結果：999"
      ],
      "metadata": {
        "colab": {
          "base_uri": "https://localhost:8080/"
        },
        "id": "RKeVBNKln_V_",
        "outputId": "8f9da02a-0d1f-449b-c4b7-76175618ad87"
      },
      "execution_count": null,
      "outputs": [
        {
          "output_type": "stream",
          "name": "stdout",
          "text": [
            "2\n",
            "None\n",
            "999\n"
          ]
        }
      ]
    },
    {
      "cell_type": "markdown",
      "source": [
        "###<font color=\"red\">亮亮叮嚀:</font>\n",
        "在這個例子中，由於字典 a 中不存在鍵 'four'，所以 get() 方法沒有找到對應的值。\n",
        "\n",
        "根據 get() 方法的特性，如果找不到鍵，它會返回默認值，這裡的默認值是 999。因此，結果是印出 999。"
      ],
      "metadata": {
        "id": "Lmc3_OZjozhF"
      }
    },
    {
      "cell_type": "markdown",
      "source": [
        "###使用 keys()、values() 和 items() 方法讀取字典：\n",
        "keys() 回傳所有鍵的集合。\n",
        "\n",
        "values() 回傳所有值的集合。\n",
        "\n",
        "items() 回傳所有鍵值對的集合。"
      ],
      "metadata": {
        "id": "6UgqNkR4ug7x"
      }
    },
    {
      "cell_type": "code",
      "source": [
        "a = {'one': 1, 'two': 2, 'three': [1, 2, 3]}\n",
        "print(a.keys())  # 顯示結果：dict_keys(['one', 'two', 'three'])\n",
        "print(a.values())  # 顯示結果：dict_values([1, 2, [1, 2, 3]])\n",
        "print(a.items())  # 顯示結果：dict_items([('one', 1), ('two', 2), ('three', [1, 2, 3])])"
      ],
      "metadata": {
        "colab": {
          "base_uri": "https://localhost:8080/"
        },
        "id": "LEzGWQnQukPS",
        "outputId": "cc7c0010-1b6e-41e2-ed26-4d28acb9a4ae"
      },
      "execution_count": null,
      "outputs": [
        {
          "output_type": "stream",
          "name": "stdout",
          "text": [
            "dict_keys(['one', 'two', 'three'])\n",
            "dict_values([1, 2, [1, 2, 3]])\n",
            "dict_items([('one', 1), ('two', 2), ('three', [1, 2, 3])])\n"
          ]
        }
      ]
    },
    {
      "cell_type": "markdown",
      "source": [
        "###<font color=\"red\">讀取字典元素~練習時間</font>\n",
        "Part1\n",
        "建立一個包含三個鍵值對的字典，\n",
        "\n",
        "字典包含城市及其對應的國家:'Tokyo': 'Japan', 'Paris': 'France', 'London': 'UK'。\n",
        "\n",
        "編寫Python程式來讀取並印出字典中某個特定鍵（例如 'Tokyo'）對應的值。\n",
        "\n",
        "提示:處理當鍵不存在於字典中時可能引發的 KeyError。"
      ],
      "metadata": {
        "id": "t1FeXfG4wEKO"
      }
    },
    {
      "cell_type": "markdown",
      "source": [
        "Part2\n",
        "建立一個包含三個鍵值對的字典，\n",
        "\n",
        "字典包含城市及其對應的國家:'Tokyo': 'Japan', 'Paris': 'France', 'London': 'UK'。\n",
        "\n",
        "編寫程式使用 get() 方法來讀取字典中某個鍵的值，\n",
        "      並提供一個默認值以防止鍵不存在時出現錯誤。\n",
        "      \n",
        "例如:查詢某個城市對應的國家，如果城市不存在於字典中，則返回 'Unknown'。\n"
      ],
      "metadata": {
        "id": "zaDVl_HZwK8F"
      }
    },
    {
      "cell_type": "code",
      "source": [
        "cities = {'Tokyo': 'Japan', 'Paris': 'France', 'London': 'UK'}\n",
        "print(cities['Tokyo'])  # 顯示結果：Japan\n",
        "# print(cities['New York'])  # 若試圖訪問不存在的鍵，會引發 KeyError\n",
        "# 註解：從字典中讀取 'Tokyo' 鍵的值"
      ],
      "metadata": {
        "colab": {
          "base_uri": "https://localhost:8080/"
        },
        "id": "beGLbjV1u-SG",
        "outputId": "a6034409-5b37-423a-b75a-1ba4e8dbd2fb"
      },
      "execution_count": null,
      "outputs": [
        {
          "output_type": "stream",
          "name": "stdout",
          "text": [
            "Japan\n"
          ]
        }
      ]
    },
    {
      "cell_type": "code",
      "source": [
        "cities = {'Tokyo': 'Japan', 'Paris': 'France', 'London': 'UK'}\n",
        "print(cities.get('Paris', 'Unknown'))  # 顯示結果：France\n",
        "print(cities.get('New York', 'Unknown'))  # 顯示結果：Unknown\n",
        "# 註解：使用 get() 方法從字典中讀取 'Paris' 鍵的值，以及嘗試讀取不存在的 'New York' 鍵的值"
      ],
      "metadata": {
        "colab": {
          "base_uri": "https://localhost:8080/"
        },
        "id": "NnxWj_Lgwl83",
        "outputId": "a13834ed-9c92-4bbc-9aed-fed3ea7174cd"
      },
      "execution_count": null,
      "outputs": [
        {
          "output_type": "stream",
          "name": "stdout",
          "text": [
            "France\n",
            "Unknown\n"
          ]
        }
      ]
    },
    {
      "cell_type": "markdown",
      "source": [
        "###新增和修改字典元素\n",
        "由於字典是可變（mutable）的資料型態，所以可以輕易地修改其中的元素。\n",
        "\n",
        "可以使用 [] 賦值語法和 setdefault() 函式來新增或修改字典內的元素。\n",
        "\n",
        "###使用 [] 修改字典：\n",
        "使用 [] 加入欲修改值的鍵，然後使用 = 賦予新值。\n",
        "\n",
        "若要修改的值是列表，可在鍵後加上 [index] 來指定修改列表中的特定值。\n",
        "\n",
        "若指定的鍵不存在於字典中，則會新增一個鍵值對。\n",
        "範例：\n"
      ],
      "metadata": {
        "id": "s8YGE91_xgr8"
      }
    },
    {
      "cell_type": "code",
      "source": [
        "a = {'one': 1, 'two': 2, 'three': [1, 2, 3]}\n",
        "a['one'] = \"Yes\"  # 修改鍵 'one' 的值\n",
        "a['three'][1] = 1  # 修改鍵 'three' 對應的列表中的第二個元素\n",
        "a['four'] = \"GOOD\"  # 新增鍵 'four'\n",
        "print(a)  # 顯示結果：{'one': 'YES', 'two': 2, 'three': [1, 1, 3], 'four': 'GOOD'}"
      ],
      "metadata": {
        "colab": {
          "base_uri": "https://localhost:8080/"
        },
        "id": "RfWOv5JPxnda",
        "outputId": "569ec6b4-ffa5-4ace-f867-86b448c11aae"
      },
      "execution_count": null,
      "outputs": [
        {
          "output_type": "stream",
          "name": "stdout",
          "text": [
            "{'one': 'Yes', 'two': 2, 'three': [1, 1, 3], 'four': 'GOOD'}\n"
          ]
        }
      ]
    },
    {
      "cell_type": "markdown",
      "source": [
        "###使用 setdefault() 修改字典：\n",
        "\n",
        "setdefault() 用於設置字典中鍵的默認值。\n",
        "\n",
        "若指定的鍵不存在，則會將鍵和默認值作為新的項目添加到字典中。\n",
        "\n",
        "與 get() 不同，setdefault() 會修改字典。\n",
        "\n",
        "範例："
      ],
      "metadata": {
        "id": "WMkPkTd6yTj5"
      }
    },
    {
      "cell_type": "code",
      "source": [
        "a = {'one': 1, 'two': 2, 'three': [1, 2, 3]}\n",
        "a.setdefault('four', 100)  # 若 'four' 不存在，則新增 'four': 100\n",
        "print(a)  # 顯示結果：{'one': 'one', 'two': 2, 'three': [1, 1, 3], 'four': 100}"
      ],
      "metadata": {
        "colab": {
          "base_uri": "https://localhost:8080/"
        },
        "id": "BMY1sF9yyZmA",
        "outputId": "30fe0a35-effa-4e8b-e660-92072c4fe1d1"
      },
      "execution_count": null,
      "outputs": [
        {
          "output_type": "stream",
          "name": "stdout",
          "text": [
            "{'one': 1, 'two': 2, 'three': [1, 2, 3], 'four': 100}\n"
          ]
        }
      ]
    },
    {
      "cell_type": "markdown",
      "source": [
        "###新增、修改和創建字典小複習"
      ],
      "metadata": {
        "id": "daFfuPvV9hsX"
      }
    },
    {
      "cell_type": "code",
      "source": [
        "# 範例 1：創建和訪問字典\n",
        "person = {\"name\": \"亮亮\", \"age\": 25}\n",
        "print(\"Name:\", person[\"name\"])\n",
        "print(\"Age:\", person[\"age\"])"
      ],
      "metadata": {
        "id": "dak9KBsO9knL"
      },
      "execution_count": null,
      "outputs": []
    },
    {
      "cell_type": "code",
      "source": [
        "# 範例 2：修改字典中的值\n",
        "person[\"age\"] = 30\n",
        "print(\"Updated Age:\", person[\"age\"])"
      ],
      "metadata": {
        "id": "3W8XrhTT9p7h"
      },
      "execution_count": null,
      "outputs": []
    },
    {
      "cell_type": "code",
      "source": [
        "# 範例 3：增加新的鍵值對\n",
        "person[\"gender\"] = \"Man\"\n",
        "print(\"Person with gender:\", person)"
      ],
      "metadata": {
        "id": "XyvPLilY9rH0"
      },
      "execution_count": null,
      "outputs": []
    },
    {
      "cell_type": "markdown",
      "source": [
        "###元組（tuple）\n",
        "元組（tuple）就像一個不能改變內容的列表。\n",
        "想像一下，你有一個裝滿不同東西的購物籃，但這個購物籃被封死了，你<font color=\"red\">不能再往裡面添加東西，也不能拿走裡面的東西，甚至不能改變裡面東西的順序。</font>\n",
        "\n",
        "元組就有點像這樣，它可以裝很多不同類型的東西，比如數字、字串，甚至其他的列表或元組，但###<font color=\"red\">一旦創建了元組，裡面的東西就固定下來了，不能更改。</font>\n",
        "\n",
        "元組在Python中是用圓括號 () 表示的，裡面的東西用逗號隔開。比如，(1, 2, 3) 就是一個包含三個數字的元組。\n",
        "由於元組是不可變的，所以###<font color=\"red\">當你需要一組不會改變的數據時，使用元組會很有用，這保證了數據的穩定性和安全性。</font>"
      ],
      "metadata": {
        "id": "bnnYNT4J3lIa"
      }
    },
    {
      "cell_type": "markdown",
      "source": [
        "###元組（tuple）\n",
        "建立元組的方法：\n",
        "\n",
        "使用 () 或 tuple() 函式建立元組。\n",
        "若建立單一元素元組，元素後須加 , 以區分。\n",
        "\n",
        "###使用 () 建立元組：\n",
        "\n",
        "每個元素之間用 , 隔開。\n",
        "\n",
        "範例："
      ],
      "metadata": {
        "id": "zA92_j5o0yc7"
      }
    },
    {
      "cell_type": "code",
      "source": [
        "tuple1 = (1, 2, 3)\n",
        "tuple2 = (1,)\n",
        "tuple3 = (1)\n",
        "print(type(tuple1))  # <class 'tuple'>\n",
        "print(type(tuple2))  # <class 'tuple'>\n",
        "print(type(tuple3))  # <class 'int'>"
      ],
      "metadata": {
        "colab": {
          "base_uri": "https://localhost:8080/"
        },
        "id": "VVxQgPtS1TO1",
        "outputId": "27869be0-8efe-41c9-f374-bf17cf491c06"
      },
      "execution_count": null,
      "outputs": [
        {
          "output_type": "stream",
          "name": "stdout",
          "text": [
            "<class 'tuple'>\n",
            "<class 'tuple'>\n",
            "<class 'int'>\n"
          ]
        }
      ]
    },
    {
      "cell_type": "markdown",
      "source": [
        "###<font color=\"red\">亮亮叮嚀:</font>由上可知若單一元素後面沒加「，」符號,將不會建立元組。"
      ],
      "metadata": {
        "id": "iZP2K0ow1_Vc"
      }
    },
    {
      "cell_type": "markdown",
      "source": [
        "###使用 tuple() 函式建立元組：\n",
        "\n",
        "可將可迭代物件轉換為元組。\n",
        "\n",
        "整數、布林值等非可迭代物件無法轉換。\n",
        "\n",
        "範例："
      ],
      "metadata": {
        "id": "29jOBHd92fFC"
      }
    },
    {
      "cell_type": "code",
      "source": [
        "string = 'ABCDEFG'\n",
        "list = [1, 2, 3]\n",
        "dict = {'one': '1', 'two': '2', 'three': '3'}\n",
        "print(tuple(string))  # ('A', 'B', 'C', 'D', 'E', 'F', 'G')\n",
        "print(tuple(list))   # (1, 2, 3)\n",
        "print(tuple(dict))   # ('one', 'two', 'three')"
      ],
      "metadata": {
        "colab": {
          "base_uri": "https://localhost:8080/"
        },
        "id": "U6ZTVj3n2gsi",
        "outputId": "a7fa5c30-e8ba-472a-af48-b1cc0349e6f3"
      },
      "execution_count": null,
      "outputs": [
        {
          "output_type": "stream",
          "name": "stdout",
          "text": [
            "('A', 'B', 'C', 'D', 'E', 'F', 'G')\n",
            "(1, 2, 3)\n",
            "('one', 'two', 'three')\n"
          ]
        }
      ]
    },
    {
      "cell_type": "markdown",
      "source": [
        "###<font color=\"red\">建立元組（tuple）~練習時間</font>\n",
        "建立一個元組，其中包含：\n",
        "\n",
        "一個數字 25\n",
        "\n",
        "一個字串 \"Hello亮亮\"\n",
        "\n",
        "一個列表 [1, 2, 3, \"亮亮\"]\n",
        "\n",
        "一個字典，字典內包含鍵值對：{'key1': 'value1', 'key2': 2}\n",
        "\n",
        "編寫Python程式碼來建立這個元組，並印出來查看結果。\n"
      ],
      "metadata": {
        "id": "yOMLm84A6Idh"
      }
    },
    {
      "cell_type": "code",
      "source": [
        "# 建立元組解答1\n",
        "my_tuple = (25, \"Hello亮亮\", [1, 2, 3, \"亮亮\"], {'key1': 'value1', 'key2': 2})\n",
        "\n",
        "# 印出元組\n",
        "print(my_tuple)\n",
        "# 註解：打印出包含數字、字串、列表和字典的元組"
      ],
      "metadata": {
        "colab": {
          "base_uri": "https://localhost:8080/"
        },
        "id": "Zvor5Nhv6WTg",
        "outputId": "95c06c27-4458-4868-803a-1354322a2016"
      },
      "execution_count": null,
      "outputs": [
        {
          "output_type": "stream",
          "name": "stdout",
          "text": [
            "(25, 'Hello亮亮', [1, 2, 3, '亮亮'], {'key1': 'value1', 'key2': 2})\n"
          ]
        }
      ]
    },
    {
      "cell_type": "code",
      "source": [
        "# 使用 tuple() 函式建立元組解答2\n",
        "my_tuple = tuple([25, \"Hello亮亮\", [1, 2, 3, \"亮亮\"], {'key1': 'value1', 'key2': 2}])\n",
        "\n",
        "# 印出元組\n",
        "print(my_tuple)\n",
        "# 註解：使用 tuple() 函式建立並打印出包含數字、字串、列表和字典的元組"
      ],
      "metadata": {
        "colab": {
          "base_uri": "https://localhost:8080/"
        },
        "id": "M95Hr_zb7Ncw",
        "outputId": "82e65f41-77c0-43fa-fd1f-5c8ad550877f"
      },
      "execution_count": null,
      "outputs": [
        {
          "output_type": "stream",
          "name": "stdout",
          "text": [
            "(25, 'Hello亮亮', [1, 2, 3, '亮亮'], {'key1': 'value1', 'key2': 2})\n"
          ]
        }
      ]
    },
    {
      "cell_type": "markdown",
      "source": [
        "由於整數、布林值為「不可代的」資料型態,\n",
        "因此無法被tuple()函式轉換成元組型態。"
      ],
      "metadata": {
        "id": "g7zkxu9H7824"
      }
    },
    {
      "cell_type": "code",
      "source": [
        "a = 123456\n",
        "print(\"想要將整數轉換為元祖型態\",tuple(a))"
      ],
      "metadata": {
        "colab": {
          "base_uri": "https://localhost:8080/",
          "height": 165
        },
        "id": "Agn-kVdI8QNh",
        "outputId": "5e364c7a-8f49-4d84-bc84-fbe163b6acd3"
      },
      "execution_count": null,
      "outputs": [
        {
          "output_type": "error",
          "ename": "TypeError",
          "evalue": "'int' object is not iterable",
          "traceback": [
            "\u001b[0;31m---------------------------------------------------------------------------\u001b[0m",
            "\u001b[0;31mTypeError\u001b[0m                                 Traceback (most recent call last)",
            "\u001b[0;32m<ipython-input-52-3036fcda06d3>\u001b[0m in \u001b[0;36m<cell line: 2>\u001b[0;34m()\u001b[0m\n\u001b[1;32m      1\u001b[0m \u001b[0ma\u001b[0m \u001b[0;34m=\u001b[0m \u001b[0;36m123456\u001b[0m\u001b[0;34m\u001b[0m\u001b[0;34m\u001b[0m\u001b[0m\n\u001b[0;32m----> 2\u001b[0;31m \u001b[0mprint\u001b[0m\u001b[0;34m(\u001b[0m\u001b[0;34m\"想要將整數轉換為元祖型態\"\u001b[0m\u001b[0;34m,\u001b[0m\u001b[0mtuple\u001b[0m\u001b[0;34m(\u001b[0m\u001b[0ma\u001b[0m\u001b[0;34m)\u001b[0m\u001b[0;34m)\u001b[0m\u001b[0;34m\u001b[0m\u001b[0;34m\u001b[0m\u001b[0m\n\u001b[0m",
            "\u001b[0;31mTypeError\u001b[0m: 'int' object is not iterable"
          ]
        }
      ]
    },
    {
      "cell_type": "code",
      "source": [
        "b=True\n",
        "print(\"想要將布林值轉換為元祖型態\",tuple(b))"
      ],
      "metadata": {
        "colab": {
          "base_uri": "https://localhost:8080/",
          "height": 165
        },
        "id": "iZTscnRN8mTL",
        "outputId": "5267dff6-b6e2-41be-cacf-17803d27c28d"
      },
      "execution_count": null,
      "outputs": [
        {
          "output_type": "error",
          "ename": "TypeError",
          "evalue": "'bool' object is not iterable",
          "traceback": [
            "\u001b[0;31m---------------------------------------------------------------------------\u001b[0m",
            "\u001b[0;31mTypeError\u001b[0m                                 Traceback (most recent call last)",
            "\u001b[0;32m<ipython-input-53-1c5d7797b8c4>\u001b[0m in \u001b[0;36m<cell line: 2>\u001b[0;34m()\u001b[0m\n\u001b[1;32m      1\u001b[0m \u001b[0mb\u001b[0m\u001b[0;34m=\u001b[0m\u001b[0;32mTrue\u001b[0m\u001b[0;34m\u001b[0m\u001b[0;34m\u001b[0m\u001b[0m\n\u001b[0;32m----> 2\u001b[0;31m \u001b[0mprint\u001b[0m\u001b[0;34m(\u001b[0m\u001b[0;34m\"想要將布林值轉換為元祖型態\"\u001b[0m\u001b[0;34m,\u001b[0m\u001b[0mtuple\u001b[0m\u001b[0;34m(\u001b[0m\u001b[0mb\u001b[0m\u001b[0;34m)\u001b[0m\u001b[0;34m)\u001b[0m\u001b[0;34m\u001b[0m\u001b[0;34m\u001b[0m\u001b[0m\n\u001b[0m",
            "\u001b[0;31mTypeError\u001b[0m: 'bool' object is not iterable"
          ]
        }
      ]
    },
    {
      "cell_type": "markdown",
      "source": [
        "###讀取元組元素：\n",
        "\n",
        "元組內的每個元素都有一個對應的索引值（index），從0開始。\n",
        "\n",
        "使用索引值可以取得元組中對應位置的元素。\n",
        "\n",
        "###使用索引讀取元素範例：\n",
        "\n",
        "假設有一個元組 my_tuple = ('one', 'two', 'three', 'four', 'five')。\n",
        "\n",
        "取出第一個元素和第二個元素："
      ],
      "metadata": {
        "id": "HlZW1RML9p5N"
      }
    },
    {
      "cell_type": "code",
      "source": [
        "my_tuple = tuple([25, \"Hello亮亮\", [1, 2, 3, \"亮亮\"], {'key1': 'value1', 'key2': 2}])\n",
        "print(my_tuple[0])  # 顯示結果：25\n",
        "print(my_tuple[1])  # 顯示結果：Hello亮亮\n",
        "# 註解：使用索引值讀取元組中的元素"
      ],
      "metadata": {
        "colab": {
          "base_uri": "https://localhost:8080/"
        },
        "id": "55v_JEWU9uCY",
        "outputId": "d61abac4-77bc-4c63-e0d1-1b099f9ce9b8"
      },
      "execution_count": null,
      "outputs": [
        {
          "output_type": "stream",
          "name": "stdout",
          "text": [
            "25\n",
            "Hello亮亮\n"
          ]
        }
      ]
    },
    {
      "cell_type": "markdown",
      "source": [
        "###尋找元組內元素的索引值\n",
        "使用 index() 函式可以找出元組中特定元素的索引值。\n",
        "\n",
        "若元組中有多個相同的元素，index() 函式只會返回第一次出現的索引值。\n",
        "\n",
        "使用 index() 函式尋找元素範例：\n",
        "\n",
        "假設有一個元組  \n",
        "      my_tuple = tuple([25, \"Hello亮亮\", [1, 2, 3, \"亮亮\"], {'key1': 'value1', 'key2': 2}])\n",
        "\n",
        "要尋找數字 2 和字串 'one' 的索引值：\n"
      ],
      "metadata": {
        "id": "gEn9c6f8-kNL"
      }
    },
    {
      "cell_type": "code",
      "source": [
        "my_tuple = tuple([25, \"Hello亮亮\", [1, 2, 3, \"亮亮\"], {'key1': 'value1', 'key2': 2}])\n",
        "print(my_tuple.index([1, 2, 3, \"亮亮\"]))  # 顯示結果：2\n",
        "print(my_tuple.index(25))  # 顯示結果：0\n",
        "# 註解：使用 index() 函式尋找元組中特定元素的索引值"
      ],
      "metadata": {
        "colab": {
          "base_uri": "https://localhost:8080/"
        },
        "id": "xXUt5F-i-v-L",
        "outputId": "bcefced1-012c-44d5-a61a-3e5cc6c8f4f2"
      },
      "execution_count": null,
      "outputs": [
        {
          "output_type": "stream",
          "name": "stdout",
          "text": [
            "2\n",
            "0\n"
          ]
        }
      ]
    },
    {
      "cell_type": "markdown",
      "source": [
        "###認識函數: print()\n",
        "基本說明：\n",
        "\n",
        "print() 可以輸出字符串、數字以及其他多種數據類型。\n",
        "\n",
        "它可以接受多個參數，並在輸出時默認以空格將它們分隔。\n",
        "\n",
        "函數調用後會自動換行。若需要修改結尾字符，可以使用 end 參數。\n",
        "\n",
        "使用 sep 參數可以自定義輸出時參數之間的分隔符。"
      ],
      "metadata": {
        "id": "hYflN1rzAftw"
      }
    },
    {
      "cell_type": "code",
      "source": [
        "pi=3.1415926\n",
        "print(\"pi為:\",pi)\n",
        "\n",
        "a= 2030\n",
        "a=a+9\n",
        "print(\"a最後是:\",a)  #這裡我們也可以寫成a+=9\n"
      ],
      "metadata": {
        "colab": {
          "base_uri": "https://localhost:8080/"
        },
        "id": "pUqzk99TBLsT",
        "outputId": "6095e7c2-feec-4f74-b978-c2e173b4bd82"
      },
      "execution_count": null,
      "outputs": [
        {
          "output_type": "stream",
          "name": "stdout",
          "text": [
            "pi為: 3.1415926\n",
            "a最後是: 2039\n"
          ]
        }
      ]
    },
    {
      "cell_type": "code",
      "source": [
        "x=\"亮亮!亮亮!!\"\n",
        "y=\"GOGOGO!\"\n",
        "print(\"x+y:\",x + y)\n",
        "\n",
        "z = 100\n",
        "print(\"x+z:\",x +z)\n"
      ],
      "metadata": {
        "colab": {
          "base_uri": "https://localhost:8080/",
          "height": 201
        },
        "id": "wlrIRTUKB75M",
        "outputId": "9d72d115-b24d-4568-f854-09a1e621e806"
      },
      "execution_count": null,
      "outputs": [
        {
          "output_type": "stream",
          "name": "stdout",
          "text": [
            "x+y: 亮亮!亮亮!!GOGOGO!\n"
          ]
        },
        {
          "output_type": "error",
          "ename": "TypeError",
          "evalue": "can only concatenate str (not \"int\") to str",
          "traceback": [
            "\u001b[0;31m---------------------------------------------------------------------------\u001b[0m",
            "\u001b[0;31mTypeError\u001b[0m                                 Traceback (most recent call last)",
            "\u001b[0;32m<ipython-input-61-9a98120ff3ce>\u001b[0m in \u001b[0;36m<cell line: 6>\u001b[0;34m()\u001b[0m\n\u001b[1;32m      4\u001b[0m \u001b[0;34m\u001b[0m\u001b[0m\n\u001b[1;32m      5\u001b[0m \u001b[0mz\u001b[0m \u001b[0;34m=\u001b[0m \u001b[0;36m100\u001b[0m\u001b[0;34m\u001b[0m\u001b[0;34m\u001b[0m\u001b[0m\n\u001b[0;32m----> 6\u001b[0;31m \u001b[0mprint\u001b[0m\u001b[0;34m(\u001b[0m\u001b[0;34m\"x+z:\"\u001b[0m\u001b[0;34m,\u001b[0m\u001b[0mx\u001b[0m \u001b[0;34m+\u001b[0m\u001b[0mz\u001b[0m\u001b[0;34m)\u001b[0m\u001b[0;34m\u001b[0m\u001b[0;34m\u001b[0m\u001b[0m\n\u001b[0m",
            "\u001b[0;31mTypeError\u001b[0m: can only concatenate str (not \"int\") to str"
          ]
        }
      ]
    },
    {
      "cell_type": "markdown",
      "source": [
        "驗證轉換型態後是否相同?!"
      ],
      "metadata": {
        "id": "hSlpZ1DDC_Em"
      }
    },
    {
      "cell_type": "code",
      "source": [
        "a=25\n",
        "y=\"你好棒!\"\n",
        "print(type(str(x))==type(y) )    #str()轉換型態為字串"
      ],
      "metadata": {
        "colab": {
          "base_uri": "https://localhost:8080/"
        },
        "id": "Pv10tYbIDOTt",
        "outputId": "cfd11b77-7791-472c-fa53-835e104aff07"
      },
      "execution_count": null,
      "outputs": [
        {
          "output_type": "stream",
          "name": "stdout",
          "text": [
            "True\n"
          ]
        }
      ]
    },
    {
      "cell_type": "markdown",
      "source": [
        "###print~sep 參數\n",
        "sep 參數用於定義 print() 函數中，多個輸出物件之間的分隔符號。\n",
        "\n",
        "默認的 sep 參數值是一個空格 ' '。\n",
        "\n",
        "如果你想用不同的字符來分隔輸出，可以自訂 sep 的值。\n",
        "\n",
        "範例："
      ],
      "metadata": {
        "id": "N9gFYaHRFdQm"
      }
    },
    {
      "cell_type": "markdown",
      "source": [
        "###<font color=\"red\">使用默認的 sep（空格）：</font>"
      ],
      "metadata": {
        "id": "IkKpiRMTFoTc"
      }
    },
    {
      "cell_type": "code",
      "source": [],
      "metadata": {
        "id": "88xtXVktG09Y"
      },
      "execution_count": null,
      "outputs": []
    },
    {
      "cell_type": "code",
      "source": [
        "print('亮亮', '是', '身高很高的高個嗎?')  # 輸出：亮亮 是 身高很高的高個嗎?"
      ],
      "metadata": {
        "colab": {
          "base_uri": "https://localhost:8080/"
        },
        "id": "VqCjL6AsFtnT",
        "outputId": "3069264a-274f-4f78-dd97-78562ba1a557"
      },
      "execution_count": null,
      "outputs": [
        {
          "output_type": "stream",
          "name": "stdout",
          "text": [
            "亮亮 是 身高很高的高個嗎?\n"
          ]
        }
      ]
    },
    {
      "cell_type": "markdown",
      "source": [
        "###<font color=\"red\">使用自定義的 sep（逗號）：</font>"
      ],
      "metadata": {
        "id": "kuYb1kcQGvsW"
      }
    },
    {
      "cell_type": "code",
      "source": [
        "print('亮亮', '是', '身高很高的高個嗎?', sep=',')  # 輸出：亮亮,是,身高很高的高個嗎?"
      ],
      "metadata": {
        "colab": {
          "base_uri": "https://localhost:8080/"
        },
        "id": "Lfvm8K3FG-18",
        "outputId": "f107d66d-ef29-4644-9a24-88bd3fb9e702"
      },
      "execution_count": null,
      "outputs": [
        {
          "output_type": "stream",
          "name": "stdout",
          "text": [
            "亮亮,是,身高很高的高個嗎?\n"
          ]
        }
      ]
    },
    {
      "cell_type": "markdown",
      "source": [
        "###<font color=\"red\">使用自定義的 sep（星號）：</font>"
      ],
      "metadata": {
        "id": "UiWN4TJ4HaJU"
      }
    },
    {
      "cell_type": "code",
      "source": [
        "print('亮亮', '是', '身高很高的高個嗎?', sep='*')  # 輸出：亮亮*是*身高很高的高個嗎?"
      ],
      "metadata": {
        "colab": {
          "base_uri": "https://localhost:8080/"
        },
        "id": "oajrk0uCHkbF",
        "outputId": "0a78d21d-a1c4-48de-ba52-f71ec8ac505d"
      },
      "execution_count": null,
      "outputs": [
        {
          "output_type": "stream",
          "name": "stdout",
          "text": [
            "亮亮*是*身高很高的高個嗎?\n"
          ]
        }
      ]
    },
    {
      "cell_type": "markdown",
      "source": [
        "###<font color=\"red\">使用自定義的 sep（|）：</font>"
      ],
      "metadata": {
        "id": "14ZMhD-MyJkV"
      }
    },
    {
      "cell_type": "code",
      "source": [
        "a = \"亮亮\"\n",
        "b = \"Hello\"\n",
        "print(a, b, sep=\"|\")  #印出 a 和 b 兩個變數，並且以「|」將變數之間區隔。"
      ],
      "metadata": {
        "colab": {
          "base_uri": "https://localhost:8080/"
        },
        "id": "olyaPr9vyYj_",
        "outputId": "2110f9ba-0264-4439-acdc-42b67400a969"
      },
      "execution_count": null,
      "outputs": [
        {
          "output_type": "stream",
          "name": "stdout",
          "text": [
            "亮亮|Hello\n"
          ]
        }
      ]
    },
    {
      "cell_type": "markdown",
      "source": [
        "###end 參數\n",
        "end 參數用於定義 print() 函數完成後所附加的結尾字符。\n",
        "\n",
        "默認的 end 參數值是換行符號 '\\n'，意味著每次 print() 後會自動換行。\n",
        "\n",
        "如果你想在輸出結束後不換行或添加特定的字符，可以自訂 end 的值。\n",
        "\n",
        "範例："
      ],
      "metadata": {
        "id": "KPCv_YnzwVpy"
      }
    },
    {
      "cell_type": "markdown",
      "source": [
        "使用默認的 end（自動換行）："
      ],
      "metadata": {
        "id": "yaeIciDPwffg"
      }
    },
    {
      "cell_type": "code",
      "source": [
        "print('亮亮')  # 輸出後會自動換行\n",
        "print('身高180')  # 會在新的一行輸出"
      ],
      "metadata": {
        "id": "tpFd0_XWwly9"
      },
      "execution_count": null,
      "outputs": []
    },
    {
      "cell_type": "markdown",
      "source": [
        "使用自定義的 end（逗號和空格）："
      ],
      "metadata": {
        "id": "VvVPFz0yw0jA"
      }
    },
    {
      "cell_type": "code",
      "source": [
        "print('亮亮', end=', ')  # 輸出：亮亮,\n",
        "print('身高180')         # 繼續在同一行輸出：亮亮, 身高180"
      ],
      "metadata": {
        "colab": {
          "base_uri": "https://localhost:8080/"
        },
        "id": "Jv1pNj26w1o7",
        "outputId": "92561ee8-6bec-4545-ecd9-46b08576e383"
      },
      "execution_count": null,
      "outputs": [
        {
          "output_type": "stream",
          "name": "stdout",
          "text": [
            "亮亮, 身高180\n"
          ]
        }
      ]
    },
    {
      "cell_type": "markdown",
      "source": [
        "使用自定義的 end（不換行）："
      ],
      "metadata": {
        "id": "Pj-mP47jxIq0"
      }
    },
    {
      "cell_type": "code",
      "source": [
        "print('亮亮', end='')  # 輸出後不會換行\n",
        "print('身高180', end='')  # 繼續在同一行輸出：亮亮身高180"
      ],
      "metadata": {
        "colab": {
          "base_uri": "https://localhost:8080/"
        },
        "id": "-xd5ES5LxJfS",
        "outputId": "4d7c36aa-4ebf-4b68-8d3b-5a10d34db5d5"
      },
      "execution_count": null,
      "outputs": [
        {
          "output_type": "stream",
          "name": "stdout",
          "text": [
            "亮亮身高180"
          ]
        }
      ]
    },
    {
      "cell_type": "code",
      "source": [],
      "metadata": {
        "id": "th3B0_5bzObX"
      },
      "execution_count": null,
      "outputs": []
    },
    {
      "cell_type": "markdown",
      "source": [
        "使用自定義的 end（換行）："
      ],
      "metadata": {
        "id": "S3dEt1JWy7Q6"
      }
    },
    {
      "cell_type": "code",
      "source": [
        "a = \"亮亮\"\n",
        "b = \"Word\"\n",
        "print(a, end=\"\\n\")    #「\\n」即是換行的意思\n",
        "print(b, end=\".\")"
      ],
      "metadata": {
        "colab": {
          "base_uri": "https://localhost:8080/"
        },
        "id": "_3u-yhkBy8WG",
        "outputId": "ce020e55-41e9-487e-ba93-0793deb71f8f"
      },
      "execution_count": null,
      "outputs": [
        {
          "output_type": "stream",
          "name": "stdout",
          "text": [
            "亮亮\n",
            "Word."
          ]
        }
      ]
    },
    {
      "cell_type": "markdown",
      "source": [
        "###<font color=\"red\">sep、end 參數~練習時間</font>\n",
        "\n",
        "a = \"apple\"\n",
        "\n",
        "b = \"banana\"\n",
        "\n",
        "c = \"cherry\"\n",
        "\n",
        "d = \"dragon fruit\"\n",
        "\n",
        "我們想要將這些變數印成一列，以逗號將其區隔，並在結尾處加上一個句號"
      ],
      "metadata": {
        "id": "78-B-Vy5z73l"
      }
    },
    {
      "cell_type": "code",
      "source": [
        "a = \"apple\"\n",
        "b = \"banana\"\n",
        "c = \"cherry\"\n",
        "d = \"dragon fruit\"\n",
        "print(a, b, c, d, sep=\", \", end=\".\")"
      ],
      "metadata": {
        "colab": {
          "base_uri": "https://localhost:8080/"
        },
        "id": "4eWOzWwv0m6J",
        "outputId": "6ae3b7ce-879a-41e8-dc1e-24969274fd27"
      },
      "execution_count": null,
      "outputs": [
        {
          "output_type": "stream",
          "name": "stdout",
          "text": [
            "apple, banana, cherry, dragon fruit."
          ]
        }
      ]
    },
    {
      "cell_type": "markdown",
      "source": [
        "###列印格式化字符串"
      ],
      "metadata": {
        "id": "UnCmYIKp2awT"
      }
    },
    {
      "cell_type": "code",
      "source": [
        "# 1. 基本列印\n",
        "print(\"Hello, world!\")  # 直接列印字符串\n",
        "\n",
        "# 2. 列印變數\n",
        "greeting = \"Hello, Python!\"\n",
        "print(greeting)  # 列印變數的值\n",
        "\n",
        "# 3. 列印多個項目\n",
        "name = \"Python\"\n",
        "version = 3.9\n",
        "print(name, \"version\", version)  # 列印多個項目，預設以空格分隔\n",
        "\n",
        "# 4. 列印含有運算的表達式\n",
        "a = 5\n",
        "b = 2\n",
        "print(\"a + b =\", a + b)  # 列印運算結果\n",
        "\n",
        "# 5. 列印格式化字符串\n",
        "temperature = 26.5\n",
        "print(f\"The current temperature is {temperature} degrees Celsius.\")  # 使用f-string進行格式化列印"
      ],
      "metadata": {
        "colab": {
          "base_uri": "https://localhost:8080/"
        },
        "id": "uzV7wXpG2d-g",
        "outputId": "fa04b916-2463-4e0f-9000-0bb010ab40c8"
      },
      "execution_count": null,
      "outputs": [
        {
          "output_type": "stream",
          "name": "stdout",
          "text": [
            "Hello, world!\n",
            "Hello, Python!\n",
            "Python version 3.9\n",
            "a + b = 7\n",
            "The current temperature is 26.5 degrees Celsius.\n"
          ]
        }
      ]
    },
    {
      "cell_type": "markdown",
      "source": [
        "###這裡有幾個使用f-string進行格式化列印的實際範例："
      ],
      "metadata": {
        "id": "aWYI8avM3WC5"
      }
    },
    {
      "cell_type": "code",
      "source": [
        "# 使用 f-string 進行格式化列印的例子\n",
        "\n",
        "# 範例 1：基本使用\n",
        "name = \"Python\"\n",
        "version = 3.9\n",
        "print(f\"{name} version {version}\")"
      ],
      "metadata": {
        "colab": {
          "base_uri": "https://localhost:8080/"
        },
        "id": "msurFOnp3X4F",
        "outputId": "15c516b8-3905-4417-c42f-9b5541f34504"
      },
      "execution_count": null,
      "outputs": [
        {
          "output_type": "stream",
          "name": "stdout",
          "text": [
            "Python version 3.9\n"
          ]
        }
      ]
    },
    {
      "cell_type": "code",
      "source": [
        "# 範例 2：運算式內嵌\n",
        "a = 5\n",
        "b = 2\n",
        "print(f\"{a} + {b} = {a + b}\")"
      ],
      "metadata": {
        "colab": {
          "base_uri": "https://localhost:8080/"
        },
        "id": "ejyIcBLp4Lre",
        "outputId": "89a12027-5557-4db1-9d92-149ae8584cd2"
      },
      "execution_count": null,
      "outputs": [
        {
          "output_type": "stream",
          "name": "stdout",
          "text": [
            "5 + 2 = 7\n"
          ]
        }
      ]
    },
    {
      "cell_type": "code",
      "source": [
        "# 範例 3：控制小數點位數\n",
        "pi = 3.14159\n",
        "print(f\"取Pi 到小數點後第2位: {pi:.2f}\")"
      ],
      "metadata": {
        "colab": {
          "base_uri": "https://localhost:8080/"
        },
        "id": "dBFfrW4e5B3j",
        "outputId": "a12900af-bf38-4434-b9fc-732b1b48264e"
      },
      "execution_count": null,
      "outputs": [
        {
          "output_type": "stream",
          "name": "stdout",
          "text": [
            "取Pi 到小數點後第2位: 3.14\n"
          ]
        }
      ]
    },
    {
      "cell_type": "code",
      "source": [
        "# 範例 4：字串格式化\n",
        "greeting = \"hello\"\n",
        "\n",
        "#字符串的 title() 方法。這個方法會將字符串 greeting（即 \"hello\"）中的首字母轉換為大寫，結果是 \"Hello\"。\n",
        "print(f\"{greeting.title()}, {name}!\")"
      ],
      "metadata": {
        "colab": {
          "base_uri": "https://localhost:8080/"
        },
        "id": "Fy-aV1FL5Yfm",
        "outputId": "a53f4477-ac37-4df1-9832-b978d7fa34ee"
      },
      "execution_count": null,
      "outputs": [
        {
          "output_type": "stream",
          "name": "stdout",
          "text": [
            "Hello, Python!\n"
          ]
        }
      ]
    },
    {
      "cell_type": "code",
      "source": [
        "# 範例 5：使用字典\n",
        "#創建了一個名為 person 的字典，其中包含兩個鍵值對：\"name\": \"亮亮\" 和 \"age\": 25。\n",
        "#person字典 有兩個鍵：\"name\" 和 \"age\"，對應的值分別是字符串 \"亮亮\" 和整數 25。\n",
        "person = {\"name\": \"亮亮\", \"age\": 25}\n",
        "\n",
        "#{person['name']} 會被替換為字典 person 中鍵 \"name\" 對應的值，即 \"亮亮\"。\n",
        "#{person['age']} 會被替換為字典 person 中鍵 \"age\" 對應的值，即 25。\n",
        "print(f\"{person['name']} is {person['age']} years old.\")"
      ],
      "metadata": {
        "colab": {
          "base_uri": "https://localhost:8080/"
        },
        "id": "Te7JmjVj6Wym",
        "outputId": "c683807a-5ccb-4857-fbeb-3d40662abcfd"
      },
      "execution_count": null,
      "outputs": [
        {
          "output_type": "stream",
          "name": "stdout",
          "text": [
            "亮亮 is 25 years old.\n"
          ]
        }
      ]
    },
    {
      "cell_type": "markdown",
      "source": [
        "###格式化字串符範例"
      ],
      "metadata": {
        "id": "hMfxo1MO-wx-"
      }
    },
    {
      "cell_type": "code",
      "source": [
        "# 格式化規範符號的範例\n",
        "\n",
        "# 範例 1：控制小數點位數\n",
        "pi = 3.14159\n",
        "#\":.2f\" 用於將浮點數格式化為兩位小數。\n",
        "print(f\"Pi to two decimal places: {pi:.2f}\")\n",
        "\n",
        "# 範例 2：設定固定寬度\n",
        "number = 42\n",
        "#\":10d\" 用於將整數格式化為固定寬度10個字符。\n",
        "print(f\"Number with fixed width: {number:10d}\")\n",
        "\n",
        "# 範例 3：設定固定寬度並居中\n",
        "#^10d\" 用於將整數居中並設定固定寬度為10。 # ^是居中對其的意思 #整數的左右兩側均勻地補上空格，以使整個字符串居中且長度為 10。\n",
        "print(f\"Centered number: {number:^10d}\")\n",
        "\n",
        "# 範例 4：顯示百分比\n",
        "percentage = 0.75698\n",
        "#\".1%\" 用於將小數格式化為百分比，保留一位小數。\n",
        "print(f\"Percentage: {percentage:.1%}\")\n",
        "\n",
        "# 範例 5：以千位分隔符顯示數字\n",
        "large_number = 123456789\n",
        "#\"1,000\" 用於以千位分隔符顯示數字。\n",
        "print(f\"Large number with comma: {large_number:,}\")"
      ],
      "metadata": {
        "colab": {
          "base_uri": "https://localhost:8080/"
        },
        "id": "ktJCTJT6-3bu",
        "outputId": "a0b4b77b-365a-43da-800d-c3c556ff9b47"
      },
      "execution_count": null,
      "outputs": [
        {
          "output_type": "stream",
          "name": "stdout",
          "text": [
            "Pi to two decimal places: 3.14\n",
            "Number with fixed width:         42\n",
            "Centered number:     42    \n",
            "Percentage: 75.7%\n",
            "Large number with comma: 123,456,789\n"
          ]
        }
      ]
    },
    {
      "cell_type": "markdown",
      "source": [
        "###元素的截取"
      ],
      "metadata": {
        "id": "c1B_7CzfD0PE"
      }
    },
    {
      "cell_type": "code",
      "source": [
        "string = \"我是一個年輕有為的好國民\"\n",
        "\n",
        "print(string[0])\n",
        "print(string[0:2])\n",
        "print(string[:2])\n",
        "print(string[2:])\n",
        "print(string[-2:])\n",
        "print(string[0:5:2])\n",
        "print(string[::3])"
      ],
      "metadata": {
        "colab": {
          "base_uri": "https://localhost:8080/"
        },
        "id": "20bsXguZD3Qh",
        "outputId": "9843df08-066a-445a-ebd1-d81ef758cd17"
      },
      "execution_count": null,
      "outputs": [
        {
          "output_type": "stream",
          "name": "stdout",
          "text": [
            "我\n",
            "我是\n",
            "我是\n",
            "一個年輕有為的好國民\n",
            "國民\n",
            "我一年\n",
            "我個有好\n"
          ]
        }
      ]
    },
    {
      "cell_type": "code",
      "source": [
        "string = \"我是一個年輕有為的好國民\"\n",
        "# 定義一個名為 string 的字符串變數，內容為 \"我是一個年輕有為的好國民\"\n",
        "\n",
        "print(string[0])\n",
        "# 輸出字符串的第一個字符（索引為 0），結果為 \"我\"\n",
        "\n",
        "print(string[0:2])\n",
        "# 輸出字符串從索引 0（含）到索引 2（不含）的部分，結果為 \"我是\"\n",
        "\n",
        "print(string[:2])\n",
        "# 輸出字符串從開始到索引 2（不含）的部分，因為開始索引未指定，默認從 0 開始，結果為 \"我是\"\n",
        "\n",
        "print(string[2:])\n",
        "# 輸出字符串從索引 2（含）到末尾的部分，因為終止索引未指定，默認到字符串末尾，結果為 \"一個年輕有為的好國民\"\n",
        "\n",
        "print(string[-2:])\n",
        "# 輸出字符串的最後兩個字符，結果為 \"國民\"\n",
        "\n",
        "print(string[0:5:2])\n",
        "# 使用步長為 2 輸出字符串，從索引 0（含）到索引 5（不含），結果為 \"我一年\"\n",
        "\n",
        "print(string[::3])\n",
        "# 使用步長為 3 輸出整個字符串，從開始到結尾，結果為 \"我個有好\""
      ],
      "metadata": {
        "colab": {
          "base_uri": "https://localhost:8080/"
        },
        "id": "PHJjJGG2EwpO",
        "outputId": "0600ced4-c4b1-4526-d2c4-041264f6ab3b"
      },
      "execution_count": null,
      "outputs": [
        {
          "output_type": "stream",
          "name": "stdout",
          "text": [
            "我\n",
            "我是\n",
            "我是\n",
            "一個年輕有為的好國民\n",
            "國民\n",
            "我一年\n",
            "我個有好\n"
          ]
        }
      ]
    },
    {
      "cell_type": "markdown",
      "source": [
        "###input() 函數"
      ],
      "metadata": {
        "id": "J1BclC89hekA"
      }
    },
    {
      "cell_type": "markdown",
      "source": [
        "\n",
        "●有時候，我們除了輸出之外，也會想要從使用者那邊得到輸入的值。\n",
        "\n",
        "●在 Python 中，獲得使用者輸入的值是相當簡單的。\n"
      ],
      "metadata": {
        "id": "-4BudaQvhrfr"
      }
    },
    {
      "cell_type": "markdown",
      "source": [
        "input() 函數是 Python 中一個內置函數，用於從用戶那裡獲取鍵盤輸入。\n",
        "\n",
        "當 input() 函數執行時，程序會暫停，等待用戶輸入文本並按下Enter鍵。\n",
        "\n",
        "輸入的文本將以字符串的形式返回。"
      ],
      "metadata": {
        "id": "N_AZPkzOjNgD"
      }
    },
    {
      "cell_type": "markdown",
      "source": [
        "\n",
        "input() 函數基本格式\n",
        "\n",
        "變數=input(          )\n",
        "\n"
      ],
      "metadata": {
        "id": "nMh3HkeFjYEd"
      }
    },
    {
      "cell_type": "code",
      "source": [
        "name = input(\"Enter your name: \")\n",
        "print(\"歡迎來到亮亮樂園\", name)"
      ],
      "metadata": {
        "colab": {
          "base_uri": "https://localhost:8080/"
        },
        "id": "Xn2w41tUh9VH",
        "outputId": "a8b22a56-b1a7-4c73-e575-02e9e490c46f"
      },
      "execution_count": null,
      "outputs": [
        {
          "output_type": "stream",
          "name": "stdout",
          "text": [
            "Enter your name: 小輪子\n",
            "歡迎來到亮亮樂園 小輪子\n"
          ]
        }
      ]
    },
    {
      "cell_type": "markdown",
      "source": [
        "prompt 是一個可選參數，用於顯示給用戶的提示信息。\n",
        "\n",
        "使用 input() 時，你可以提供一個字符串作為提示信息，指導用戶輸入相關信息。\n",
        "\n",
        "這個提示信息將在用戶輸入之前顯示。"
      ],
      "metadata": {
        "id": "8b4pw66PjvQT"
      }
    },
    {
      "cell_type": "code",
      "source": [
        "# 無提示信息的基本用法\n",
        "name = input()\n",
        "print(f\"Hello, {name}!\")"
      ],
      "metadata": {
        "colab": {
          "base_uri": "https://localhost:8080/"
        },
        "id": "9ImfTb4wj5_W",
        "outputId": "9985fe89-f15c-4571-a973-2dd87fe35b73"
      },
      "execution_count": null,
      "outputs": [
        {
          "output_type": "stream",
          "name": "stdout",
          "text": [
            "亮亮\n",
            "Hello, 亮亮!\n"
          ]
        }
      ]
    },
    {
      "cell_type": "code",
      "source": [
        "# 帶有提示信息的用法\n",
        "age = input(\"Enter your age: \")\n",
        "print(f\"You are {age} years old.\")"
      ],
      "metadata": {
        "colab": {
          "base_uri": "https://localhost:8080/"
        },
        "id": "gMPWTO3gkBu_",
        "outputId": "a162edff-c332-411e-94b2-339b0dfb2eb1"
      },
      "execution_count": null,
      "outputs": [
        {
          "output_type": "stream",
          "name": "stdout",
          "text": [
            "Enter your age: 25\n",
            "You are 25 years old.\n"
          ]
        }
      ]
    },
    {
      "cell_type": "code",
      "source": [
        "# 用於決策的例子\n",
        "answer = input(\"Do you like Python? (yes/no) \")\n",
        "if answer.lower() == \"yes\":\n",
        "    print(\"That's great!\")\n",
        "else:\n",
        "    print(\"That's okay, maybe you'll like it more later.\")\n"
      ],
      "metadata": {
        "colab": {
          "base_uri": "https://localhost:8080/"
        },
        "id": "n5OS2VcPkKCC",
        "outputId": "9a6791a1-0f61-4b67-e255-d7220122708c"
      },
      "execution_count": null,
      "outputs": [
        {
          "output_type": "stream",
          "name": "stdout",
          "text": [
            "Do you like Python? (yes/no) yes\n",
            "That's great!\n"
          ]
        }
      ]
    }
  ]
}